{
  "nbformat": 4,
  "nbformat_minor": 0,
  "metadata": {
    "colab": {
      "name": "Expert_finding_v2.ipynb",
      "provenance": [],
      "collapsed_sections": [
        "mNchs-3XgIUj",
        "4k21PEIPT59P",
        "AZHDhQyHjw2T",
        "ZRc1hUEfMdrS"
      ],
      "toc_visible": true,
      "machine_shape": "hm"
    },
    "kernelspec": {
      "name": "python3",
      "display_name": "Python 3"
    }
  },
  "cells": [
    {
      "cell_type": "markdown",
      "metadata": {
        "id": "mNchs-3XgIUj",
        "colab_type": "text"
      },
      "source": [
        "## Data Collection"
      ]
    },
    {
      "cell_type": "markdown",
      "metadata": {
        "id": "-bvwIyj89t8A",
        "colab_type": "text"
      },
      "source": [
        "from google.colab import drive\n",
        "drive.mount('/content/drive')"
      ]
    },
    {
      "cell_type": "code",
      "metadata": {
        "id": "sCHfYnX7I5vU",
        "colab_type": "code",
        "outputId": "5e6d3f5e-8268-44bd-fd84-d6edcb15dc12",
        "colab": {
          "base_uri": "https://localhost:8080/",
          "height": 35
        }
      },
      "source": [
        "import os\n",
        "os.getcwd()"
      ],
      "execution_count": 0,
      "outputs": [
        {
          "output_type": "execute_result",
          "data": {
            "text/plain": [
              "'/content'"
            ]
          },
          "metadata": {
            "tags": []
          },
          "execution_count": 6
        }
      ]
    },
    {
      "cell_type": "code",
      "metadata": {
        "id": "U_lS4BSv98oU",
        "colab_type": "code",
        "outputId": "5c6c86c0-45aa-4fd2-dea5-ec27545fbe2e",
        "colab": {
          "base_uri": "https://localhost:8080/",
          "height": 72
        }
      },
      "source": [
        "!pip install pyunpack\n",
        "!pip install patool\n",
        "from pyunpack import Archive\n",
        "# Archive('/content/drive/My Drive/Expert_Finding/citation-network1.zip').extractall(\"/content/drive/My Drive/Expert_Finding\")"
      ],
      "execution_count": 0,
      "outputs": [
        {
          "output_type": "stream",
          "text": [
            "Requirement already satisfied: pyunpack in /usr/local/lib/python3.6/dist-packages (0.1.2)\n",
            "Requirement already satisfied: easyprocess in /usr/local/lib/python3.6/dist-packages (from pyunpack) (0.2.10)\n",
            "Requirement already satisfied: patool in /usr/local/lib/python3.6/dist-packages (1.12)\n"
          ],
          "name": "stdout"
        }
      ]
    },
    {
      "cell_type": "code",
      "metadata": {
        "id": "pLzQjDMk_Gz4",
        "colab_type": "code",
        "outputId": "637ddbf6-c872-4a3a-ecbe-232ab23cb626",
        "colab": {
          "base_uri": "https://localhost:8080/",
          "height": 721
        }
      },
      "source": [
        "import pandas as pd\n",
        "\n",
        "data={}\n",
        "with open('/content/drive/My Drive/Expert_Finding/citation-network.txt', 'r') as f:\n",
        "  l = f.readlines()\n",
        "  # print(l[6]=='\\n')\n",
        "  d={}\n",
        "  started = 0\n",
        "  index = 0\n",
        "  for line in l:\n",
        "    if(line[:2] == '#*'):\n",
        "      if(started == 1):\n",
        "        if(d.get('ref') != None):\n",
        "          d['n_ref'] = len(d['ref'])\n",
        "        else:\n",
        "          d['n_ref'] = 0\n",
        "        data[index]=d\n",
        "        d=dict({})\n",
        "      d['title'] = line[2:-1]\n",
        "      if(started == 0):\n",
        "        started = 1\n",
        "      continue\n",
        "    if(line[:2] == '#@'):\n",
        "      d['author'] = line[2:-1].split(',')\n",
        "      continue\n",
        "    if(line[:2] == '#t'):\n",
        "      d['year'] = line[2:-1]\n",
        "      continue\n",
        "    if(line[:2] == '#i'):\n",
        "      index = line[6:-1]\n",
        "      continue\n",
        "    if(line[:2] == '#%'):\n",
        "      if(d.get('ref') == None):\n",
        "        d['ref'] = []\n",
        "      d['ref'].append(line[2:-1])\n",
        "      continue\n",
        "    if(line[:2] == '#!'):\n",
        "      d['abstract'] = line[2:-1]\n",
        "      # print(d)\n",
        "      continue\n",
        "dataframe = pd.DataFrame(data)\n",
        "dataframe"
      ],
      "execution_count": 0,
      "outputs": [
        {
          "output_type": "execute_result",
          "data": {
            "text/html": [
              "<div>\n",
              "<style scoped>\n",
              "    .dataframe tbody tr th:only-of-type {\n",
              "        vertical-align: middle;\n",
              "    }\n",
              "\n",
              "    .dataframe tbody tr th {\n",
              "        vertical-align: top;\n",
              "    }\n",
              "\n",
              "    .dataframe thead th {\n",
              "        text-align: right;\n",
              "    }\n",
              "</style>\n",
              "<table border=\"1\" class=\"dataframe\">\n",
              "  <thead>\n",
              "    <tr style=\"text-align: right;\">\n",
              "      <th></th>\n",
              "      <th>0</th>\n",
              "      <th>1</th>\n",
              "      <th>2</th>\n",
              "      <th>3</th>\n",
              "      <th>4</th>\n",
              "      <th>5</th>\n",
              "      <th>6</th>\n",
              "      <th>7</th>\n",
              "      <th>8</th>\n",
              "      <th>9</th>\n",
              "      <th>10</th>\n",
              "      <th>11</th>\n",
              "      <th>12</th>\n",
              "      <th>13</th>\n",
              "      <th>14</th>\n",
              "      <th>15</th>\n",
              "      <th>16</th>\n",
              "      <th>17</th>\n",
              "      <th>18</th>\n",
              "      <th>19</th>\n",
              "      <th>20</th>\n",
              "      <th>21</th>\n",
              "      <th>22</th>\n",
              "      <th>23</th>\n",
              "      <th>24</th>\n",
              "      <th>25</th>\n",
              "      <th>26</th>\n",
              "      <th>27</th>\n",
              "      <th>28</th>\n",
              "      <th>29</th>\n",
              "      <th>30</th>\n",
              "      <th>31</th>\n",
              "      <th>32</th>\n",
              "      <th>33</th>\n",
              "      <th>34</th>\n",
              "      <th>35</th>\n",
              "      <th>36</th>\n",
              "      <th>37</th>\n",
              "      <th>38</th>\n",
              "      <th>39</th>\n",
              "      <th>...</th>\n",
              "      <th>629773</th>\n",
              "      <th>629774</th>\n",
              "      <th>629775</th>\n",
              "      <th>629776</th>\n",
              "      <th>629777</th>\n",
              "      <th>629778</th>\n",
              "      <th>629779</th>\n",
              "      <th>629780</th>\n",
              "      <th>629781</th>\n",
              "      <th>629782</th>\n",
              "      <th>629783</th>\n",
              "      <th>629784</th>\n",
              "      <th>629785</th>\n",
              "      <th>629786</th>\n",
              "      <th>629787</th>\n",
              "      <th>629788</th>\n",
              "      <th>629789</th>\n",
              "      <th>629790</th>\n",
              "      <th>629791</th>\n",
              "      <th>629792</th>\n",
              "      <th>629793</th>\n",
              "      <th>629794</th>\n",
              "      <th>629795</th>\n",
              "      <th>629796</th>\n",
              "      <th>629797</th>\n",
              "      <th>629798</th>\n",
              "      <th>629799</th>\n",
              "      <th>629800</th>\n",
              "      <th>629801</th>\n",
              "      <th>629802</th>\n",
              "      <th>629803</th>\n",
              "      <th>629804</th>\n",
              "      <th>629805</th>\n",
              "      <th>629806</th>\n",
              "      <th>629807</th>\n",
              "      <th>629808</th>\n",
              "      <th>629809</th>\n",
              "      <th>629810</th>\n",
              "      <th>629811</th>\n",
              "      <th>629812</th>\n",
              "    </tr>\n",
              "  </thead>\n",
              "  <tbody>\n",
              "    <tr>\n",
              "      <th>title</th>\n",
              "      <td>Automated Deduction in Geometry: 5th Internati...</td>\n",
              "      <td>A+ Certification Core Hardware (Text &amp; Lab Man...</td>\n",
              "      <td>Performance engineering in industry: current p...</td>\n",
              "      <td>Dude, You Can Do It! How to Build a Sweeet PC</td>\n",
              "      <td>What Every Programmer Needs to Know about Secu...</td>\n",
              "      <td>Interpreting Kullback-Leibler divergence with ...</td>\n",
              "      <td>Digital Media: Transformations in Human Commun...</td>\n",
              "      <td>TOPP---the OpenMS proteomics pipeline</td>\n",
              "      <td>Type Graphics and MacIntosh</td>\n",
              "      <td>Adaptive Hypermedia and Adaptive Web-Based Sys...</td>\n",
              "      <td>Dependable Computing: Second Latin-American Sy...</td>\n",
              "      <td>Calculus Early Transcendentals Single Variable</td>\n",
              "      <td>Webbots, Spiders, and Screen Scrapers</td>\n",
              "      <td>Fast k-NN Classification Rule Using Metrics on...</td>\n",
              "      <td>Making the Digital City: The Early Shaping of ...</td>\n",
              "      <td>Linspire 5.0: The No Nonsense Guide! (No Nonse...</td>\n",
              "      <td>Podcasting for Profit: A Proven 10-Step Plan f...</td>\n",
              "      <td>Approximating fluid schedules in crossbar pack...</td>\n",
              "      <td>Federated Identity Management And Web Services...</td>\n",
              "      <td>Start with a Digital Camera (Special Edition) ...</td>\n",
              "      <td>Open Process Frameworks: Patterns for the Adap...</td>\n",
              "      <td>Fast and Efficient Context-Aware Services (Wil...</td>\n",
              "      <td>Multimedia Directory 1997</td>\n",
              "      <td>ASIS&amp;T Thesaurus of Information Science, Techn...</td>\n",
              "      <td>On product covering in 3-tier supply chain mod...</td>\n",
              "      <td>Inside SQL Server 2005 Tools (Microsoft Window...</td>\n",
              "      <td>Electronic Engineer's Handbook (Core Handbook ...</td>\n",
              "      <td>Call of Duty 2: Big Red One(tm) Official Strat...</td>\n",
              "      <td>Inside Microsoft Dynamics AX 4.0</td>\n",
              "      <td>Wiley Plus/Web CT Stand-alone to accompany Jav...</td>\n",
              "      <td>Modeling methodology b: distributed simulation...</td>\n",
              "      <td>Beginning Ruby on Rails (Wrox Beginning Guides)</td>\n",
              "      <td>Introduction to Information Systems</td>\n",
              "      <td>SUSE Linux Enterprise Server Administration (C...</td>\n",
              "      <td>Hyperstat: Macintosh Hypermedia for Analyzing ...</td>\n",
              "      <td>An Integrative Modelling Approach for Simulati...</td>\n",
              "      <td>Notes from industry</td>\n",
              "      <td>A New Quadtree Decomposition Reconstruction Me...</td>\n",
              "      <td>Computer Accounting with QuickBooks 2006</td>\n",
              "      <td>Program Evaluation: Improving The Flow Of Info...</td>\n",
              "      <td>...</td>\n",
              "      <td>Using Clustering Technique for Students' Group...</td>\n",
              "      <td>Maintaining dynamic channel profiles on the web</td>\n",
              "      <td>E-science: Where Are We and Where Should We Go</td>\n",
              "      <td>New Tendencies and Approaches</td>\n",
              "      <td>Traceroute probe method and forward IP path in...</td>\n",
              "      <td>Detection of 3D atomic similarities and their ...</td>\n",
              "      <td>A comparison of academic information portals</td>\n",
              "      <td>EQOWSN: Evolutionary-based query optimization ...</td>\n",
              "      <td>Separation of sets and Wolfe duality</td>\n",
              "      <td>Properties of General Semantic Operators Deter...</td>\n",
              "      <td>A survey of insulin-dependent diabetes-part II...</td>\n",
              "      <td>Performance evaluation of Turkish cement firms...</td>\n",
              "      <td>SC1 optimization reformulations of the general...</td>\n",
              "      <td>Semantic Browsing of a Domain Specific Resourc...</td>\n",
              "      <td>Observations and model calculations of direct ...</td>\n",
              "      <td>Visualizing potential parallelism in sequentia...</td>\n",
              "      <td>Usability in multiple monitor displays</td>\n",
              "      <td>Performance evaluation of source extraction in...</td>\n",
              "      <td>Best Newcomer Award: Evaluating rank joins wit...</td>\n",
              "      <td>Boosting data throughput for sequence database...</td>\n",
              "      <td>Better bounds for minimizing SONET ADMs</td>\n",
              "      <td>Inverse parameter identification technique usi...</td>\n",
              "      <td>Analysis of electrical characteristics of Au/S...</td>\n",
              "      <td>Towards a tuplespace-based middleware for the ...</td>\n",
              "      <td>Twitter in academia: a case study from Saudi A...</td>\n",
              "      <td>Fuzzy theory and technology with applications</td>\n",
              "      <td>General writing guidelines for technology and ...</td>\n",
              "      <td>Expected link life time analysis in MANET unde...</td>\n",
              "      <td>BlueCRM: A New Trend of Customer Relationship ...</td>\n",
              "      <td>Innovative interfaces in MonAMI: the reminder</td>\n",
              "      <td>Visualizing Proof Search for Theorem Prover De...</td>\n",
              "      <td>SENTINEL: a semantic business process monitori...</td>\n",
              "      <td>Editorial: color in image and video processing</td>\n",
              "      <td>Effectiveness and usability of an online help ...</td>\n",
              "      <td>Busy period analysis of finite QBD processes</td>\n",
              "      <td>The Grid as a Single Entity: Towards a Behavio...</td>\n",
              "      <td>Mining A</td>\n",
              "      <td>Review article</td>\n",
              "      <td>Multimodal system evaluation using modality ef...</td>\n",
              "      <td>Computer System Architecture</td>\n",
              "    </tr>\n",
              "    <tr>\n",
              "      <th>author</th>\n",
              "      <td>[Hoon Hong, Dongming Wang]</td>\n",
              "      <td>[Charles J. Brooks]</td>\n",
              "      <td>[Ahmed E. Hassan, Parminder Flora]</td>\n",
              "      <td>[Darrel Creacy, Carlito Vicencio]</td>\n",
              "      <td>[Neil Daswani, Anita Kesavan]</td>\n",
              "      <td>[Shinto Eguchi, John Copas]</td>\n",
              "      <td>[Lee Humphreys, Paul Messaris]</td>\n",
              "      <td>[Oliver Kohlbacher, Knut Reinert, Clemens Gröp...</td>\n",
              "      <td>[John Blaint]</td>\n",
              "      <td>[Vincent Wade, Helen Ashman, Barry Smyth]</td>\n",
              "      <td>[Carlos Alberto Maziero, João Gabriel Silva, A...</td>\n",
              "      <td>[Howard A. Anton]</td>\n",
              "      <td>[Michael Schrenk, Michael Shrenk]</td>\n",
              "      <td>[E. Skubalska-Rafajtowicz, A. Krzyzak]</td>\n",
              "      <td>[Alessandro Aurigi]</td>\n",
              "      <td>[Eric Grebler]</td>\n",
              "      <td>[Allan Hunkin]</td>\n",
              "      <td>[Michael Rosenblum, Constantine Caramanis, Mic...</td>\n",
              "      <td>[Axel Bucker]</td>\n",
              "      <td>[John Odam]</td>\n",
              "      <td>[David A. Marca]</td>\n",
              "      <td>[Danny Raz, Arto Tapani Juhola, Joan Serrat-Fe...</td>\n",
              "      <td>[]</td>\n",
              "      <td>[Alice Redmond-neal, Marjorie M. K. Hlava]</td>\n",
              "      <td>[Jianer Chen, Fenghui Zhang]</td>\n",
              "      <td>[Michael Raheem, Dima Sonkin, Thierry D'Hers, ...</td>\n",
              "      <td>[Donald Christiansen]</td>\n",
              "      <td>[]</td>\n",
              "      <td>[Arthur Greef, Michael Fruergaard Pontoppidan,...</td>\n",
              "      <td>[Cay S. Horstmann]</td>\n",
              "      <td>[]</td>\n",
              "      <td>[Steve Holzner]</td>\n",
              "      <td>[R. Kelly Rainer]</td>\n",
              "      <td>[Jason Eckert]</td>\n",
              "      <td>[David M. Lane]</td>\n",
              "      <td>[Tibor Bosse, Catholijn M. Jonker, Jan Treur]</td>\n",
              "      <td>[Stanley Habib]</td>\n",
              "      <td>[J. Knipe, X. Li]</td>\n",
              "      <td>[Donna Ulmer]</td>\n",
              "      <td>[]</td>\n",
              "      <td>...</td>\n",
              "      <td>[Danuta Zakrzewska]</td>\n",
              "      <td>[Haggai Roitman, David Carmel, Elad Yom-Tov]</td>\n",
              "      <td>[Daniel E. Atkins]</td>\n",
              "      <td>[]</td>\n",
              "      <td>[Matthew Luckie, Young Hyun, Bradley Huffaker]</td>\n",
              "      <td>[Rafael Najmanovich, Natalja Kurbatova, Janet ...</td>\n",
              "      <td>[Tamara Pianos]</td>\n",
              "      <td>[Sherin M. Youssef, Meer A. Hamza, Salma F. Fa...</td>\n",
              "      <td>[F. Giannessi, G. Mastroeni]</td>\n",
              "      <td>[Máire Lane, Anthony Karel Seda]</td>\n",
              "      <td>[Daisuke Takahashi, Yang Xiao, Fei Hu]</td>\n",
              "      <td>[İrfan Ertuğrul, Nilsen Karakaşoğlu]</td>\n",
              "      <td>[Anna von Heusinger, Christian Kanzow]</td>\n",
              "      <td>[Gayo Diallo, Khaled Khelif, Olivier Corby, Pa...</td>\n",
              "      <td>[Sachin D. Ghude, Sachchidanand Singh, P. S. K...</td>\n",
              "      <td>[Graham D. Price, John Giacomoni, Manish Vachh...</td>\n",
              "      <td>[Jacob M. Truemper, Hong Sheng, Michael G. Hil...</td>\n",
              "      <td>[Hong-Bin Chen, Chi Kong Tse, Jiu-Chao Feng]</td>\n",
              "      <td>[Carl Schneider, Neoklis Polyzotis]</td>\n",
              "      <td>[X. Meng, V. Chaudhary]</td>\n",
              "      <td>[Leah Epstein, Asaf Levin]</td>\n",
              "      <td>[Joerg Meier, Winfried Schaedler, Lisa Borgatt...</td>\n",
              "      <td>[A. Tataroğlu, Ş. Altındal]</td>\n",
              "      <td>[Robert Tolksdorf, Lyndon Nixon, Elena Simperl]</td>\n",
              "      <td>[Hend S. Al-Khalifa]</td>\n",
              "      <td>[Cengiz Kahraman]</td>\n",
              "      <td>[Anna Cavender, Shari Trewin, Vicki Hanson]</td>\n",
              "      <td>[Jian-Kai Chen, Chien Chen, Rong-Hong Jan, Hsi...</td>\n",
              "      <td>[Mohammed Alawairdhi, Hongji Yang, Mousa AL-Ak...</td>\n",
              "      <td>[Jonas Beskow, Jens Edlund, Teodore Gjermani, ...</td>\n",
              "      <td>[John Byrnes, Michael Buchanan, Michael Ernst,...</td>\n",
              "      <td>[Carlos Pedrinaci, Dave Lambert, Branimir Wetz...</td>\n",
              "      <td>[Alain Trémeau, Shoji Tominaga, Konstantinos N...</td>\n",
              "      <td>[Jérôme Simonin, Noëlle Carbonell, Danielle Pelé]</td>\n",
              "      <td>[Chaitanya Garikiparthi, Appie van de Liefvoor...</td>\n",
              "      <td>[Jesús Montes, Alberto Sánchez, Julio J. Valdé...</td>\n",
              "      <td>[]</td>\n",
              "      <td>[]</td>\n",
              "      <td>[Manolis Perakakis, Alexandros Potamianos]</td>\n",
              "      <td>[V. K. Jain]</td>\n",
              "    </tr>\n",
              "    <tr>\n",
              "      <th>year</th>\n",
              "      <td>2006</td>\n",
              "      <td>2003</td>\n",
              "      <td>2007</td>\n",
              "      <td>2005</td>\n",
              "      <td>2006</td>\n",
              "      <td>2006</td>\n",
              "      <td>2006</td>\n",
              "      <td>2007</td>\n",
              "      <td>1987</td>\n",
              "      <td>2006</td>\n",
              "      <td>2005</td>\n",
              "      <td>2006</td>\n",
              "      <td>2007</td>\n",
              "      <td>1996</td>\n",
              "      <td>2005</td>\n",
              "      <td>2005</td>\n",
              "      <td>2007</td>\n",
              "      <td>2006</td>\n",
              "      <td>2005</td>\n",
              "      <td>2003</td>\n",
              "      <td>2005</td>\n",
              "      <td>2006</td>\n",
              "      <td>1997</td>\n",
              "      <td>2005</td>\n",
              "      <td>2006</td>\n",
              "      <td>2006</td>\n",
              "      <td>1999</td>\n",
              "      <td>2005</td>\n",
              "      <td>2006</td>\n",
              "      <td>2006</td>\n",
              "      <td>2006</td>\n",
              "      <td>2006</td>\n",
              "      <td>2007</td>\n",
              "      <td>2006</td>\n",
              "      <td>1993</td>\n",
              "      <td>2006</td>\n",
              "      <td>1973</td>\n",
              "      <td>1996</td>\n",
              "      <td>2006</td>\n",
              "      <td>2004</td>\n",
              "      <td>...</td>\n",
              "      <td>2008</td>\n",
              "      <td>2008</td>\n",
              "      <td>2008</td>\n",
              "      <td>2008</td>\n",
              "      <td>2008</td>\n",
              "      <td>2008</td>\n",
              "      <td>2008</td>\n",
              "      <td>2009</td>\n",
              "      <td>2008</td>\n",
              "      <td>2009</td>\n",
              "      <td>2008</td>\n",
              "      <td>2009</td>\n",
              "      <td>2008</td>\n",
              "      <td>2008</td>\n",
              "      <td>2008</td>\n",
              "      <td>2008</td>\n",
              "      <td>2008</td>\n",
              "      <td>2008</td>\n",
              "      <td>2008</td>\n",
              "      <td>2009</td>\n",
              "      <td>2009</td>\n",
              "      <td>2008</td>\n",
              "      <td>2008</td>\n",
              "      <td>2008</td>\n",
              "      <td>2008</td>\n",
              "      <td>2008</td>\n",
              "      <td>2008</td>\n",
              "      <td>2008</td>\n",
              "      <td>2008</td>\n",
              "      <td>2008</td>\n",
              "      <td>2009</td>\n",
              "      <td>2008</td>\n",
              "      <td>2008</td>\n",
              "      <td>2008</td>\n",
              "      <td>2008</td>\n",
              "      <td>2008</td>\n",
              "      <td>2008</td>\n",
              "      <td>2008</td>\n",
              "      <td>2008</td>\n",
              "      <td>2007</td>\n",
              "    </tr>\n",
              "    <tr>\n",
              "      <th>n_ref</th>\n",
              "      <td>0</td>\n",
              "      <td>0</td>\n",
              "      <td>0</td>\n",
              "      <td>0</td>\n",
              "      <td>0</td>\n",
              "      <td>1</td>\n",
              "      <td>0</td>\n",
              "      <td>0</td>\n",
              "      <td>0</td>\n",
              "      <td>0</td>\n",
              "      <td>0</td>\n",
              "      <td>0</td>\n",
              "      <td>0</td>\n",
              "      <td>0</td>\n",
              "      <td>0</td>\n",
              "      <td>0</td>\n",
              "      <td>0</td>\n",
              "      <td>9</td>\n",
              "      <td>0</td>\n",
              "      <td>0</td>\n",
              "      <td>0</td>\n",
              "      <td>0</td>\n",
              "      <td>0</td>\n",
              "      <td>0</td>\n",
              "      <td>4</td>\n",
              "      <td>0</td>\n",
              "      <td>0</td>\n",
              "      <td>0</td>\n",
              "      <td>0</td>\n",
              "      <td>0</td>\n",
              "      <td>0</td>\n",
              "      <td>0</td>\n",
              "      <td>0</td>\n",
              "      <td>0</td>\n",
              "      <td>0</td>\n",
              "      <td>2</td>\n",
              "      <td>0</td>\n",
              "      <td>0</td>\n",
              "      <td>0</td>\n",
              "      <td>0</td>\n",
              "      <td>...</td>\n",
              "      <td>0</td>\n",
              "      <td>11</td>\n",
              "      <td>0</td>\n",
              "      <td>0</td>\n",
              "      <td>6</td>\n",
              "      <td>0</td>\n",
              "      <td>0</td>\n",
              "      <td>2</td>\n",
              "      <td>1</td>\n",
              "      <td>3</td>\n",
              "      <td>0</td>\n",
              "      <td>3</td>\n",
              "      <td>8</td>\n",
              "      <td>0</td>\n",
              "      <td>0</td>\n",
              "      <td>8</td>\n",
              "      <td>1</td>\n",
              "      <td>0</td>\n",
              "      <td>0</td>\n",
              "      <td>3</td>\n",
              "      <td>1</td>\n",
              "      <td>1</td>\n",
              "      <td>0</td>\n",
              "      <td>8</td>\n",
              "      <td>0</td>\n",
              "      <td>0</td>\n",
              "      <td>0</td>\n",
              "      <td>2</td>\n",
              "      <td>0</td>\n",
              "      <td>0</td>\n",
              "      <td>5</td>\n",
              "      <td>11</td>\n",
              "      <td>0</td>\n",
              "      <td>5</td>\n",
              "      <td>1</td>\n",
              "      <td>0</td>\n",
              "      <td>0</td>\n",
              "      <td>0</td>\n",
              "      <td>3</td>\n",
              "      <td>0</td>\n",
              "    </tr>\n",
              "    <tr>\n",
              "      <th>abstract</th>\n",
              "      <td>NaN</td>\n",
              "      <td>NaN</td>\n",
              "      <td>This panel session discusses performance engin...</td>\n",
              "      <td>Whether you're frustrated with current PC offe...</td>\n",
              "      <td>NaN</td>\n",
              "      <td>Kullback-Leibler divergence and the Neyman-Pea...</td>\n",
              "      <td>NaN</td>\n",
              "      <td>Motivation: Experimental techniques in proteom...</td>\n",
              "      <td>NaN</td>\n",
              "      <td>NaN</td>\n",
              "      <td>NaN</td>\n",
              "      <td>NaN</td>\n",
              "      <td>The Internet is bigger and better than what a ...</td>\n",
              "      <td>NaN</td>\n",
              "      <td>NaN</td>\n",
              "      <td>NaN</td>\n",
              "      <td>NaN</td>\n",
              "      <td>We consider a problem motivated by the desire ...</td>\n",
              "      <td>NaN</td>\n",
              "      <td>NaN</td>\n",
              "      <td>NaN</td>\n",
              "      <td>NaN</td>\n",
              "      <td>NaN</td>\n",
              "      <td>NaN</td>\n",
              "      <td>The field of supply chain management has been ...</td>\n",
              "      <td>Direct from Microsoft Insiders: the Complete H...</td>\n",
              "      <td>NaN</td>\n",
              "      <td>NaN</td>\n",
              "      <td>NaN</td>\n",
              "      <td>NaN</td>\n",
              "      <td>NaN</td>\n",
              "      <td>NaN</td>\n",
              "      <td>NaN</td>\n",
              "      <td>NaN</td>\n",
              "      <td>NaN</td>\n",
              "      <td>To simulate adaptive agents with abilities mat...</td>\n",
              "      <td>OCEANPORT, N.J., SEPT. 25, 1973 -- A 16-bit mi...</td>\n",
              "      <td>NaN</td>\n",
              "      <td>NaN</td>\n",
              "      <td>NaN</td>\n",
              "      <td>...</td>\n",
              "      <td>In the paper, application of cluster analysis ...</td>\n",
              "      <td>This work addresses a novel problem of maintai...</td>\n",
              "      <td>Grid computing, high-performance and distribut...</td>\n",
              "      <td>NaN</td>\n",
              "      <td>Several traceroute probe methods exist, each d...</td>\n",
              "      <td>Motivation: Current computational methods for ...</td>\n",
              "      <td>NaN</td>\n",
              "      <td>In this paper, a new approach has been introdu...</td>\n",
              "      <td>Lagrangian duality can be derived from separat...</td>\n",
              "      <td>We discuss a very general semantic operator ar...</td>\n",
              "      <td>We survey blood glucose control schemes for in...</td>\n",
              "      <td>In today's competitive environment evaluating ...</td>\n",
              "      <td>The generalized Nash equilibrium problem is a ...</td>\n",
              "      <td>In this paper we present the Corese-NeLI seman...</td>\n",
              "      <td>Measurements of direct UV irradiances (using a...</td>\n",
              "      <td>This paper presents ParaMeter, an interactive ...</td>\n",
              "      <td>An experimental study was conducted to examine...</td>\n",
              "      <td>In this paper, the performance of source extra...</td>\n",
              "      <td>NaN</td>\n",
              "      <td>Searching on DNA and protein databases using s...</td>\n",
              "      <td>SONET add-drop multiplexers (ADMs) are the dom...</td>\n",
              "      <td>This paper presents a concept for the applicat...</td>\n",
              "      <td>The purpose of this paper is to analyze electr...</td>\n",
              "      <td>The Semantic Web is about a Web which contains...</td>\n",
              "      <td>NaN</td>\n",
              "      <td>NaN</td>\n",
              "      <td>The recommendations in this article reflect cu...</td>\n",
              "      <td>Since multi-hop mobile ad hoc network (MANET) ...</td>\n",
              "      <td>In this paper a new proactive Customer Relatio...</td>\n",
              "      <td>This demo paper presents an early version of t...</td>\n",
              "      <td>We describe an interactive visualization tool ...</td>\n",
              "      <td>Business Activity Monitoring (BAM) aims to sup...</td>\n",
              "      <td>NaN</td>\n",
              "      <td>An empirical study is presented which aims at ...</td>\n",
              "      <td>We present the number of customers served and ...</td>\n",
              "      <td>Grids emerged in the last decade as large dist...</td>\n",
              "      <td>NaN</td>\n",
              "      <td>NaN</td>\n",
              "      <td>In this paper, we propose two new objective me...</td>\n",
              "      <td>NaN</td>\n",
              "    </tr>\n",
              "    <tr>\n",
              "      <th>ref</th>\n",
              "      <td>NaN</td>\n",
              "      <td>NaN</td>\n",
              "      <td>NaN</td>\n",
              "      <td>NaN</td>\n",
              "      <td>NaN</td>\n",
              "      <td>[436405]</td>\n",
              "      <td>NaN</td>\n",
              "      <td>NaN</td>\n",
              "      <td>NaN</td>\n",
              "      <td>NaN</td>\n",
              "      <td>NaN</td>\n",
              "      <td>NaN</td>\n",
              "      <td>NaN</td>\n",
              "      <td>NaN</td>\n",
              "      <td>NaN</td>\n",
              "      <td>NaN</td>\n",
              "      <td>NaN</td>\n",
              "      <td>[357875, 214023, 317448, 319987, 334185, 95255...</td>\n",
              "      <td>NaN</td>\n",
              "      <td>NaN</td>\n",
              "      <td>NaN</td>\n",
              "      <td>NaN</td>\n",
              "      <td>NaN</td>\n",
              "      <td>NaN</td>\n",
              "      <td>[251778, 436906, 623227, 287885]</td>\n",
              "      <td>NaN</td>\n",
              "      <td>NaN</td>\n",
              "      <td>NaN</td>\n",
              "      <td>NaN</td>\n",
              "      <td>NaN</td>\n",
              "      <td>NaN</td>\n",
              "      <td>NaN</td>\n",
              "      <td>NaN</td>\n",
              "      <td>NaN</td>\n",
              "      <td>NaN</td>\n",
              "      <td>[247215, 618899]</td>\n",
              "      <td>NaN</td>\n",
              "      <td>NaN</td>\n",
              "      <td>NaN</td>\n",
              "      <td>NaN</td>\n",
              "      <td>...</td>\n",
              "      <td>NaN</td>\n",
              "      <td>[117109, 123024, 290698, 303462, 311963, 35215...</td>\n",
              "      <td>NaN</td>\n",
              "      <td>NaN</td>\n",
              "      <td>[107238, 124539, 164088, 338587, 418254, 485268]</td>\n",
              "      <td>NaN</td>\n",
              "      <td>NaN</td>\n",
              "      <td>[112262, 289811]</td>\n",
              "      <td>[471775]</td>\n",
              "      <td>[162331, 166812, 234390]</td>\n",
              "      <td>NaN</td>\n",
              "      <td>[311179, 311436, 592534]</td>\n",
              "      <td>[38170, 41186, 77492, 93514, 168979, 215645, 2...</td>\n",
              "      <td>NaN</td>\n",
              "      <td>NaN</td>\n",
              "      <td>[87251, 91762, 178287, 300594, 430511, 529135,...</td>\n",
              "      <td>[322849]</td>\n",
              "      <td>NaN</td>\n",
              "      <td>NaN</td>\n",
              "      <td>[279301, 364549, 604687]</td>\n",
              "      <td>[229754]</td>\n",
              "      <td>[178763]</td>\n",
              "      <td>NaN</td>\n",
              "      <td>[112940, 257975, 279339, 284333, 314226, 44739...</td>\n",
              "      <td>NaN</td>\n",
              "      <td>NaN</td>\n",
              "      <td>NaN</td>\n",
              "      <td>[32311, 97632]</td>\n",
              "      <td>NaN</td>\n",
              "      <td>NaN</td>\n",
              "      <td>[101969, 556422, 566234, 573428, 622705]</td>\n",
              "      <td>[12156, 29272, 29779, 88763, 261856, 340817, 4...</td>\n",
              "      <td>NaN</td>\n",
              "      <td>[8543, 327540, 395578, 397153, 398612]</td>\n",
              "      <td>[340965]</td>\n",
              "      <td>NaN</td>\n",
              "      <td>NaN</td>\n",
              "      <td>NaN</td>\n",
              "      <td>[294663, 302639, 572828]</td>\n",
              "      <td>NaN</td>\n",
              "    </tr>\n",
              "  </tbody>\n",
              "</table>\n",
              "<p>6 rows × 629813 columns</p>\n",
              "</div>"
            ],
            "text/plain": [
              "                                                          0  ...                        629812\n",
              "title     Automated Deduction in Geometry: 5th Internati...  ...  Computer System Architecture\n",
              "author                           [Hoon Hong, Dongming Wang]  ...                  [V. K. Jain]\n",
              "year                                                   2006  ...                          2007\n",
              "n_ref                                                     0  ...                             0\n",
              "abstract                                                NaN  ...                           NaN\n",
              "ref                                                     NaN  ...                           NaN\n",
              "\n",
              "[6 rows x 629813 columns]"
            ]
          },
          "metadata": {
            "tags": []
          },
          "execution_count": 10
        }
      ]
    },
    {
      "cell_type": "code",
      "metadata": {
        "id": "hlJN5o1Mz8EP",
        "colab_type": "code",
        "outputId": "515f58c5-17c8-44d4-f4ef-80269923b8dc",
        "colab": {
          "base_uri": "https://localhost:8080/",
          "height": 424
        }
      },
      "source": [
        "dataframe_t = dataframe.transpose()\n",
        "dataframe_t"
      ],
      "execution_count": 0,
      "outputs": [
        {
          "output_type": "execute_result",
          "data": {
            "text/html": [
              "<div>\n",
              "<style scoped>\n",
              "    .dataframe tbody tr th:only-of-type {\n",
              "        vertical-align: middle;\n",
              "    }\n",
              "\n",
              "    .dataframe tbody tr th {\n",
              "        vertical-align: top;\n",
              "    }\n",
              "\n",
              "    .dataframe thead th {\n",
              "        text-align: right;\n",
              "    }\n",
              "</style>\n",
              "<table border=\"1\" class=\"dataframe\">\n",
              "  <thead>\n",
              "    <tr style=\"text-align: right;\">\n",
              "      <th></th>\n",
              "      <th>title</th>\n",
              "      <th>author</th>\n",
              "      <th>year</th>\n",
              "      <th>n_ref</th>\n",
              "      <th>abstract</th>\n",
              "      <th>ref</th>\n",
              "    </tr>\n",
              "  </thead>\n",
              "  <tbody>\n",
              "    <tr>\n",
              "      <th>0</th>\n",
              "      <td>Automated Deduction in Geometry: 5th Internati...</td>\n",
              "      <td>[Hoon Hong, Dongming Wang]</td>\n",
              "      <td>2006</td>\n",
              "      <td>0</td>\n",
              "      <td>NaN</td>\n",
              "      <td>NaN</td>\n",
              "    </tr>\n",
              "    <tr>\n",
              "      <th>1</th>\n",
              "      <td>A+ Certification Core Hardware (Text &amp; Lab Man...</td>\n",
              "      <td>[Charles J. Brooks]</td>\n",
              "      <td>2003</td>\n",
              "      <td>0</td>\n",
              "      <td>NaN</td>\n",
              "      <td>NaN</td>\n",
              "    </tr>\n",
              "    <tr>\n",
              "      <th>2</th>\n",
              "      <td>Performance engineering in industry: current p...</td>\n",
              "      <td>[Ahmed E. Hassan, Parminder Flora]</td>\n",
              "      <td>2007</td>\n",
              "      <td>0</td>\n",
              "      <td>This panel session discusses performance engin...</td>\n",
              "      <td>NaN</td>\n",
              "    </tr>\n",
              "    <tr>\n",
              "      <th>3</th>\n",
              "      <td>Dude, You Can Do It! How to Build a Sweeet PC</td>\n",
              "      <td>[Darrel Creacy, Carlito Vicencio]</td>\n",
              "      <td>2005</td>\n",
              "      <td>0</td>\n",
              "      <td>Whether you're frustrated with current PC offe...</td>\n",
              "      <td>NaN</td>\n",
              "    </tr>\n",
              "    <tr>\n",
              "      <th>4</th>\n",
              "      <td>What Every Programmer Needs to Know about Secu...</td>\n",
              "      <td>[Neil Daswani, Anita Kesavan]</td>\n",
              "      <td>2006</td>\n",
              "      <td>0</td>\n",
              "      <td>NaN</td>\n",
              "      <td>NaN</td>\n",
              "    </tr>\n",
              "    <tr>\n",
              "      <th>...</th>\n",
              "      <td>...</td>\n",
              "      <td>...</td>\n",
              "      <td>...</td>\n",
              "      <td>...</td>\n",
              "      <td>...</td>\n",
              "      <td>...</td>\n",
              "    </tr>\n",
              "    <tr>\n",
              "      <th>629808</th>\n",
              "      <td>The Grid as a Single Entity: Towards a Behavio...</td>\n",
              "      <td>[Jesús Montes, Alberto Sánchez, Julio J. Valdé...</td>\n",
              "      <td>2008</td>\n",
              "      <td>0</td>\n",
              "      <td>Grids emerged in the last decade as large dist...</td>\n",
              "      <td>NaN</td>\n",
              "    </tr>\n",
              "    <tr>\n",
              "      <th>629809</th>\n",
              "      <td>Mining A</td>\n",
              "      <td>[]</td>\n",
              "      <td>2008</td>\n",
              "      <td>0</td>\n",
              "      <td>NaN</td>\n",
              "      <td>NaN</td>\n",
              "    </tr>\n",
              "    <tr>\n",
              "      <th>629810</th>\n",
              "      <td>Review article</td>\n",
              "      <td>[]</td>\n",
              "      <td>2008</td>\n",
              "      <td>0</td>\n",
              "      <td>NaN</td>\n",
              "      <td>NaN</td>\n",
              "    </tr>\n",
              "    <tr>\n",
              "      <th>629811</th>\n",
              "      <td>Multimodal system evaluation using modality ef...</td>\n",
              "      <td>[Manolis Perakakis, Alexandros Potamianos]</td>\n",
              "      <td>2008</td>\n",
              "      <td>3</td>\n",
              "      <td>In this paper, we propose two new objective me...</td>\n",
              "      <td>[294663, 302639, 572828]</td>\n",
              "    </tr>\n",
              "    <tr>\n",
              "      <th>629812</th>\n",
              "      <td>Computer System Architecture</td>\n",
              "      <td>[V. K. Jain]</td>\n",
              "      <td>2007</td>\n",
              "      <td>0</td>\n",
              "      <td>NaN</td>\n",
              "      <td>NaN</td>\n",
              "    </tr>\n",
              "  </tbody>\n",
              "</table>\n",
              "<p>629813 rows × 6 columns</p>\n",
              "</div>"
            ],
            "text/plain": [
              "                                                    title  ...                       ref\n",
              "0       Automated Deduction in Geometry: 5th Internati...  ...                       NaN\n",
              "1       A+ Certification Core Hardware (Text & Lab Man...  ...                       NaN\n",
              "2       Performance engineering in industry: current p...  ...                       NaN\n",
              "3           Dude, You Can Do It! How to Build a Sweeet PC  ...                       NaN\n",
              "4       What Every Programmer Needs to Know about Secu...  ...                       NaN\n",
              "...                                                   ...  ...                       ...\n",
              "629808  The Grid as a Single Entity: Towards a Behavio...  ...                       NaN\n",
              "629809                                           Mining A  ...                       NaN\n",
              "629810                                     Review article  ...                       NaN\n",
              "629811  Multimodal system evaluation using modality ef...  ...  [294663, 302639, 572828]\n",
              "629812                       Computer System Architecture  ...                       NaN\n",
              "\n",
              "[629813 rows x 6 columns]"
            ]
          },
          "metadata": {
            "tags": []
          },
          "execution_count": 12
        }
      ]
    },
    {
      "cell_type": "code",
      "metadata": {
        "id": "NTaWfDQGmfs3",
        "colab_type": "code",
        "colab": {}
      },
      "source": [
        "# dataframe_t.to_json(\"/content/drive/My Drive/Expert_Finding/citation-converted.JSON\")"
      ],
      "execution_count": 0,
      "outputs": []
    },
    {
      "cell_type": "markdown",
      "metadata": {
        "id": "4k21PEIPT59P",
        "colab_type": "text"
      },
      "source": [
        "###Extra\n"
      ]
    },
    {
      "cell_type": "code",
      "metadata": {
        "id": "eUK_4gmUT-2b",
        "colab_type": "code",
        "colab": {}
      },
      "source": [
        ""
      ],
      "execution_count": 0,
      "outputs": []
    },
    {
      "cell_type": "code",
      "metadata": {
        "id": "XTR8pmoPzYQa",
        "colab_type": "code",
        "colab": {}
      },
      "source": [
        "# import re\n",
        "# import numpy as np\n",
        "# from nltk.corpus import stopwords \n",
        "# from nltk.tokenize import word_tokenize \n",
        "# from sklearn.feature_extraction.text import CountVectorizer\n",
        "# import nltk\n",
        "# nltk.download('stopwords')\n",
        "\n",
        "# from nltk.corpus import stopwords\n",
        "# stopwords.words(\"english\")\n",
        "# nltk.download('punkt')\n",
        "# stop_words = set(stopwords.words('english')) \n",
        "\n",
        "# def pre_process(text):\n",
        "#   text = text.lower()\n",
        "#   text = re.sub(\"(\\\\d|\\\\W)+\",\" \",text) #remove special characters and digits\n",
        "#   word_tokens = word_tokenize(text)\n",
        "#   filtered_text = [w for w in word_tokens if not w in stop_words]\n",
        "#   # cv = CountVectorizer(max_df = 0.8, stop_words = stop_words)\n",
        "#   # word_count_vector = cv.fit_transform(filtered_text)\n",
        "#   # print(list(cv.vocabulary_.keys())[:10])\n",
        "#   # return text\n",
        "#   return filtered_text\n",
        "\n",
        "# def p_process(text):\n",
        "#   vectorizer = TfidfVectorizer(stop_words='english')\n",
        "#   tfidf_matrix = vectorizer.fit_transform(text)\n",
        "\n",
        "# dft = df.transpose()\n",
        "# text = dft['title']+' '+dft['abstract']\n",
        "# dft['text'] = text\n",
        "# dft = dft.replace(np.nan, '', regex=True)\n",
        "# dft['text'] = dft['text'].apply(lambda x : pre_process(x))\n",
        "# dft"
      ],
      "execution_count": 0,
      "outputs": []
    },
    {
      "cell_type": "markdown",
      "metadata": {
        "id": "AZHDhQyHjw2T",
        "colab_type": "text"
      },
      "source": [
        "## Preprocessing"
      ]
    },
    {
      "cell_type": "code",
      "metadata": {
        "id": "hjU6BcKHyOZa",
        "colab_type": "code",
        "outputId": "13e44c29-58ca-477c-a717-d72448538a27",
        "colab": {
          "base_uri": "https://localhost:8080/",
          "height": 206
        }
      },
      "source": [
        "import pandas as pd\n",
        "df = pd.read_json('/content/drive/My Drive/Expert_Finding/citation-converted.JSON')\n",
        "df.head()"
      ],
      "execution_count": 0,
      "outputs": [
        {
          "output_type": "execute_result",
          "data": {
            "text/html": [
              "<div>\n",
              "<style scoped>\n",
              "    .dataframe tbody tr th:only-of-type {\n",
              "        vertical-align: middle;\n",
              "    }\n",
              "\n",
              "    .dataframe tbody tr th {\n",
              "        vertical-align: top;\n",
              "    }\n",
              "\n",
              "    .dataframe thead th {\n",
              "        text-align: right;\n",
              "    }\n",
              "</style>\n",
              "<table border=\"1\" class=\"dataframe\">\n",
              "  <thead>\n",
              "    <tr style=\"text-align: right;\">\n",
              "      <th></th>\n",
              "      <th>title</th>\n",
              "      <th>author</th>\n",
              "      <th>year</th>\n",
              "      <th>n_ref</th>\n",
              "      <th>abstract</th>\n",
              "      <th>ref</th>\n",
              "    </tr>\n",
              "  </thead>\n",
              "  <tbody>\n",
              "    <tr>\n",
              "      <th>0</th>\n",
              "      <td>Automated Deduction in Geometry: 5th Internati...</td>\n",
              "      <td>[Hoon Hong, Dongming Wang]</td>\n",
              "      <td>2006</td>\n",
              "      <td>0</td>\n",
              "      <td>None</td>\n",
              "      <td>None</td>\n",
              "    </tr>\n",
              "    <tr>\n",
              "      <th>1</th>\n",
              "      <td>A+ Certification Core Hardware (Text &amp; Lab Man...</td>\n",
              "      <td>[Charles J. Brooks]</td>\n",
              "      <td>2003</td>\n",
              "      <td>0</td>\n",
              "      <td>None</td>\n",
              "      <td>None</td>\n",
              "    </tr>\n",
              "    <tr>\n",
              "      <th>2</th>\n",
              "      <td>Performance engineering in industry: current p...</td>\n",
              "      <td>[Ahmed E. Hassan, Parminder Flora]</td>\n",
              "      <td>2007</td>\n",
              "      <td>0</td>\n",
              "      <td>This panel session discusses performance engin...</td>\n",
              "      <td>None</td>\n",
              "    </tr>\n",
              "    <tr>\n",
              "      <th>3</th>\n",
              "      <td>Dude, You Can Do It! How to Build a Sweeet PC</td>\n",
              "      <td>[Darrel Creacy, Carlito Vicencio]</td>\n",
              "      <td>2005</td>\n",
              "      <td>0</td>\n",
              "      <td>Whether you're frustrated with current PC offe...</td>\n",
              "      <td>None</td>\n",
              "    </tr>\n",
              "    <tr>\n",
              "      <th>4</th>\n",
              "      <td>What Every Programmer Needs to Know about Secu...</td>\n",
              "      <td>[Neil Daswani, Anita Kesavan]</td>\n",
              "      <td>2006</td>\n",
              "      <td>0</td>\n",
              "      <td>None</td>\n",
              "      <td>None</td>\n",
              "    </tr>\n",
              "  </tbody>\n",
              "</table>\n",
              "</div>"
            ],
            "text/plain": [
              "                                               title  ...   ref\n",
              "0  Automated Deduction in Geometry: 5th Internati...  ...  None\n",
              "1  A+ Certification Core Hardware (Text & Lab Man...  ...  None\n",
              "2  Performance engineering in industry: current p...  ...  None\n",
              "3      Dude, You Can Do It! How to Build a Sweeet PC  ...  None\n",
              "4  What Every Programmer Needs to Know about Secu...  ...  None\n",
              "\n",
              "[5 rows x 6 columns]"
            ]
          },
          "metadata": {
            "tags": []
          },
          "execution_count": 89
        }
      ]
    },
    {
      "cell_type": "code",
      "metadata": {
        "id": "nf2arfbQBt5v",
        "colab_type": "code",
        "outputId": "3991e02a-875a-4ea5-f764-c401797213d2",
        "colab": {
          "base_uri": "https://localhost:8080/",
          "height": 206
        }
      },
      "source": [
        "import numpy as np\n",
        "dataset=df\n",
        "dataset = dataset.replace(np.nan, '', regex=True)\n",
        "dataset['text'] = dataset['title']+' '+dataset['abstract']\n",
        "dataset['word_count'] = dataset['text'].apply(lambda x: len(str(x).split(\" \")))\n",
        "dataset[['text','word_count']].head()"
      ],
      "execution_count": 0,
      "outputs": [
        {
          "output_type": "execute_result",
          "data": {
            "text/html": [
              "<div>\n",
              "<style scoped>\n",
              "    .dataframe tbody tr th:only-of-type {\n",
              "        vertical-align: middle;\n",
              "    }\n",
              "\n",
              "    .dataframe tbody tr th {\n",
              "        vertical-align: top;\n",
              "    }\n",
              "\n",
              "    .dataframe thead th {\n",
              "        text-align: right;\n",
              "    }\n",
              "</style>\n",
              "<table border=\"1\" class=\"dataframe\">\n",
              "  <thead>\n",
              "    <tr style=\"text-align: right;\">\n",
              "      <th></th>\n",
              "      <th>text</th>\n",
              "      <th>word_count</th>\n",
              "    </tr>\n",
              "  </thead>\n",
              "  <tbody>\n",
              "    <tr>\n",
              "      <th>0</th>\n",
              "      <td>Automated Deduction in Geometry: 5th Internati...</td>\n",
              "      <td>29</td>\n",
              "    </tr>\n",
              "    <tr>\n",
              "      <th>1</th>\n",
              "      <td>A+ Certification Core Hardware (Text &amp; Lab Man...</td>\n",
              "      <td>9</td>\n",
              "    </tr>\n",
              "    <tr>\n",
              "      <th>2</th>\n",
              "      <td>Performance engineering in industry: current p...</td>\n",
              "      <td>50</td>\n",
              "    </tr>\n",
              "    <tr>\n",
              "      <th>3</th>\n",
              "      <td>Dude, You Can Do It! How to Build a Sweeet PC ...</td>\n",
              "      <td>219</td>\n",
              "    </tr>\n",
              "    <tr>\n",
              "      <th>4</th>\n",
              "      <td>What Every Programmer Needs to Know about Secu...</td>\n",
              "      <td>13</td>\n",
              "    </tr>\n",
              "  </tbody>\n",
              "</table>\n",
              "</div>"
            ],
            "text/plain": [
              "                                                text  word_count\n",
              "0  Automated Deduction in Geometry: 5th Internati...          29\n",
              "1  A+ Certification Core Hardware (Text & Lab Man...           9\n",
              "2  Performance engineering in industry: current p...          50\n",
              "3  Dude, You Can Do It! How to Build a Sweeet PC ...         219\n",
              "4  What Every Programmer Needs to Know about Secu...          13"
            ]
          },
          "metadata": {
            "tags": []
          },
          "execution_count": 111
        }
      ]
    },
    {
      "cell_type": "code",
      "metadata": {
        "id": "qU-97Bbxv9D2",
        "colab_type": "code",
        "colab": {}
      },
      "source": [
        "dataset.to_json(\"/content/drive/My Drive/Expert_Finding/citation-updated.JSON\")"
      ],
      "execution_count": 0,
      "outputs": []
    },
    {
      "cell_type": "code",
      "metadata": {
        "id": "9wLjBk-7v1cK",
        "colab_type": "code",
        "outputId": "51834ae8-2e29-43c8-a4d9-4f96c95bae48",
        "colab": {
          "base_uri": "https://localhost:8080/",
          "height": 35
        }
      },
      "source": [
        "df = pd.read_json('/content/drive/My Drive/Expert_Finding/citation-updated.JSON')\n",
        "dataset = df\n",
        "len(dataset)"
      ],
      "execution_count": 0,
      "outputs": [
        {
          "output_type": "execute_result",
          "data": {
            "text/plain": [
              "629813"
            ]
          },
          "metadata": {
            "tags": []
          },
          "execution_count": 110
        }
      ]
    },
    {
      "cell_type": "code",
      "metadata": {
        "id": "VTXIfMONEU98",
        "colab_type": "code",
        "outputId": "45b9da44-d9d3-45f1-a481-a9dc31f5a05b",
        "colab": {
          "base_uri": "https://localhost:8080/",
          "height": 182
        }
      },
      "source": [
        "dataset.word_count.describe()"
      ],
      "execution_count": 0,
      "outputs": [
        {
          "output_type": "execute_result",
          "data": {
            "text/plain": [
              "count    629813.000000\n",
              "mean         70.075218\n",
              "std         101.345781\n",
              "min           2.000000\n",
              "25%           8.000000\n",
              "50%          14.000000\n",
              "75%         124.000000\n",
              "max        5349.000000\n",
              "Name: word_count, dtype: float64"
            ]
          },
          "metadata": {
            "tags": []
          },
          "execution_count": 3
        }
      ]
    },
    {
      "cell_type": "code",
      "metadata": {
        "id": "js1TdM2lE8LM",
        "colab_type": "code",
        "colab": {}
      },
      "source": [
        "# #Identify common words\n",
        "# freq = pd.Series(' '.join(dataset['text']).split()).value_counts()[:20]\n",
        "# freq"
      ],
      "execution_count": 0,
      "outputs": []
    },
    {
      "cell_type": "code",
      "metadata": {
        "id": "Yci_Z0HKFb-k",
        "colab_type": "code",
        "outputId": "811ea1cf-485e-44c8-ab8e-4e7d9ee6b887",
        "colab": {
          "base_uri": "https://localhost:8080/",
          "height": 90
        }
      },
      "source": [
        "# Libraries for text preprocessing\n",
        "import re\n",
        "import nltk\n",
        "nltk.download('stopwords')\n",
        "nltk.download('wordnet')\n",
        "from nltk.corpus import stopwords\n",
        "from nltk.stem.porter import PorterStemmer\n",
        "from nltk.tokenize import RegexpTokenizer#nltk.download('wordnet') \n",
        "from nltk.stem.wordnet import WordNetLemmatizer"
      ],
      "execution_count": 0,
      "outputs": [
        {
          "output_type": "stream",
          "text": [
            "[nltk_data] Downloading package stopwords to /root/nltk_data...\n",
            "[nltk_data]   Package stopwords is already up-to-date!\n",
            "[nltk_data] Downloading package wordnet to /root/nltk_data...\n",
            "[nltk_data]   Unzipping corpora/wordnet.zip.\n"
          ],
          "name": "stdout"
        }
      ]
    },
    {
      "cell_type": "code",
      "metadata": {
        "id": "QFD7Uu20FmLg",
        "colab_type": "code",
        "colab": {}
      },
      "source": [
        "##Creating a list of stop words and adding custom stopwords\n",
        "stop_words = set(stopwords.words(\"english\"))##Creating a list of custom stopwords\n",
        "# new_words = [\"using\", \"show\", \"result\", \"large\", \"also\", \"iv\", \"one\", \"two\", \"new\", \"previously\", \"shown\"]\n",
        "# stop_words = stop_words.union(new_words)"
      ],
      "execution_count": 0,
      "outputs": []
    },
    {
      "cell_type": "code",
      "metadata": {
        "id": "Xpt9_a_PGFA9",
        "colab_type": "code",
        "colab": {}
      },
      "source": [
        "corpus = []\n",
        "for i in range(len(dataset)):\n",
        "    #Remove punctuations\n",
        "    text = re.sub('[^a-zA-Z]', ' ', dataset['text'][i])\n",
        "    \n",
        "    #Convert to lowercase\n",
        "    text = text.lower()\n",
        "    \n",
        "    # #remove tags\n",
        "    # text=re.sub(\"&lt;/?.*?&gt;\",\" &lt;&gt; \",text)\n",
        "    \n",
        "    # remove special characters and digits\n",
        "    text=re.sub(\"(\\\\d|\\\\W)+\",\" \",text)\n",
        "    \n",
        "    ##Convert to list from string\n",
        "    text = text.split()\n",
        "    \n",
        "    ##Stemming\n",
        "    ps=PorterStemmer()    #Lemmatisation\n",
        "    lem = WordNetLemmatizer()\n",
        "    text = [lem.lemmatize(word) for word in text if not word in stop_words] \n",
        "    text = \" \".join(text)\n",
        "    corpus.append(text)\n",
        "    # corpus.append(text,axis=0)"
      ],
      "execution_count": 0,
      "outputs": []
    },
    {
      "cell_type": "code",
      "metadata": {
        "id": "Cv6vie-PGgq0",
        "colab_type": "code",
        "outputId": "6a19f7c6-6a9a-45be-fbe3-cc8c3db904e1",
        "colab": {
          "base_uri": "https://localhost:8080/",
          "height": 35
        }
      },
      "source": [
        "len(corpus)\n",
        "corpus[533]\n",
        "# dataset['text'][0]"
      ],
      "execution_count": 0,
      "outputs": [
        {
          "output_type": "execute_result",
          "data": {
            "text/plain": [
              "'pmp project management professional study guide deluxe edition'"
            ]
          },
          "metadata": {
            "tags": []
          },
          "execution_count": 103
        }
      ]
    },
    {
      "cell_type": "code",
      "metadata": {
        "id": "ENWgN0bIxBxP",
        "colab_type": "code",
        "outputId": "9d4ad9c5-b016-40a9-e49a-f3bf5b6c6a0f",
        "colab": {
          "base_uri": "https://localhost:8080/",
          "height": 362
        }
      },
      "source": [
        "# # dataset_v2 = dataset.copy()\n",
        "# for i in range(len(dataset)):\n",
        "#   dataset['text'] = corpus\n",
        "# dataset.to_json(\"/content/drive/My Drive/Expert_Finding/citation-stemmed.JSON\")"
      ],
      "execution_count": 0,
      "outputs": [
        {
          "output_type": "error",
          "ename": "KeyboardInterrupt",
          "evalue": "ignored",
          "traceback": [
            "\u001b[0;31m---------------------------------------------------------------------------\u001b[0m",
            "\u001b[0;31mKeyboardInterrupt\u001b[0m                         Traceback (most recent call last)",
            "\u001b[0;32m<ipython-input-107-918545f8bfab>\u001b[0m in \u001b[0;36m<module>\u001b[0;34m()\u001b[0m\n\u001b[1;32m      1\u001b[0m \u001b[0;32mfor\u001b[0m \u001b[0mi\u001b[0m \u001b[0;32min\u001b[0m \u001b[0mrange\u001b[0m\u001b[0;34m(\u001b[0m\u001b[0mlen\u001b[0m\u001b[0;34m(\u001b[0m\u001b[0mdataset\u001b[0m\u001b[0;34m)\u001b[0m\u001b[0;34m)\u001b[0m\u001b[0;34m:\u001b[0m\u001b[0;34m\u001b[0m\u001b[0;34m\u001b[0m\u001b[0m\n\u001b[0;32m----> 2\u001b[0;31m   \u001b[0mdataset\u001b[0m\u001b[0;34m[\u001b[0m\u001b[0;34m'text'\u001b[0m\u001b[0;34m]\u001b[0m \u001b[0;34m=\u001b[0m \u001b[0mcorpus\u001b[0m\u001b[0;34m\u001b[0m\u001b[0;34m\u001b[0m\u001b[0m\n\u001b[0m\u001b[1;32m      3\u001b[0m \u001b[0mdataset\u001b[0m\u001b[0;34m.\u001b[0m\u001b[0mto_json\u001b[0m\u001b[0;34m(\u001b[0m\u001b[0;34m\"/content/drive/My Drive/Expert_Finding/citation-stemmed.JSON\"\u001b[0m\u001b[0;34m)\u001b[0m\u001b[0;34m\u001b[0m\u001b[0;34m\u001b[0m\u001b[0m\n",
            "\u001b[0;32m/usr/local/lib/python3.6/dist-packages/pandas/core/frame.py\u001b[0m in \u001b[0;36m__setitem__\u001b[0;34m(self, key, value)\u001b[0m\n\u001b[1;32m   2936\u001b[0m         \u001b[0;32melse\u001b[0m\u001b[0;34m:\u001b[0m\u001b[0;34m\u001b[0m\u001b[0;34m\u001b[0m\u001b[0m\n\u001b[1;32m   2937\u001b[0m             \u001b[0;31m# set column\u001b[0m\u001b[0;34m\u001b[0m\u001b[0;34m\u001b[0m\u001b[0;34m\u001b[0m\u001b[0m\n\u001b[0;32m-> 2938\u001b[0;31m             \u001b[0mself\u001b[0m\u001b[0;34m.\u001b[0m\u001b[0m_set_item\u001b[0m\u001b[0;34m(\u001b[0m\u001b[0mkey\u001b[0m\u001b[0;34m,\u001b[0m \u001b[0mvalue\u001b[0m\u001b[0;34m)\u001b[0m\u001b[0;34m\u001b[0m\u001b[0;34m\u001b[0m\u001b[0m\n\u001b[0m\u001b[1;32m   2939\u001b[0m \u001b[0;34m\u001b[0m\u001b[0m\n\u001b[1;32m   2940\u001b[0m     \u001b[0;32mdef\u001b[0m \u001b[0m_setitem_slice\u001b[0m\u001b[0;34m(\u001b[0m\u001b[0mself\u001b[0m\u001b[0;34m,\u001b[0m \u001b[0mkey\u001b[0m\u001b[0;34m,\u001b[0m \u001b[0mvalue\u001b[0m\u001b[0;34m)\u001b[0m\u001b[0;34m:\u001b[0m\u001b[0;34m\u001b[0m\u001b[0;34m\u001b[0m\u001b[0m\n",
            "\u001b[0;32m/usr/local/lib/python3.6/dist-packages/pandas/core/frame.py\u001b[0m in \u001b[0;36m_set_item\u001b[0;34m(self, key, value)\u001b[0m\n\u001b[1;32m   2998\u001b[0m \u001b[0;34m\u001b[0m\u001b[0m\n\u001b[1;32m   2999\u001b[0m         \u001b[0mself\u001b[0m\u001b[0;34m.\u001b[0m\u001b[0m_ensure_valid_index\u001b[0m\u001b[0;34m(\u001b[0m\u001b[0mvalue\u001b[0m\u001b[0;34m)\u001b[0m\u001b[0;34m\u001b[0m\u001b[0;34m\u001b[0m\u001b[0m\n\u001b[0;32m-> 3000\u001b[0;31m         \u001b[0mvalue\u001b[0m \u001b[0;34m=\u001b[0m \u001b[0mself\u001b[0m\u001b[0;34m.\u001b[0m\u001b[0m_sanitize_column\u001b[0m\u001b[0;34m(\u001b[0m\u001b[0mkey\u001b[0m\u001b[0;34m,\u001b[0m \u001b[0mvalue\u001b[0m\u001b[0;34m)\u001b[0m\u001b[0;34m\u001b[0m\u001b[0;34m\u001b[0m\u001b[0m\n\u001b[0m\u001b[1;32m   3001\u001b[0m         \u001b[0mNDFrame\u001b[0m\u001b[0;34m.\u001b[0m\u001b[0m_set_item\u001b[0m\u001b[0;34m(\u001b[0m\u001b[0mself\u001b[0m\u001b[0;34m,\u001b[0m \u001b[0mkey\u001b[0m\u001b[0;34m,\u001b[0m \u001b[0mvalue\u001b[0m\u001b[0;34m)\u001b[0m\u001b[0;34m\u001b[0m\u001b[0;34m\u001b[0m\u001b[0m\n\u001b[1;32m   3002\u001b[0m \u001b[0;34m\u001b[0m\u001b[0m\n",
            "\u001b[0;32m/usr/local/lib/python3.6/dist-packages/pandas/core/frame.py\u001b[0m in \u001b[0;36m_sanitize_column\u001b[0;34m(self, key, value, broadcast)\u001b[0m\n\u001b[1;32m   3637\u001b[0m             \u001b[0;32mif\u001b[0m \u001b[0;32mnot\u001b[0m \u001b[0misinstance\u001b[0m\u001b[0;34m(\u001b[0m\u001b[0mvalue\u001b[0m\u001b[0;34m,\u001b[0m \u001b[0;34m(\u001b[0m\u001b[0mnp\u001b[0m\u001b[0;34m.\u001b[0m\u001b[0mndarray\u001b[0m\u001b[0;34m,\u001b[0m \u001b[0mIndex\u001b[0m\u001b[0;34m)\u001b[0m\u001b[0;34m)\u001b[0m\u001b[0;34m:\u001b[0m\u001b[0;34m\u001b[0m\u001b[0;34m\u001b[0m\u001b[0m\n\u001b[1;32m   3638\u001b[0m                 \u001b[0;32mif\u001b[0m \u001b[0misinstance\u001b[0m\u001b[0;34m(\u001b[0m\u001b[0mvalue\u001b[0m\u001b[0;34m,\u001b[0m \u001b[0mlist\u001b[0m\u001b[0;34m)\u001b[0m \u001b[0;32mand\u001b[0m \u001b[0mlen\u001b[0m\u001b[0;34m(\u001b[0m\u001b[0mvalue\u001b[0m\u001b[0;34m)\u001b[0m \u001b[0;34m>\u001b[0m \u001b[0;36m0\u001b[0m\u001b[0;34m:\u001b[0m\u001b[0;34m\u001b[0m\u001b[0;34m\u001b[0m\u001b[0m\n\u001b[0;32m-> 3639\u001b[0;31m                     \u001b[0mvalue\u001b[0m \u001b[0;34m=\u001b[0m \u001b[0mmaybe_convert_platform\u001b[0m\u001b[0;34m(\u001b[0m\u001b[0mvalue\u001b[0m\u001b[0;34m)\u001b[0m\u001b[0;34m\u001b[0m\u001b[0;34m\u001b[0m\u001b[0m\n\u001b[0m\u001b[1;32m   3640\u001b[0m                 \u001b[0;32melse\u001b[0m\u001b[0;34m:\u001b[0m\u001b[0;34m\u001b[0m\u001b[0;34m\u001b[0m\u001b[0m\n\u001b[1;32m   3641\u001b[0m                     \u001b[0mvalue\u001b[0m \u001b[0;34m=\u001b[0m \u001b[0mcom\u001b[0m\u001b[0;34m.\u001b[0m\u001b[0masarray_tuplesafe\u001b[0m\u001b[0;34m(\u001b[0m\u001b[0mvalue\u001b[0m\u001b[0;34m)\u001b[0m\u001b[0;34m\u001b[0m\u001b[0;34m\u001b[0m\u001b[0m\n",
            "\u001b[0;32m/usr/local/lib/python3.6/dist-packages/pandas/core/dtypes/cast.py\u001b[0m in \u001b[0;36mmaybe_convert_platform\u001b[0;34m(values)\u001b[0m\n\u001b[1;32m     72\u001b[0m \u001b[0;34m\u001b[0m\u001b[0m\n\u001b[1;32m     73\u001b[0m     \u001b[0;32mif\u001b[0m \u001b[0misinstance\u001b[0m\u001b[0;34m(\u001b[0m\u001b[0mvalues\u001b[0m\u001b[0;34m,\u001b[0m \u001b[0;34m(\u001b[0m\u001b[0mlist\u001b[0m\u001b[0;34m,\u001b[0m \u001b[0mtuple\u001b[0m\u001b[0;34m,\u001b[0m \u001b[0mrange\u001b[0m\u001b[0;34m)\u001b[0m\u001b[0;34m)\u001b[0m\u001b[0;34m:\u001b[0m\u001b[0;34m\u001b[0m\u001b[0;34m\u001b[0m\u001b[0m\n\u001b[0;32m---> 74\u001b[0;31m         \u001b[0mvalues\u001b[0m \u001b[0;34m=\u001b[0m \u001b[0mconstruct_1d_object_array_from_listlike\u001b[0m\u001b[0;34m(\u001b[0m\u001b[0mvalues\u001b[0m\u001b[0;34m)\u001b[0m\u001b[0;34m\u001b[0m\u001b[0;34m\u001b[0m\u001b[0m\n\u001b[0m\u001b[1;32m     75\u001b[0m     \u001b[0;32mif\u001b[0m \u001b[0mgetattr\u001b[0m\u001b[0;34m(\u001b[0m\u001b[0mvalues\u001b[0m\u001b[0;34m,\u001b[0m \u001b[0;34m\"dtype\"\u001b[0m\u001b[0;34m,\u001b[0m \u001b[0;32mNone\u001b[0m\u001b[0;34m)\u001b[0m \u001b[0;34m==\u001b[0m \u001b[0mnp\u001b[0m\u001b[0;34m.\u001b[0m\u001b[0mobject_\u001b[0m\u001b[0;34m:\u001b[0m\u001b[0;34m\u001b[0m\u001b[0;34m\u001b[0m\u001b[0m\n\u001b[1;32m     76\u001b[0m         \u001b[0;32mif\u001b[0m \u001b[0mhasattr\u001b[0m\u001b[0;34m(\u001b[0m\u001b[0mvalues\u001b[0m\u001b[0;34m,\u001b[0m \u001b[0;34m\"_values\"\u001b[0m\u001b[0;34m)\u001b[0m\u001b[0;34m:\u001b[0m\u001b[0;34m\u001b[0m\u001b[0;34m\u001b[0m\u001b[0m\n",
            "\u001b[0;32m/usr/local/lib/python3.6/dist-packages/pandas/core/dtypes/cast.py\u001b[0m in \u001b[0;36mconstruct_1d_object_array_from_listlike\u001b[0;34m(values)\u001b[0m\n\u001b[1;32m   1477\u001b[0m     \u001b[0;31m# making a 1D array that contains list-likes is a bit tricky:\u001b[0m\u001b[0;34m\u001b[0m\u001b[0;34m\u001b[0m\u001b[0;34m\u001b[0m\u001b[0m\n\u001b[1;32m   1478\u001b[0m     \u001b[0mresult\u001b[0m \u001b[0;34m=\u001b[0m \u001b[0mnp\u001b[0m\u001b[0;34m.\u001b[0m\u001b[0mempty\u001b[0m\u001b[0;34m(\u001b[0m\u001b[0mlen\u001b[0m\u001b[0;34m(\u001b[0m\u001b[0mvalues\u001b[0m\u001b[0;34m)\u001b[0m\u001b[0;34m,\u001b[0m \u001b[0mdtype\u001b[0m\u001b[0;34m=\u001b[0m\u001b[0;34m\"object\"\u001b[0m\u001b[0;34m)\u001b[0m\u001b[0;34m\u001b[0m\u001b[0;34m\u001b[0m\u001b[0m\n\u001b[0;32m-> 1479\u001b[0;31m     \u001b[0mresult\u001b[0m\u001b[0;34m[\u001b[0m\u001b[0;34m:\u001b[0m\u001b[0;34m]\u001b[0m \u001b[0;34m=\u001b[0m \u001b[0mvalues\u001b[0m\u001b[0;34m\u001b[0m\u001b[0;34m\u001b[0m\u001b[0m\n\u001b[0m\u001b[1;32m   1480\u001b[0m     \u001b[0;32mreturn\u001b[0m \u001b[0mresult\u001b[0m\u001b[0;34m\u001b[0m\u001b[0;34m\u001b[0m\u001b[0m\n\u001b[1;32m   1481\u001b[0m \u001b[0;34m\u001b[0m\u001b[0m\n",
            "\u001b[0;31mKeyboardInterrupt\u001b[0m: "
          ]
        }
      ]
    },
    {
      "cell_type": "code",
      "metadata": {
        "id": "GK4aTquHyAml",
        "colab_type": "code",
        "colab": {}
      },
      "source": [
        "df = pd.read_json('/content/drive/My Drive/Expert_Finding/citation-updated.JSON')\n",
        "df.head()"
      ],
      "execution_count": 0,
      "outputs": []
    },
    {
      "cell_type": "code",
      "metadata": {
        "id": "eglEL9uCZUIp",
        "colab_type": "code",
        "colab": {}
      },
      "source": [
        "with open(\"/content/drive/My Drive/Expert_Finding/cnp.txt\", 'w') as f:\n",
        "    for s in corpus:\n",
        "        f.write(str(s)+'\\n')"
      ],
      "execution_count": 0,
      "outputs": []
    },
    {
      "cell_type": "markdown",
      "metadata": {
        "id": "ZRc1hUEfMdrS",
        "colab_type": "text"
      },
      "source": [
        "## Tf-idf"
      ]
    },
    {
      "cell_type": "code",
      "metadata": {
        "id": "-Axbo3WM_Po6",
        "colab_type": "code",
        "outputId": "9a81d0b5-8dd7-4e97-c4e9-c03c9fce2865",
        "colab": {
          "base_uri": "https://localhost:8080/",
          "height": 35
        }
      },
      "source": [
        "corpus = []\n",
        "with open(\"/content/drive/My Drive/Expert_Finding/corpus.txt\", 'r') as f:\n",
        "    lines = f.readlines()\n",
        "    for l in lines:\n",
        "      corpus.append(l[:-1])\n",
        "len(corpus)\n",
        "corpus[0]"
      ],
      "execution_count": 0,
      "outputs": [
        {
          "output_type": "execute_result",
          "data": {
            "text/plain": [
              "'automated deduction geometry th international workshop adg gainesville fl usa september revised paper lecture note computer lecture note artificial intelligence'"
            ]
          },
          "metadata": {
            "tags": []
          },
          "execution_count": 10
        }
      ]
    },
    {
      "cell_type": "code",
      "metadata": {
        "id": "xI1to7qUH8zd",
        "colab_type": "code",
        "outputId": "67168aff-6994-496a-819e-28571df5f221",
        "colab": {
          "base_uri": "https://localhost:8080/",
          "height": 54
        }
      },
      "source": [
        "import re\n",
        "import nltk\n",
        "nltk.download('stopwords')\n",
        "from sklearn.feature_extraction.text import CountVectorizer\n",
        "from nltk.corpus import stopwords\n",
        "\n",
        "stop_words = set(stopwords.words(\"english\"))\n",
        "cv = CountVectorizer(max_df=0.8,stop_words=stop_words, max_features=10000, ngram_range=(1,3))\n",
        "X=cv.fit_transform(corpus)"
      ],
      "execution_count": 0,
      "outputs": [
        {
          "output_type": "stream",
          "text": [
            "[nltk_data] Downloading package stopwords to /root/nltk_data...\n",
            "[nltk_data]   Package stopwords is already up-to-date!\n"
          ],
          "name": "stdout"
        }
      ]
    },
    {
      "cell_type": "code",
      "metadata": {
        "id": "OxZH0Fc7IH-U",
        "colab_type": "code",
        "outputId": "92c6d684-3922-4da0-e8ef-8c296e797bcb",
        "colab": {
          "base_uri": "https://localhost:8080/",
          "height": 201
        }
      },
      "source": [
        "list(cv.vocabulary_.keys())[:10]"
      ],
      "execution_count": 0,
      "outputs": [
        {
          "output_type": "execute_result",
          "data": {
            "text/plain": [
              "['automated',\n",
              " 'deduction',\n",
              " 'geometry',\n",
              " 'th',\n",
              " 'international',\n",
              " 'workshop',\n",
              " 'usa',\n",
              " 'september',\n",
              " 'revised',\n",
              " 'paper']"
            ]
          },
          "metadata": {
            "tags": []
          },
          "execution_count": 11
        }
      ]
    },
    {
      "cell_type": "code",
      "metadata": {
        "id": "opcOhiR2UEN1",
        "colab_type": "code",
        "colab": {}
      },
      "source": [
        "# Sleep for a few seconds.\n",
        "import time\n",
        "time.sleep(2)\n",
        "\n",
        "# Play an audio beep. Any audio URL will do.\n",
        "from google.colab import output\n",
        "output.eval_js('new Audio(\"https://upload.wikimedia.org/wikipedia/commons/0/05/Beep-09.ogg\").play()')"
      ],
      "execution_count": 0,
      "outputs": []
    },
    {
      "cell_type": "code",
      "metadata": {
        "id": "iL4XSV5tUW33",
        "colab_type": "code",
        "colab": {}
      },
      "source": [
        "from sklearn.feature_extraction.text import TfidfTransformer\n",
        " \n",
        "tfidf_transformer=TfidfTransformer(smooth_idf=True,use_idf=True)\n",
        "tfidf_transformer.fit(X)# get feature names\n",
        "feature_names=cv.get_feature_names()\n",
        " \n",
        "# fetch document for which keywords needs to be extracted\n",
        "# doc=corpus[534]\n",
        "tf_idf_vector_list=[]\n",
        "for doc in corpus:\n",
        "  #generate tf-idf for the given document\n",
        "  # tf_idf_vector=tfidf_transformer.transform(cv.transform([doc]))\n",
        "  tf_idf_vector_list.append(tfidf_transformer.transform(cv.transform([doc])))\n"
      ],
      "execution_count": 0,
      "outputs": []
    },
    {
      "cell_type": "code",
      "metadata": {
        "id": "7TgQFGvk3Fx1",
        "colab_type": "code",
        "outputId": "bef00460-8918-45e3-d069-36e7a3423df9",
        "colab": {
          "base_uri": "https://localhost:8080/",
          "height": 35
        }
      },
      "source": [
        "# print(\"sda\")\n",
        "# output.eval_js('new Audio(\"https://upload.wikimedia.org/wikipedia/commons/0/05/Beep-09.ogg\").play()')"
      ],
      "execution_count": 0,
      "outputs": [
        {
          "output_type": "stream",
          "text": [
            "sda\n"
          ],
          "name": "stdout"
        }
      ]
    },
    {
      "cell_type": "code",
      "metadata": {
        "id": "K_rvUKIfUlB7",
        "colab_type": "code",
        "outputId": "35fe67d0-f1c1-4633-eb07-3712cae3e130",
        "colab": {
          "base_uri": "https://localhost:8080/",
          "height": 35
        }
      },
      "source": [
        "#Function for sorting tf_idf in descending order\n",
        "from scipy.sparse import coo_matrix\n",
        "def sort_coo(coo_matrix):\n",
        "    tuples = zip(coo_matrix.col, coo_matrix.data)\n",
        "    return sorted(tuples, key=lambda x: (x[1], x[0]), reverse=True)\n",
        " \n",
        "def extract_topn_from_vector(feature_names, sorted_items, topn=10):\n",
        "    \"\"\"get the feature names and tf-idf score of top n items\"\"\"\n",
        "    \n",
        "    #use only topn items from vector\n",
        "    sorted_items = sorted_items[:topn]\n",
        " \n",
        "    score_vals = []\n",
        "    feature_vals = []\n",
        "    \n",
        "    # word index and corresponding tf-idf score\n",
        "    for idx, score in sorted_items:\n",
        "        \n",
        "        #keep track of feature name and its corresponding score\n",
        "        score_vals.append(round(score, 3))\n",
        "        feature_vals.append(feature_names[idx])\n",
        " \n",
        "    #create a tuples of feature,score\n",
        "    #results = zip(feature_vals,score_vals)\n",
        "    results= {}\n",
        "    for idx in range(len(feature_vals)):\n",
        "        results[feature_vals[idx]]=score_vals[idx]\n",
        "    \n",
        "    return results#sort the tf-idf vectors by descending order of scores\n",
        "# sorted_items=sort_coo(tf_idf_vector.tocoo())#extract only the top n; n here is 10\n",
        "# keywords=extract_topn_from_vector(feature_names,sorted_items,5)\n",
        "# # now print the results\n",
        "# print(\"\\nAbstract:\")\n",
        "# print(doc)\n",
        "# print(\"\\nKeywords:\")\n",
        "# for k in keywords:\n",
        "#     print(k,keywords[k])\n",
        "docs_keywords = {}\n",
        "for i in range(len(tf_idf_vector_list)):\n",
        "  sorted_items=sort_coo(tf_idf_vector_list[i].tocoo())#extract only the top n; n here is 10\n",
        "  keywords=extract_topn_from_vector(feature_names,sorted_items,5)  \n",
        "  # now print the results\n",
        "  docs_keywords[i] = keywords\n",
        "  \n",
        "  # print(\"\\nAbstract:\")\n",
        "  # print(doc)\n",
        "  # print(\"\\nKeywords:\")\n",
        "  # for k in keywords:\n",
        "  #     print(k,keywords[k])\n",
        "print('done')"
      ],
      "execution_count": 0,
      "outputs": [
        {
          "output_type": "stream",
          "text": [
            "done\n"
          ],
          "name": "stdout"
        }
      ]
    },
    {
      "cell_type": "code",
      "metadata": {
        "id": "DGhpNofcay7_",
        "colab_type": "code",
        "colab": {}
      },
      "source": [
        "# save Extracted keywords\n",
        "import json\n",
        "json_object = json.dumps(docs_keywords, indent = 2)\n",
        "with open(\"/content/drive/My Drive/Expert_Finding/docs_keywords.json\", \"w\") as outfile: \n",
        "    outfile.write(json_object)"
      ],
      "execution_count": 0,
      "outputs": []
    },
    {
      "cell_type": "markdown",
      "metadata": {
        "id": "L2kM39jSkCkr",
        "colab_type": "text"
      },
      "source": [
        "##Common Computations"
      ]
    },
    {
      "cell_type": "code",
      "metadata": {
        "id": "2Eb7Z18-iWn7",
        "colab_type": "code",
        "outputId": "bb60e58b-55cf-445c-efc1-8ff7a4b7a5dd",
        "colab": {
          "base_uri": "https://localhost:8080/",
          "height": 259
        }
      },
      "source": [
        "import pandas as pd\n",
        "df = pd.read_json('/content/drive/My Drive/Expert_Finding/citation-updated.JSON')\n",
        "# len(df)\n",
        "print(df.shape)\n",
        "df.head()"
      ],
      "execution_count": 0,
      "outputs": [
        {
          "output_type": "stream",
          "text": [
            "(629813, 8)\n"
          ],
          "name": "stdout"
        },
        {
          "output_type": "execute_result",
          "data": {
            "text/html": [
              "<div>\n",
              "<style scoped>\n",
              "    .dataframe tbody tr th:only-of-type {\n",
              "        vertical-align: middle;\n",
              "    }\n",
              "\n",
              "    .dataframe tbody tr th {\n",
              "        vertical-align: top;\n",
              "    }\n",
              "\n",
              "    .dataframe thead th {\n",
              "        text-align: right;\n",
              "    }\n",
              "</style>\n",
              "<table border=\"1\" class=\"dataframe\">\n",
              "  <thead>\n",
              "    <tr style=\"text-align: right;\">\n",
              "      <th></th>\n",
              "      <th>title</th>\n",
              "      <th>author</th>\n",
              "      <th>year</th>\n",
              "      <th>n_ref</th>\n",
              "      <th>abstract</th>\n",
              "      <th>ref</th>\n",
              "      <th>text</th>\n",
              "      <th>word_count</th>\n",
              "    </tr>\n",
              "  </thead>\n",
              "  <tbody>\n",
              "    <tr>\n",
              "      <th>0</th>\n",
              "      <td>Automated Deduction in Geometry: 5th Internati...</td>\n",
              "      <td>[Hoon Hong, Dongming Wang]</td>\n",
              "      <td>2006</td>\n",
              "      <td>0</td>\n",
              "      <td></td>\n",
              "      <td></td>\n",
              "      <td>Automated Deduction in Geometry: 5th Internati...</td>\n",
              "      <td>29</td>\n",
              "    </tr>\n",
              "    <tr>\n",
              "      <th>1</th>\n",
              "      <td>A+ Certification Core Hardware (Text &amp; Lab Man...</td>\n",
              "      <td>[Charles J. Brooks]</td>\n",
              "      <td>2003</td>\n",
              "      <td>0</td>\n",
              "      <td></td>\n",
              "      <td></td>\n",
              "      <td>A+ Certification Core Hardware (Text &amp; Lab Man...</td>\n",
              "      <td>9</td>\n",
              "    </tr>\n",
              "    <tr>\n",
              "      <th>2</th>\n",
              "      <td>Performance engineering in industry: current p...</td>\n",
              "      <td>[Ahmed E. Hassan, Parminder Flora]</td>\n",
              "      <td>2007</td>\n",
              "      <td>0</td>\n",
              "      <td>This panel session discusses performance engin...</td>\n",
              "      <td></td>\n",
              "      <td>Performance engineering in industry: current p...</td>\n",
              "      <td>50</td>\n",
              "    </tr>\n",
              "    <tr>\n",
              "      <th>3</th>\n",
              "      <td>Dude, You Can Do It! How to Build a Sweeet PC</td>\n",
              "      <td>[Darrel Creacy, Carlito Vicencio]</td>\n",
              "      <td>2005</td>\n",
              "      <td>0</td>\n",
              "      <td>Whether you're frustrated with current PC offe...</td>\n",
              "      <td></td>\n",
              "      <td>Dude, You Can Do It! How to Build a Sweeet PC ...</td>\n",
              "      <td>219</td>\n",
              "    </tr>\n",
              "    <tr>\n",
              "      <th>4</th>\n",
              "      <td>What Every Programmer Needs to Know about Secu...</td>\n",
              "      <td>[Neil Daswani, Anita Kesavan]</td>\n",
              "      <td>2006</td>\n",
              "      <td>0</td>\n",
              "      <td></td>\n",
              "      <td></td>\n",
              "      <td>What Every Programmer Needs to Know about Secu...</td>\n",
              "      <td>13</td>\n",
              "    </tr>\n",
              "  </tbody>\n",
              "</table>\n",
              "</div>"
            ],
            "text/plain": [
              "                                               title  ... word_count\n",
              "0  Automated Deduction in Geometry: 5th Internati...  ...         29\n",
              "1  A+ Certification Core Hardware (Text & Lab Man...  ...          9\n",
              "2  Performance engineering in industry: current p...  ...         50\n",
              "3      Dude, You Can Do It! How to Build a Sweeet PC  ...        219\n",
              "4  What Every Programmer Needs to Know about Secu...  ...         13\n",
              "\n",
              "[5 rows x 8 columns]"
            ]
          },
          "metadata": {
            "tags": []
          },
          "execution_count": 1
        }
      ]
    },
    {
      "cell_type": "code",
      "metadata": {
        "id": "hKrxH2TLAXY7",
        "colab_type": "code",
        "outputId": "f3892e5b-c035-4662-cb91-0f33c7f750d4",
        "colab": {
          "base_uri": "https://localhost:8080/",
          "height": 35
        }
      },
      "source": [
        "corpus = []\n",
        "with open(\"/content/drive/My Drive/Expert_Finding/corpus.txt\", 'r') as f:\n",
        "    lines = f.readlines()\n",
        "    for l in lines:\n",
        "      corpus.append(l[:-1])\n",
        "len(corpus)\n",
        "print(len(corpus),corpus[0])"
      ],
      "execution_count": 0,
      "outputs": [
        {
          "output_type": "stream",
          "text": [
            "629813 automated deduction geometry th international workshop adg gainesville fl usa september revised paper lecture note computer lecture note artificial intelligence\n"
          ],
          "name": "stdout"
        }
      ]
    },
    {
      "cell_type": "code",
      "metadata": {
        "id": "13vgwX9cPwdS",
        "colab_type": "code",
        "outputId": "dd4f5312-06f1-48b3-a4e8-a7439c021794",
        "colab": {
          "base_uri": "https://localhost:8080/",
          "height": 127
        }
      },
      "source": [
        "import json\n",
        "with open('/content/drive/My Drive/Expert_Finding/docs_keywords.json', 'r') as openfile: \n",
        "  docs_keywords = json.load(openfile) \n",
        "print(len(docs_keywords))\n",
        "docs_keywords['2']"
      ],
      "execution_count": 0,
      "outputs": [
        {
          "output_type": "stream",
          "text": [
            "629813\n"
          ],
          "name": "stdout"
        },
        {
          "output_type": "execute_result",
          "data": {
            "text/plain": [
              "{'adoption': 0.368,\n",
              " 'industry': 0.288,\n",
              " 'performance': 0.276,\n",
              " 'practice': 0.268,\n",
              " 'session': 0.309}"
            ]
          },
          "metadata": {
            "tags": []
          },
          "execution_count": 3
        }
      ]
    },
    {
      "cell_type": "code",
      "metadata": {
        "id": "N3Eww1cMeyiV",
        "colab_type": "code",
        "outputId": "896e9b9d-9a2d-4dd9-9a42-7a0e822a5d02",
        "colab": {
          "base_uri": "https://localhost:8080/",
          "height": 35
        }
      },
      "source": [
        "def find_keyword(keyword):\n",
        "  n_docs = 0\n",
        "  for i in range(len(docs_keywords)):\n",
        "    x = docs_keywords.get(str(i))\n",
        "    if(keyword in x.keys()):\n",
        "      n_docs+=1\n",
        "      # print(i)\n",
        "  print(\"total docs related to '\",keyword, \"'are\", n_docs)\n",
        "keyword='matching'\n",
        "find_keyword(keyword)"
      ],
      "execution_count": 0,
      "outputs": [
        {
          "output_type": "stream",
          "text": [
            "total docs related to ' matching 'are 1947\n"
          ],
          "name": "stdout"
        }
      ]
    },
    {
      "cell_type": "code",
      "metadata": {
        "id": "gKyqdIhHLR0y",
        "colab_type": "code",
        "outputId": "3a05cb41-762b-4597-9784-1c859d7f0ebf",
        "colab": {
          "base_uri": "https://localhost:8080/",
          "height": 54
        }
      },
      "source": [
        "# author vectors\n",
        "import numpy as np\n",
        "import itertools\n",
        "\n",
        "temp = df['author'].tolist()\n",
        "authors = list(itertools.chain.from_iterable(temp))\n",
        "print(len(authors))\n",
        "authors_unique = list(set(authors))\n",
        "print(\"unique authors :\",len(authors_unique))\n"
      ],
      "execution_count": 0,
      "outputs": [
        {
          "output_type": "stream",
          "text": [
            "1337971\n",
            "unique authors : 595774\n"
          ],
          "name": "stdout"
        }
      ]
    },
    {
      "cell_type": "code",
      "metadata": {
        "id": "mlO31-67Pd-q",
        "colab_type": "code",
        "outputId": "a86b03f5-46a9-463d-84f1-b97c73e365c1",
        "colab": {
          "base_uri": "https://localhost:8080/",
          "height": 237
        }
      },
      "source": [
        "# get authors documents\n",
        "author_docs = {}\n",
        "for i in range(len(df)):\n",
        "  for author in df['author'][i]:\n",
        "    if not author in author_docs:\n",
        "      author_docs[author] = [i]\n",
        "    else:\n",
        "      author_docs[author].append(i) \n",
        "author_docs['Jin Dong']"
      ],
      "execution_count": 0,
      "outputs": [
        {
          "output_type": "execute_result",
          "data": {
            "text/plain": [
              "[602,\n",
              " 2774,\n",
              " 3711,\n",
              " 5475,\n",
              " 51216,\n",
              " 66893,\n",
              " 70035,\n",
              " 70745,\n",
              " 70812,\n",
              " 73071,\n",
              " 336719,\n",
              " 493349]"
            ]
          },
          "metadata": {
            "tags": []
          },
          "execution_count": 6
        }
      ]
    },
    {
      "cell_type": "code",
      "metadata": {
        "id": "JG_mC_8FxLKB",
        "colab_type": "code",
        "outputId": "387060bb-ec4a-466f-c07e-8ba56aa2e760",
        "colab": {
          "base_uri": "https://localhost:8080/",
          "height": 35
        }
      },
      "source": [
        "# query : Machine architecture, Magnetic field, Machine learning, Magnetic resonance, algorithms, images processing, semantic, information, information retrieval\n",
        "query=['data structure']\n",
        "lmda = 0.5\n",
        "query_unique = list(set(query))\n",
        "query_unique"
      ],
      "execution_count": 0,
      "outputs": [
        {
          "output_type": "execute_result",
          "data": {
            "text/plain": [
              "['data structure']"
            ]
          },
          "metadata": {
            "tags": []
          },
          "execution_count": 72
        }
      ]
    },
    {
      "cell_type": "code",
      "metadata": {
        "id": "JEb0wnSdxsRZ",
        "colab_type": "code",
        "outputId": "ae1aeefd-af05-4df1-9df5-44c2b2c591d6",
        "colab": {
          "base_uri": "https://localhost:8080/",
          "height": 74
        }
      },
      "source": [
        "# relevant documents\n",
        "rel_docs = {}\n",
        "def find_rel_docs(q):\n",
        "  n = []\n",
        "  for i in range(len(docs_keywords)):\n",
        "    x = docs_keywords.get(str(i))\n",
        "    if(q in x.keys()):\n",
        "      n.append(i)\n",
        "  rel_docs[q] = n\n",
        "for q in query_unique:\n",
        "  find_rel_docs(q)\n",
        "# print(rel_docs)\n",
        "rel_docs_unique = []\n",
        "for d in rel_docs.values():\n",
        "  rel_docs_unique.extend(d)\n",
        "rel_docs_unique = sorted(list(set(rel_docs_unique)))\n",
        "print(\"rel_docs_unique :\",len(rel_docs_unique))\n",
        "print(rel_docs_unique)"
      ],
      "execution_count": 0,
      "outputs": [
        {
          "output_type": "stream",
          "text": [
            "rel_docs_unique : 1071\n",
            "[66, 445, 617, 1021, 1160, 1542, 1651, 1981, 2074, 2517, 2965, 2970, 3054, 3774, 4376, 4873, 4992, 5857, 5986, 6111, 6639, 7193, 7779, 8091, 8723, 9101, 9204, 10211, 10671, 10764, 11100, 11102, 11402, 13041, 13082, 13596, 13977, 14444, 14584, 14604, 15187, 15470, 16053, 16237, 16293, 16376, 17133, 19709, 21291, 21322, 23156, 24570, 25540, 27790, 28606, 29948, 38114, 41214, 41347, 41788, 43018, 43107, 43218, 44371, 45519, 46468, 46629, 46794, 48488, 49874, 50021, 50066, 50580, 50702, 51180, 51787, 53987, 54218, 55737, 56862, 57112, 57140, 57856, 60805, 63094, 64127, 64650, 66751, 67485, 67760, 68217, 70328, 71025, 74666, 74716, 75700, 76435, 76665, 77303, 77755, 78331, 78440, 79172, 81529, 81940, 81973, 82869, 83320, 83463, 83671, 84609, 84721, 85542, 85872, 86127, 87077, 88727, 88749, 90397, 90603, 91487, 91876, 92174, 92790, 92841, 95934, 96769, 96806, 101883, 102514, 103810, 104868, 104875, 104929, 106062, 107900, 108200, 108508, 109285, 109621, 111762, 111926, 112321, 113207, 113647, 113928, 114026, 115419, 115451, 115944, 117232, 117660, 118008, 118184, 118654, 119087, 120078, 120317, 121336, 123654, 123891, 124688, 128619, 129177, 129226, 129918, 131008, 131320, 133229, 134601, 135601, 137799, 137981, 139225, 139713, 140071, 142774, 143472, 144145, 145291, 145304, 145611, 145718, 146415, 146570, 147373, 147452, 148175, 148272, 148305, 148678, 148776, 148835, 149835, 150204, 151184, 152452, 152694, 152826, 153098, 153538, 153755, 154092, 154329, 154386, 154647, 155856, 157563, 157724, 158028, 158548, 159074, 159143, 159321, 159353, 159565, 159915, 159970, 160081, 160284, 160717, 160872, 160967, 161082, 161587, 162154, 162212, 162844, 162901, 162903, 163009, 163369, 164500, 164826, 164857, 165710, 165815, 166597, 166706, 166871, 167463, 167538, 167926, 168314, 168666, 169265, 169452, 169680, 169852, 170015, 170184, 170510, 170776, 170925, 172190, 172557, 172675, 173774, 173817, 174067, 174383, 175031, 175046, 175732, 176244, 176871, 176965, 177274, 177722, 177787, 178509, 179020, 179586, 180023, 180397, 180719, 181475, 182510, 182954, 183413, 184684, 185164, 185213, 185300, 185434, 185709, 185853, 186017, 186315, 186927, 187452, 187639, 187642, 187738, 187848, 188504, 188929, 189644, 189908, 190686, 190835, 191258, 191786, 192062, 192074, 192149, 192288, 192718, 192733, 192808, 193148, 193400, 193539, 193781, 194182, 194423, 194666, 194771, 196031, 196058, 196659, 196800, 197144, 197280, 197514, 197619, 197746, 198725, 198865, 199670, 199882, 200129, 200155, 200170, 200459, 200818, 200966, 201199, 201237, 201376, 201516, 201913, 202134, 202172, 202743, 202835, 203421, 203508, 203761, 203895, 204136, 204684, 204697, 204725, 204810, 204812, 205305, 206894, 206947, 207707, 207907, 208126, 209271, 209375, 210244, 210693, 212123, 212444, 212927, 213191, 213576, 214528, 214981, 215737, 216140, 216351, 216600, 216724, 217465, 217841, 217948, 220225, 220609, 221285, 222104, 226797, 227515, 227869, 229557, 230212, 230449, 230502, 230681, 230999, 231089, 231287, 231296, 231571, 232252, 232788, 232906, 233278, 233540, 234038, 234159, 234263, 234891, 234978, 235090, 235101, 235554, 235575, 235590, 235673, 236949, 237297, 237529, 237799, 238484, 238576, 238588, 238641, 239559, 239701, 239777, 240032, 240542, 240788, 241216, 242526, 242970, 243274, 243643, 243817, 244133, 245113, 245154, 245337, 246024, 246119, 246407, 246740, 246855, 247976, 248286, 248417, 248558, 248611, 249925, 249981, 250167, 251709, 253275, 253389, 253580, 254357, 254608, 255211, 255290, 255357, 255434, 256556, 256682, 257749, 257805, 258381, 259251, 259306, 261175, 261206, 261664, 262619, 262851, 263134, 265001, 266041, 267045, 268678, 270149, 270561, 272730, 272855, 273542, 273747, 274256, 274675, 275101, 275198, 275404, 277576, 277608, 278308, 278484, 279150, 279455, 280402, 281693, 281930, 281931, 282297, 282610, 282948, 284322, 285479, 285631, 288417, 289745, 290852, 293108, 293332, 294035, 294652, 296637, 297823, 299690, 301072, 301471, 301975, 303324, 304001, 304043, 304914, 306284, 306367, 307171, 310180, 310283, 310733, 310866, 311596, 311715, 311845, 312025, 312457, 313317, 313668, 314573, 315202, 315351, 315366, 315586, 315946, 316168, 316373, 317359, 318115, 318191, 318516, 318589, 318760, 318857, 318945, 319134, 319804, 320083, 320495, 320587, 321209, 321404, 322392, 322787, 322973, 323351, 323363, 324401, 324694, 324909, 325256, 325429, 326066, 326074, 326226, 326669, 327191, 327216, 327265, 327585, 328350, 328767, 329407, 329583, 330987, 331106, 331863, 331887, 332120, 332705, 333478, 334496, 335055, 337206, 339789, 339930, 341081, 341454, 341582, 342748, 343217, 346559, 347310, 348238, 349489, 351800, 352090, 352391, 352569, 352633, 352678, 353173, 353860, 354881, 355219, 355623, 356029, 356194, 357449, 357468, 357543, 358124, 359115, 359264, 359752, 360035, 360071, 360561, 361134, 361580, 361832, 363235, 363342, 363774, 364306, 365063, 365082, 365187, 365262, 365744, 367779, 367794, 367800, 367961, 368370, 368596, 368740, 368777, 369057, 369948, 370028, 370227, 370928, 371122, 371298, 372148, 372803, 373844, 374047, 375380, 375453, 375874, 376128, 376464, 376639, 377049, 377543, 377552, 377833, 379312, 379553, 380887, 381110, 381174, 381519, 381931, 382368, 383012, 383499, 383678, 383841, 384099, 384537, 384547, 384866, 386136, 386295, 386727, 386898, 387096, 388447, 389530, 389791, 391053, 391836, 391873, 393077, 393586, 394000, 394654, 395462, 395703, 395716, 397117, 399011, 400396, 404280, 406566, 409034, 412700, 413856, 414885, 415248, 416798, 417170, 417966, 418479, 419379, 420613, 421422, 421857, 423893, 425171, 425281, 426388, 426429, 427479, 427619, 428426, 431943, 432568, 433064, 433680, 435558, 437667, 441861, 442643, 442692, 444526, 444991, 446309, 446632, 447822, 447864, 448368, 449752, 451725, 452044, 452100, 452808, 452811, 453003, 453079, 453357, 453995, 454039, 454503, 454519, 455524, 455628, 456179, 456733, 457329, 457710, 457887, 458343, 458807, 459416, 460469, 461032, 461068, 461682, 462433, 462434, 463159, 463796, 464515, 464620, 465540, 465543, 465843, 465855, 466025, 466102, 466518, 466805, 466972, 467380, 467706, 467799, 468428, 468660, 469470, 470060, 470590, 471101, 471487, 472448, 472612, 473169, 474149, 474557, 474760, 475747, 475911, 476327, 476656, 476845, 478337, 478395, 478836, 479732, 480436, 480691, 480707, 480936, 481264, 481572, 482067, 482074, 482581, 482955, 483244, 483514, 483967, 484008, 484049, 484297, 484981, 485126, 486260, 486349, 486818, 487205, 487415, 488176, 490969, 492049, 493395, 494244, 494601, 495590, 497051, 497322, 498801, 499766, 500406, 503588, 503998, 504477, 508621, 509127, 510491, 510886, 510986, 511293, 512337, 512726, 513065, 513604, 513954, 514250, 514362, 514378, 515061, 515191, 516017, 516102, 517971, 519685, 520113, 520289, 522100, 522795, 524001, 524871, 525751, 526999, 527233, 527442, 530207, 530724, 531140, 531999, 532336, 534099, 534459, 536219, 536419, 536665, 536760, 537293, 538418, 538869, 539643, 540178, 540785, 541510, 541519, 541538, 541598, 542228, 542391, 542654, 542716, 543395, 544039, 544813, 545329, 545508, 545637, 546027, 546083, 546624, 546652, 546996, 547025, 547156, 547420, 547451, 547872, 548050, 548186, 548296, 548396, 548798, 548870, 549089, 549291, 549978, 550096, 550134, 550443, 550455, 550765, 550833, 551186, 551349, 551505, 551587, 551661, 551870, 552141, 552205, 552342, 552789, 552968, 553001, 553072, 553111, 553332, 553400, 553541, 554868, 554982, 554987, 555071, 556298, 556736, 558362, 558597, 559778, 560555, 561047, 562004, 562930, 563642, 564197, 564320, 564393, 565199, 566454, 567064, 567379, 568788, 569004, 569408, 570612, 570790, 571215, 571227, 571299, 571461, 571814, 573028, 573182, 574764, 576688, 578799, 579603, 580206, 580512, 583025, 583407, 585260, 585911, 585934, 586339, 586847, 588072, 589006, 589369, 589730, 590084, 590340, 592364, 592852, 594146, 594840, 595237, 595505, 595549, 596037, 598391, 599331, 599757, 601811, 601842, 602750, 602791, 605280, 605408, 607364, 607928, 609385, 609922, 610671, 611196, 611267, 611676, 612056, 612551, 612654, 612744, 613316, 613763, 613767, 613966, 615173, 616060, 616130, 616146, 616586, 617228, 617397, 617526, 618222, 618432, 619512, 619571, 619831, 620195, 621645, 622051, 622090, 622338, 622366, 622967, 623232, 623401, 623834, 624414, 624750, 625485, 625619, 625741, 626161, 627077, 627850, 628021, 628466, 628910, 629675, 629723]\n"
          ],
          "name": "stdout"
        }
      ]
    },
    {
      "cell_type": "markdown",
      "metadata": {
        "id": "ffpN6MoN1CO_",
        "colab_type": "text"
      },
      "source": [
        "## Model 1"
      ]
    },
    {
      "cell_type": "code",
      "metadata": {
        "id": "Zw-IoPIx3Zsz",
        "colab_type": "code",
        "outputId": "8f35a02d-9dbf-493e-bdcf-f6fe8e608df1",
        "colab": {
          "base_uri": "https://localhost:8080/",
          "height": 55
        }
      },
      "source": [
        "# p(ca,q) = p(d)*p(q/theta_d)*p(ca/d)\n",
        "# p(q/theta_d) = \n",
        "# p(d) = W/C #weightage/constant normalization factor\n",
        "p_ca_q = {}\n",
        "\n",
        "lmda = 0.5\n",
        "\n",
        "p_t = {}\n",
        "corpus_word_total = 0\n",
        "for c in corpus:\n",
        "  corpus_word_total+=len(c.split())\n",
        "for t in query_unique:\n",
        "  corpus_word_freq = 0\n",
        "  for c in corpus:\n",
        "    corpus_word_freq += c.count(t)\n",
        "  p_t[t] = corpus_word_freq/corpus_word_total\n",
        "\n",
        "n_t_q = {}\n",
        "for t in query_unique:\n",
        "  n_t_q[t] = query.count(t)\n",
        "\n",
        "for doc in rel_docs_unique:\n",
        "  authors = df['author'][doc]\n",
        "  # print(authors,'##',doc)\n",
        "  p_ca_d = 1/len(authors)\n",
        "  # p_d = 1\n",
        "  p_q_theta_d = 1\n",
        "  for t in query_unique:\n",
        "    p_t_d = corpus[doc].count(t)/len(corpus[doc].split())\n",
        "    p_t_theta_d = (1-lmda) * p_t_d + (lmda * p_t[t])\n",
        "    p_q_theta_d = p_q_theta_d * (p_t_theta_d ** n_t_q[t])\n",
        "  for author in authors:\n",
        "    value = p_q_theta_d * p_ca_d\n",
        "    if not author in p_ca_q:\n",
        "      p_ca_q[author] = value\n",
        "    else:\n",
        "      p_ca_q[author] += value\n",
        "# p_ca_q\n",
        "\n",
        "import operator\n",
        "sorted_rank = sorted(p_ca_q.items(), key=operator.itemgetter(1), reverse=True)\n",
        "print(sorted_rank)"
      ],
      "execution_count": 0,
      "outputs": [
        {
          "output_type": "stream",
          "text": [
            "[('', 1.7307526520600076), ('Mark Allen Weiss', 0.754234531258344), ('Michael T. Goodrich', 0.6548195045068899), ('Sartaj Sahni', 0.5937207995911848), ('Hanan Samet', 0.5352757386804169), ('Robert L. Kruse', 0.4755328945805791), ('Greg N. Frederickson', 0.4263008417257931), ('Adam Drozdek', 0.41891233948046547), ('Roberto Tamassia', 0.3974910536269847), ('Elliot B. Koffman', 0.3319625934466446), ('Michael B. Feldman', 0.30049715770165897), (' Jr.', 0.2985519198109601), ('Nell B. Dale', 0.2965639283689615), ('Niklaus Wirth', 0.2918871747689753), ('Jeffrey Scott Vitter', 0.28741322531016245), ('Thomas L. Naps', 0.28210438997648823), ('Rick Decker', 0.2597807656921161), ('Wojciech Szpankowski', 0.2550926669153677), ('J. Ian Munro', 0.25303503723047116), ('William B. Langdon', 0.24163077531480165), ('Derick Wood', 0.23760293846503908), ('Robert R. Korfhage', 0.21683204774339812), ('Ellis Horowitz', 0.21337087322312384), ('Wilfred J. Hansen', 0.19948668049277726), ('J Ian Munro', 0.19848958268501662), ('Robert Endre Tarjan', 0.1969797673615679), ('Behrouz A. Forouzan', 0.18807325417550483), ('Aaron M. Tenenbaum', 0.18768375675192386), ('Moshe J. Augenstein', 0.18768375675192386), ('Nell Dale', 0.18766538107673147), ('Harry F. Smith', 0.18766538107673147), ('Chris Okasaki', 0.1795419362863898), ('Jean-Louis Giavitto', 0.17611336524516577), ('David Peleg', 0.17492102519880776), ('Sudhir Dawra', 0.16677692071782096), ('N. S. Kutti', 0.16677692071782096), ('Ken Brownsey', 0.16677692071782096), ('P. J. Plauger', 0.16677692071782096), ('Jean-Pierre Schachter', 0.16677692071782096), ('Milton Rosenstein', 0.16677692071782096), ('Nageswara S. V. Rao', 0.16677692071782096), ('M. B. Feldman', 0.16677692071782096), ('Neil Ivor Sarnak', 0.16677692071782096), ('Alastair Reid', 0.16677692071782096), ('Ruth E. Goldenberg', 0.159997857350108), ('D. S. Malik', 0.15577606365786417), ('Dan E. Willard', 0.15560263934729507), ('S. Doaitse Swierstra', 0.14594358738448765), ('K. Mehlhorn', 0.13897157942725463), ('A. Tsakalidis', 0.13897157942725463), ('Maurice Herlihy', 0.13615941739917614), ('Martin David Katz', 0.13349871441006478), ('Patricio V. Poblete', 0.13141538107673145), ('Ingo Wegener', 0.12794315885450924), ('John Hershberger', 0.12615007940589568), ('Tom Weiss', 0.12516538107673145), ('Michael McMillan', 0.1251102540511543), ('Sesh Venugopal', 0.1251102540511543), ('Jeffrey Childs', 0.1251102540511543), ('Nitin Upadhyay', 0.1251102540511543), ('John David Valois', 0.1251102540511543), ('Liwu Li', 0.1251102540511543), ('W Büttner', 0.1251102540511543), ('Erik Wiener', 0.1251102540511543), ('Johannes J. Martin', 0.1251102540511543), ('Frederik W Jansen', 0.1251102540511543), ('Carl Bamford Paul Curran', 0.1251102540511543), ('Larry Pfortmiller', 0.1251102540511543), ('Thomas Plum', 0.1251102540511543), ('J. J. van Amstel', 0.1251102540511543), ('Andrzej Salwicki', 0.1251102540511543), ('L. Ammeraal', 0.1251102540511543), ('Mike Morton', 0.1251102540511543), ('Mahmoud Parsian', 0.1251102540511543), ('Samuel Watkins Bent', 0.1251102540511543), ('Paul Ernest Weston', 0.1251102540511543), ('Larry Jack French', 0.1251102540511543), ('Francois Marc Bancilhon', 0.1251102540511543), ('Guy Joseph Jacobson', 0.1251102540511543), ('William Russell Turpin', 0.1251102540511543), ('Bryan Flamig', 0.1251102540511543), ('Chi Kwong Hui', 0.1251102540511543), ('James A. Storer', 0.1251102540511543), ('J. L. W. Kessels', 0.1251102540511543), ('A. J. Beulens', 0.1251102540511543), ('Andrew M. Liao', 0.1251102540511543), ('G. Malcolm', 0.1251102540511543), ('Christopher J. Van Wyck', 0.1251102540511543), ('Roger Sessions', 0.1251102540511543), ('William C. Jones', 0.1251102540511543), ('Robert S. Maier', 0.1251102540511543), ('R. Zippel', 0.1251102540511543), ('Jean Olivier Hecquard', 0.1251102540511543), ('Gary Haggard', 0.1251102540511543), ('Lee A. Becker', 0.1251102540511543), ('Philipp W. Besslich', 0.1251102540511543), ('Ronald Sanger Curtis', 0.1251102540511543), ('Peter P. Silvester', 0.1251102540511543), ('Thomas A. Standish', 0.11969350725150216), ('Robin Williams', 0.11827606365786417), ('Krishna Kant', 0.11298589389724428), ('Yedidyah Langsam', 0.11010611139258834), ('Edward M. Reingold', 0.10844358738448764), ('Richard F. Gilberg', 0.10462966679101718), ('William Collins', 0.104389518244215), ('D. J. Taylor', 0.10395232340907648), ('Ssu-Cheng Liu', 0.10311737948825085), ('Peter M. Fenwick', 0.10242176596394384), ('Roberto Grossi', 0.10225310367750903), ('Fred G. Gustavson', 0.10022050810230863), ('Allen Sherrod', 0.10011025405115431), ('Nitin Upadhyaya', 0.10011025405115431), ('Daniele Micciancio', 0.10011025405115431), ('Yasuhiko Minamide', 0.10011025405115431), ('Marloes L P van Lierop', 0.10011025405115431), ('David V Moffat', 0.10011025405115431), ('Charles W. Reynolds', 0.10011025405115431), ('William B. Dress', 0.10011025405115431), ('W B Dress', 0.10011025405115431), ('Pinaki Mazumder', 0.10011025405115431), ('William James Dally', 0.10011025405115431), ('Marsha J Berger', 0.10011025405115431), ('A. Satish Pai', 0.10011025405115431), ('Gregory Michael Hunter', 0.10011025405115431), ('Michael Stephen Parsons', 0.10011025405115431), ('Ben Abraham Shneiderman', 0.10011025405115431), ('Andre Marchal', 0.10011025405115431), ('Tomasz Kowaltowski', 0.10011025405115431), ('William Louis Ash', 0.10011025405115431), ('Stuart Charles Shapiro', 0.10011025405115431), ('James Richard Low', 0.10011025405115431), ('Stuart William Katzke', 0.10011025405115431), ('Jean Louise Bell', 0.10011025405115431), ('Joseph Bergin', 0.10011025405115431), ('Nobuhisa Fujinami', 0.10011025405115431), ('Martien Molenaar', 0.10011025405115431), ('Tony Middleton', 0.10011025405115431), ('Dennis Higgins', 0.10011025405115431), ('Jacques Cohen', 0.10011025405115431), ('Phillip Deuel', 0.10011025405115431), ('Luc Devroye', 0.10011025405115431), ('Peter Rathmann', 0.10011025405115431), ('Jan Paredis', 0.10011025405115431), ('Elena Zucca', 0.10011025405115431), ('Hans Jürgen Ohlbach', 0.10011025405115431), ('C. Ang', 0.10011025405115431), ('J. V. Noble', 0.10011025405115431), ('Jack Olson', 0.10011025405115431), ('C. S. Collberg', 0.10011025405115431), ('R. J. Chapman', 0.10011025405115431), ('Laurie Jane Hendren', 0.10011025405115431), ('S. R. Ala', 0.10011025405115431), ('Vassilis John Tsotras', 0.10011025405115431), ('Paul Savage Barth', 0.10011025405115431), ('Giorgio Ausiello', 0.10011025405115431), ('Martin Jay Sirkin', 0.10011025405115431), ('Iain T. Adamson', 0.10011025405115431), ('Thomas M. Boger', 0.10011025405115431), ('Ivan Flores', 0.10011025405115431), ('Charles F. Bowman', 0.10011025405115431), ('Anne Mulkers', 0.10011025405115431), ('Bruno R. Preiss', 0.09811873819080419), ('Frank Dehne', 0.09798726047497097), ('G. Hartmann', 0.09567505355685409), ('Norihisa Suzuki', 0.09264505587347943), ('David J. Taylor', 0.09165566438419237), ('Bernard Chazelle', 0.09030579594879048), ('Jonas S. Karlsson', 0.08995633352676746), ('M. H. Overmars', 0.0888007302416305), ('Giuseppe F. Italiano', 0.08794462444915813), ('Laurie J. Hendren', 0.08509130364971562), ('R. Y. Shukla', 0.08344358738448764), ('Angela B. Shiflet', 0.08344358738448764), ('A. Sagara', 0.08344358738448764), ('R. E. Davis', 0.08344358738448764), ('A. Michael Berman', 0.08344358738448764), ('Hanspeter Bieri', 0.08344358738448764), ('G. F. Italiano', 0.08344358738448764), ('H. J. Genrich', 0.08344358738448764), ('Mark H. Overmars', 0.08344358738448764), ('R. Hummel', 0.08344358738448764), ('M Kay', 0.08344358738448764), ('Dan Field', 0.08344358738448764), ('František Krejčí', 0.08344358738448764), ('Michael Jay Laszlo', 0.08344358738448764), ('Margo List', 0.08344358738448764), ('Jit Biswas', 0.08344358738448764), ('Prakash Manjunath Nadkarni', 0.08344358738448764), ('Norman Joshua Landis', 0.08344358738448764), ('Siroos Afshar-Khajevand', 0.08344358738448764), ('Lawrence Waldo Hunter', 0.08344358738448764), ('C. Mccrosky', 0.08344358738448764), ('Jeffery R. Westbrook', 0.08344358738448764), ('J. R. Bitner', 0.08344358738448764), ('Seonghun Cho', 0.08344358738448764), ('Franco Preparata', 0.08344358738448764), ('Omer Berkman', 0.08344358738448764), ('Uzi Vishkin', 0.08344358738448764), ('Monika Hildegard Rauch', 0.08344358738448764), ('Roberto Bisiani', 0.08344358738448764), ('David W. Jacobs', 0.08344358738448764), ('V. A. Nepomniaschy', 0.08344358738448764), ('J. H. ter Bekke', 0.08344358738448764), ('Vaclav Rajlich', 0.08344358738448764), ('Janet D. Hartman', 0.08344358738448764), ('Manfred Droste', 0.08344358738448764), ('R. D. Tennent', 0.08344358738448764), ('Steven Jeffrey Friedman', 0.08344358738448764), ('G. R. Mirza', 0.08344358738448764), ('John H. Frazer', 0.08344358738448764), ('Jonathan B. Rosenberg', 0.08344358738448764), ('Suresh Jagannathan', 0.08344358738448764), ('Zhiqing Liu', 0.08344358738448764), ('P. R. Venkata Subramaniam', 0.08344358738448764), ('Lawrence E. Turner', 0.08344358738448764), ('Alan J. Parker', 0.08344358738448764), ('James P. Black', 0.08338846035891048), ('Bhagt Singh', 0.08338846035891048), ('Oege de Moor', 0.08338846035891048), ('Christopher W. Fraser', 0.08338846035891048), ('A. A. Lopez', 0.08338846035891048), ('Michael Main', 0.08197556842513488), (' III', 0.08136025405115431), ('D. K. Arvind', 0.08136025405115431), ('T. A. Lewis', 0.08136025405115431), ('Julien Basch', 0.08063824609392128), ('Leonidas J. Guibas', 0.08063824609392128), ('R. Sundar', 0.07837829791854588), ('Olivier Michel', 0.07600311119401146), ('Richard G. Epstein', 0.07519723992632023), ('Raffaele Giancarlo', 0.07516538107673147), ('Clifford A. Shaffer', 0.07205792993973045), ('Daniel D. Sleator', 0.07186951331041357), ('Stefan Schöf', 0.07153882547972573), ('Arthur G. Duncan', 0.07153882547972573), ('Masato Takeichi', 0.07153882547972573), ('James F. Korsh', 0.07153882547972573), ('Leonard J. Garrett', 0.07153882547972573), ('Sheldon Ira Becker', 0.07153882547972573), ('Ravi Janardan', 0.07153882547972573), ('Maurice Jay Bach', 0.07153882547972573), ('Francis John Hilbing', 0.07153882547972573), ('Zhexue Huang', 0.07153882547972573), ('David B. Levine', 0.07153882547972573), ('Ralf Küsters', 0.07153882547972573), ('Arnaud Venet', 0.07153882547972573), ('Gary Russell', 0.07153882547972573), ('Christopher J. M. Walmsley', 0.07153882547972573), ('John N. Wilson', 0.07153882547972573), ('Stuart R. Matthews', 0.07153882547972573), ('P. Mukerjee', 0.07153882547972573), ('G. Russell', 0.07153882547972573), ('R. H. Davis', 0.07153882547972573), ('Christos Faloutsos', 0.07153882547972573), ('Prasun Dewan', 0.07153882547972573), ('P. Leinen', 0.07153882547972573), ('Wolfgang K. Giloi', 0.07153882547972573), ('Geoff Whale', 0.07153882547972573), ('Susan C. Lilly', 0.06955469849559875), ('M. A. Jenkins', 0.06816376687172743), ('Dinesh Mehta', 0.06674016936743621), ('Rajeev Raman', 0.06612610456643811), ('Svante Carlsson', 0.0655680688521524), ('Jingsen Chen', 0.0655680688521524), ('Wm J Mein', 0.06462638308341237), ('Robert E. Tarjan', 0.06440907616901022), ('Graeme E. Moss', 0.06387172194106257), ('Colin Runciman', 0.06387172194106257), ('Mark A. Weiss', 0.06261025405115431), ('Hatsukazu Tanaka', 0.06261025405115431), ('Volker Sperschneider', 0.06261025405115431), ('Harry George Mairson', 0.06261025405115431), ('Lingyan Shu', 0.06261025405115431), ('Ferenc Rakoczi', 0.06261025405115431), ('Norman Louis Mejstrik', 0.06261025405115431), ('James Richard Bitner', 0.06261025405115431), ('Nikolaj S. Nikitchenko', 0.06261025405115431), ('William J. Rogers', 0.06261025405115431), ('Witold Dzwinel', 0.06261025405115431), ('W. P. Ireland', 0.06261025405115431), ('K. Nilsen', 0.06261025405115431), ('Beat Michel', 0.06261025405115431), ('James L. Silver', 0.06261025405115431), ('Franz Aurenhammer', 0.06261025405115431), ('George B. Cheblakov', 0.06261025405115431), ('Gianfranco Bilardi', 0.06261025405115431), ('Ross Gore', 0.06261025405115431), ('Marek J. Lao', 0.06261025405115431), ('Farn Wang', 0.06261025405115431), ('Werner Schachinger', 0.06261025405115431), ('S. K. Srivastava', 0.06255512702557715), ('Deepali Srivastava', 0.06255512702557715), ('John W. McCormick', 0.06255512702557715), ('M. Talamo', 0.06255512702557715), ('P. Vocca', 0.06255512702557715), ('Aaron M Tenenbaum', 0.06255512702557715), ('Moshe J Augenstein', 0.06255512702557715), ('Richard F. Sincovec', 0.06255512702557715), ('Richard S. Wiener', 0.06255512702557715), ('M. Gössel', 0.06255512702557715), ('B. Rebel', 0.06255512702557715), ('John C. Munson', 0.06255512702557715), ('Taghi M. Khoshgoftaar', 0.06255512702557715), ('João Sariava', 0.06255512702557715), ('Ulrich Lang', 0.06255512702557715), ('Michel Grave', 0.06255512702557715), ('M. L. Fredman', 0.06255512702557715), ('D. S. Johnson', 0.06255512702557715), ('G. Ostheimer', 0.06255512702557715), ('Jon Louis Bentley', 0.06255512702557715), ('Jerome H. Friedman', 0.06255512702557715), ('Philippe J. Gabrini', 0.06255512702557715), ('Barry L. Kurtz', 0.06255512702557715), ('Anne Kaldewaij', 0.06255512702557715), ('Laurens de Vries', 0.06255512702557715), ('Peter Widmayer', 0.06148294647680172), ('Adriano Di Pasquale', 0.06082453976544003), ('Enrico Nardelli', 0.06082453976544003), ('David Walker', 0.06074855192349474), ('Witold Litwin', 0.0602862513987433), ('Moshe Augenstein', 0.05991324161782961), ('Claire M. Kenyon-Mathieu', 0.05855619999710026), ('Ralf Hinze', 0.058144104480986794), ('Timothy Budd', 0.057321032378579426), ('Ron Penton', 0.055665809606709866), ('Michael P. Barnett', 0.055665809606709866), ('Niklas Holsti', 0.055665809606709866), ('Maria-Cecilia Rivara', 0.055665809606709866), ('Stephen Vaughn Petersen', 0.055665809606709866), ('Reza Sanati Mehrizy', 0.055665809606709866), ('James Edward Vandendorpe', 0.055665809606709866), ('Kenneth Rose', 0.055665809606709866), ('Akkanad Mathai Isaac', 0.055665809606709866), ('Robert Paul Weaver', 0.055665809606709866), ('Zbigniew Michalewicz', 0.055665809606709866), ('Peter Hartmann', 0.055665809606709866), ('Norbert Bartneck', 0.055665809606709866), ('D. P. Pazel', 0.055665809606709866), ('K. Donner', 0.055665809606709866), ('Y. E. Kalay', 0.055665809606709866), ('Phyllis Tedford', 0.055665809606709866), ('Helmut Alt', 0.05562905825632509), ('Kurt Mehlhorn', 0.05562905825632509), ('Adrian Colbrook', 0.05559230690594032), ('Colin Smythe', 0.05559230690594032), ('D. H. Pitt', 0.05559230690594032), ('Jay Earley', 0.05434973360508997), ('Douglas W. Nance', 0.05408752677842704), ('Micha Sharir', 0.05281412252811857), ('Zvi Galil', 0.052517598781982415), ('Ulrich Lauther', 0.051834391982188796), ('Larry R. Nyhoff', 0.05076061917196956), ('Martin Rinard', 0.05067584615108291), ('John Lewis', 0.05059692888101243), ('Maria Cristina Pinotti', 0.05059102328192354), ('Hirobumi Nishida', 0.05011025405115432), ('David Scanlan', 0.05011025405115432), ('Stephen T. Kerr', 0.05011025405115432), ('Lawrence Eugene Gales', 0.05011025405115432), ('John Steven Brown', 0.05011025405115432), ('David Robbins Barstow', 0.05011025405115432), ('Tianlai Jiang', 0.05011025405115432), ('Henry G. Baker', 0.05011025405115432), ('K. S. Shankar', 0.05011025405115432), ('Lee D. Cornell', 0.05011025405115432), ('J. S. Davis', 0.05011025405115432), ('Alexander J. Ryba', 0.050055127025577156), ('W R Franklin', 0.050055127025577156), ('V Akman', 0.050055127025577156), ('Norman E. Gibbs', 0.050055127025577156), ('Andreas Meier', 0.050055127025577156), ('Markus Ilg', 0.050055127025577156), ('Dennis J Volper', 0.050055127025577156), ('A. S. M. Sajeev', 0.050055127025577156), ('J. Olszewski', 0.050055127025577156), ('Lawrence J. Kenah', 0.050055127025577156), ('Simon F. Bate', 0.050055127025577156), ('M. D. Moshier', 0.050055127025577156), ('W. C. Rounds', 0.050055127025577156), ('Donald L. Simon', 0.050055127025577156), ('J. Gregory Morrisett', 0.050055127025577156), ('Richard Weiner', 0.050055127025577156), ('Lewis J. Pinson', 0.050055127025577156), ('Jörg-Rüdiger Sack', 0.050055127025577156), ('Jorge Urrutia', 0.050055127025577156), ('Frank Bauernöppel', 0.050055127025577156), ('Hermann Jung', 0.050055127025577156), ('Carla Limongelli', 0.050055127025577156), ('Marco Temperini', 0.050055127025577156), ('Guy J. Hale', 0.050055127025577156), ('Richard J. Easton', 0.050055127025577156), ('T. Naps', 0.050055127025577156), ('B. Singh', 0.050055127025577156), ('E. Bruzzone', 0.050055127025577156), ('L. De Floriani', 0.050055127025577156), ('A. Bissett', 0.050055127025577156), ('J. Forrest', 0.050055127025577156), ('P. Lentfert', 0.050055127025577156), ('L. Nyhoff', 0.050055127025577156), ('Sanford Leestma', 0.050055127025577156), ('Mayer Aladjem', 0.050055127025577156), (\"Its'hak Dinstein\", 0.050055127025577156), ('M. R. Dobie', 0.050055127025577156), ('P. H. Lewis', 0.050055127025577156), ('Victor M. Madrigal', 0.050055127025577156), ('William J. Collins', 0.04944074339557205), ('Judy Mullins', 0.04916462757361294), ('Vijay Kumar', 0.04916462757361294), ('Robert Lafore', 0.048335657402347604), ('Robert E. Webber', 0.046028621398093085), ('Paolo Ferragina', 0.04589284962635472), ('Leila De Floriani', 0.045647862059556094), ('Alon Efrat', 0.04563451403487665), ('M. Jung', 0.04556479950569977), ('Sandra Lee Mitchell', 0.04556479950569977), ('Richard Oscar Lind', 0.04556479950569977), ('Arie Tamir', 0.04556479950569977), ('George J. Pothering', 0.04451814878799641), ('Anne Rogers', 0.044301229839256606), ('A. Ravichandran', 0.04418076687166713), ('Ben Shneiderman', 0.043861268522618915), ('Yakov Nekrich', 0.043653143314493714), ('Duane J. Jarc', 0.04358851492071953), ('Jean Vuillemin', 0.04358851492071953), ('M. Chock', 0.04358851492071953), ('Christoph Meinel', 0.04315318595478025), ('Richard Thomas Snodgrass', 0.04242728583863623), ('V. K. Vaishnavi', 0.04237919687428772), ('Don Batory', 0.042045901364467675), ('Tony Woo', 0.04177692071782098), ('Daniel T. Joyce', 0.0417401693674362), ('Chip Weems', 0.0417401693674362), ('Marie-Anne Neimat', 0.041730981529840006), ('Tony Gaddis', 0.04172179369224382), ('Godfrey Muganda', 0.04172179369224382), ('Kunwoo Lee', 0.04172179369224382), ('David C. Gossard', 0.04172179369224382), ('Johan Lewi', 0.04172179369224382), ('Jan Paredaens', 0.04172179369224382), ('Z. Galil', 0.04172179369224382), ('R. Giancarlo', 0.04172179369224382), ('Jean-Paul Tremblay', 0.04172179369224382), ('Paul G. Sorenson', 0.04172179369224382), ('Sitharama Iyengar', 0.04172179369224382), ('Hrishikesh Gadagkar', 0.04172179369224382), ('Alan George', 0.04172179369224382), ('Joseph Liu', 0.04172179369224382), ('Bert Alton Brantley', 0.04172179369224382), ('Lucas Chi Kwong Hui', 0.04172179369224382), ('Charles Martel', 0.04172179369224382), ('Saro Saravanan', 0.04172179369224382), ('Samuel E. Rhoads', 0.04172179369224382), ('Michael V. Gearen', 0.04172179369224382), ('Michael Wolfe', 0.04172179369224382), ('Harini Srinivasan', 0.04172179369224382), ('Matthew J. Katz', 0.04172179369224382), ('Frank Nielsen', 0.04172179369224382), ('Gaston H. Gonnet', 0.04172179369224382), ('Frank W. Tompa', 0.04172179369224382), ('Jeffrey A. Chard', 0.04172179369224382), ('Vadim Shapiro', 0.04172179369224382), ('J. Morris Chang', 0.04172179369224382), ('Charles H. Daugherty', 0.04172179369224382), ('Frank Schulz', 0.04172179369224382), ('Elmar Schömer', 0.04172179369224382), ('George Horatiu Botorog', 0.04172179369224382), ('Herbert Kuchen', 0.04172179369224382), ('Sergei N. Artëmov', 0.04172179369224382), ('Vladimir Krupski', 0.04172179369224382), ('Lukas Relly', 0.04172179369224382), ('Andreas Wolf', 0.04172179369224382), ('M. Ancona', 0.04172179369224382), ('L. de Floriani', 0.04172179369224382), ('M. Ouksel', 0.04172179369224382), ('P. Scheurmann', 0.04172179369224382), ('John H. Riley', 0.04172179369224382), ('J. I. Glasgow', 0.04172179369224382), ('Jeffrey Esakov', 0.04172179369224382), ('Boleslaw K. Szymanski', 0.04172179369224382), ('Noah S. Prywes', 0.04172179369224382), ('Jurg Nievergelt', 0.04172179369224382), ('Klaus H. Hinrichs', 0.04172179369224382), ('Philippe Flajolet', 0.04172179369224382), ('H. H. Dannelongue', 0.04172179369224382), ('P. A. Tanguy', 0.04172179369224382), ('Alok Aggarwal', 0.04172179369224382), ('Prabhakar Raghavan', 0.04172179369224382), ('Jürg Nievergelt', 0.04172179369224382), ('Carsten K. Gomard', 0.04172179369224382), ('Peter Sestoft', 0.04172179369224382), ('Allan Gottlieb', 0.041703418017051436), ('Kai Hwang', 0.041703418017051436), ('Prabhakar Gupta', 0.041703418017051436), ('Vineet Agarwal', 0.041703418017051436), ('Manish Varshney', 0.041703418017051436), ('Yossi Matias', 0.041703418017051436), ('Neal E. Young', 0.041703418017051436), ('Venkatesh Raman', 0.041703418017051436), ('S. Srinivasa Rao', 0.041703418017051436), ('James R. Driscoll', 0.041703418017051436), ('Neil Sarnak Daniel D. Sleator', 0.041703418017051436), ('Michael C. Burton', 0.04169423017945524), ('William G. Griswold', 0.04169423017945524), ('Andrew D. McCulloch', 0.04169423017945524), ('Gary A. Huber', 0.04169423017945524), ('Victor Luchangco', 0.04106103907651606), ('Mark Moir', 0.04106103907651606), ('Irene Finocchi', 0.040568068852152396), ('Haim Kaplan', 0.039683609276599405), ('Craig D. Silverstein', 0.03893482807686985), ('Li Zhang', 0.03893482807686985), ('M. H. Smid', 0.038745603216053345), ('L. Torenvliet', 0.038745603216053345), ('P. van Emde Boas', 0.038745603216053345), ('J Timothy Kolosick', 0.03857179251269278), ('Kenneth Lambert', 0.03851666548711562), ('Martin Osborne', 0.03851666548711562), ('John R. Hubbard', 0.03846801552509131), ('Francisco Corbera', 0.03816055882906278), ('Rafael Asenjo', 0.03816055882906278), ('Emilio L. Zapata', 0.03816055882906278), ('Andrew Rau-Chaplin', 0.037854955613585796), ('Billy G. Claybrook', 0.037846103107758086), ('Carla Schlatter Ellis', 0.03752356648970437), ('Alexandru Nicolau', 0.03731012378499687), ('Dean Sanders', 0.03714729108819135), ('Paola Magillo', 0.03674586248222097), ('Enrico Puppo', 0.03674586248222097), ('Yuan-Shin Hwang', 0.03672641566731593), ('Pankaj K. Agarwal', 0.036613266592265395), ('Lenwood S. Heath', 0.036233390174290434), ('Vadim Engelson', 0.03605835118561802), ('Dag Fritzson', 0.03605835118561802), ('Peter Fritzson', 0.03605835118561802), ('Jaanus Pöial', 0.035824539765440026), ('Esther Jinee Choi', 0.035769412739862866), ('Yong Rae Kwon', 0.035769412739862866), ('Paul Helman', 0.035769412739862866), ('Robert Veroff', 0.035769412739862866), ('Jared Bruckner', 0.035769412739862866), ('James Harp', 0.035769412739862866), ('Charles John Grewe', 0.035769412739862866), ('David S. Scott', 0.035769412739862866), ('S. S Iyengar', 0.035769412739862866), ('S. C. Chang', 0.035769412739862866), ('M. W. Du', 0.035769412739862866), ('Alistair McMonnies', 0.035769412739862866), ('W. S. McSporran', 0.035769412739862866), ('Joe Kent', 0.035769412739862866), ('Lewis Barnett', 0.035769412739862866), ('Camil Demetrescu', 0.035769412739862866), ('Maurizio Pizzonia', 0.035769412739862866), ('Giuseppe Di Battista', 0.035769412739862866), ('Ulrich Finke', 0.035769412739862866), ('Klaus Hinrichs', 0.035769412739862866), ('John W. Buchanan', 0.035769412739862866), ('Mario C. Sousa', 0.035769412739862866), ('P. S. Deshpande', 0.035769412739862866), ('O. G. Kakde', 0.035769412739862866), ('Yung-Kuan Chan', 0.035769412739862866), ('Chin-Chen Chang', 0.035769412739862866), ('Werner C. Rheinboldt', 0.035769412739862866), ('Charles K. Mesztenyi', 0.035769412739862866), ('Pierre Lescanne', 0.035769412739862866), ('Jean-Marc Steyaert', 0.035769412739862866), ('Rong Yang', 0.035769412739862866), ('Steve Gregory', 0.035769412739862866), ('Gabriele Keller', 0.035769412739862866), ('Manuel M. T. Chakravarty', 0.035769412739862866), ('J. Aspnes', 0.035769412739862866), ('M. Herlihy', 0.035769412739862866), ('T. Tamassia', 0.035769412739862866), ('J. S. Vitter', 0.035769412739862866), ('F. Warren Burton', 0.035769412739862866), ('Hsi-Kai Yang', 0.035769412739862866), ('Stephen Brookes', 0.035769412739862866), ('Shai Geva', 0.035769412739862866), ('Efri Nattel', 0.035769412739862866), ('Yehezkel Yeshurun', 0.035769412739862866), ('Dominic Mazzoni', 0.035769412739862866), ('Roger B. Dannenberg', 0.035769412739862866), ('James H. Cross', 0.03556779908327959), ('Bernd-Uwe Pagel', 0.03505363110248959), ('Hans-Werner Six', 0.03505363110248959), ('Johan Larsson', 0.03499397498138687), ('Gregory L. Heileman', 0.03499397498138687), ('Joel Saltz', 0.03481410059818414), ('Peter Brass', 0.03459301267184397), ('Mark Guzdial', 0.03428456597775982), ('Brian Demsky', 0.03423563322203399), ('Greg Henry', 0.0342011631420634), ('Philip N. Klein', 0.03400855913590008), ('I-Ling Yen', 0.03396335669188469), ('Farokh B. Bastani', 0.03368464989143876), ('Soumen Chakrabarti', 0.03350600935702198), ('Katherine Yelick', 0.03350600935702198), ('Desh Ranjan', 0.03339213549394896), ('Marty Sirkin', 0.033370084683718104), ('Vivek Singhal', 0.033370084683718104), ('Daniel Enselme', 0.033370084683718104), ('Gerard Benay', 0.033370084683718104), ('F.-Y. Villemin', 0.033370084683718104), ('Michael A. Bender', 0.033370084683718104), ('Saurabh Sethia', 0.033370084683718104), ('Steven Skiena', 0.033370084683718104), ('Bruce P. Leung', 0.033370084683718104), ('Clovis L. Tondo', 0.033370084683718104), ('D. T. Barnard', 0.033370084683718104), ('R. C. Holt', 0.033370084683718104), ('J. N. P. Hume', 0.033370084683718104), ('Gonzalo Navarro', 0.033267030748562715), ('Aaron Tenenbaum', 0.033213966259344134), ('John C. Reynolds', 0.03307049020041103), ('John H. Reppy', 0.032965043460623254), ('Robert C. Gammill', 0.032718949703328226), ('Glenn Rowe', 0.031752585484782284), ('Dennis L. Johnson', 0.031305127025577154), ('Arthur C. Miller', 0.031305127025577154), ('J F Peters', 0.031305127025577154), ('R. E. Bank', 0.031305127025577154), ('A. H. Sherman', 0.031305127025577154), ('John Camp Hallyburton', 0.031305127025577154), ('Raymond Franklyn Ford', 0.031305127025577154), ('Guocheng Pan', 0.031305127025577154), ('Lixian Xia', 0.031305127025577154), ('Li Lin', 0.031305127025577154), ('Ravi Sanka', 0.031305127025577154), ('Bruce B. Maxim', 0.031305127025577154), ('Alan A. Bertossi', 0.031305127025577154), ('Amalia Duch', 0.031305127025577154), ('Conrado Martinez', 0.031305127025577154), ('Aart J. C. Bik', 0.031305127025577154), ('Harry A. G. Wijshoff', 0.031305127025577154), ('Sabine Timpf', 0.031305127025577154), ('Andrew U. Frank', 0.031305127025577154), ('R. Armstrong', 0.031305127025577154), ('C. Haksever', 0.031305127025577154), ('Walter Cunto', 0.031305127025577154), ('G. V. Paolini', 0.031305127025577154), ('G. Radicati di Brozolo', 0.031305127025577154), ('Mandayam A. Srinivas', 0.031305127025577154), ('K. Kant', 0.031305127025577154), ('Michael F. Goodchild', 0.031305127025577154), ('Yang Shiren', 0.031305127025577154), ('Ghosh Debarata Dastidar', 0.03127756351278858), ('Matangini Chattopadhyay', 0.03127756351278858), ('Samiran Chattopadhyay', 0.03127756351278858), ('Dastidar D. Ghosh', 0.03127756351278858), ('J R Driscoll', 0.03127756351278858), ('N Sarnak', 0.03127756351278858), ('D D Sleator', 0.03127756351278858), ('R E Tarjan', 0.03127756351278858), ('L. A. Mc Geoch', 0.03127756351278858), ('L. A. McGeoch', 0.03127756351278858), ('M Fitting', 0.030722498949113497), ('Martin C. Rinard', 0.030641902011267673), ('J Thornburg', 0.030413284354184618), ('Joseph M. Fontana', 0.030110254051154313), ('Ulrich Flemming', 0.029522018757036667), ('Jayadev Misra', 0.029522018757036667), ('Douglas Bell', 0.02946689173145951), ('Mehdi Mir-Ghasemi', 0.02946689173145951), ('Artur Czumaj', 0.02946689173145951), ('Christian Sohler', 0.02946689173145951), ('Nazim H. Madhavji', 0.028681682622582885), ('W. Douglas Maurer', 0.028412140843607145), (' II', 0.028187294394020422), ('G. Persch', 0.02788803182893209), ('J. Katzenelson', 0.02788803182893209), ('B. P. Weems', 0.02788803182893209), ('Walter Savitch', 0.027832904803354933), ('Johan Margono', 0.027832904803354933), ('Edward V. Berard', 0.027832904803354933), ('Sibel Adali', 0.027832904803354933), ('V. S. Subrahmanian', 0.027832904803354933), ('James L. Antonakos', 0.027832904803354933), ('Kenneth C. Mansfield', 0.027832904803354933), ('Alexandros V. Gerbessiotis', 0.027832904803354933), ('Constantinos J. Siniolakis', 0.027832904803354933), ('Richard Cole', 0.027832904803354933), ('Ofer Zajicek', 0.027832904803354933), ('Christopher Lynch', 0.027832904803354933), ('Polina Strogova', 0.027832904803354933), ('Christophe Laurent', 0.027832904803354933), ('Jean Roman', 0.027832904803354933), ('Detlef Sieling', 0.027832904803354933), ('Peter DePasquale', 0.027814529128162544), ('Joe Chase', 0.027814529128162544), ('Kiyoshi Akama', 0.027814529128162544), ('Hidekatsu Koike', 0.027814529128162544), ('Hiroshi Mabuchi', 0.027814529128162544), ('Gaétan Hains', 0.027814529128162544), ('Frédéric Loulergue', 0.027814529128162544), ('John Mullins', 0.027814529128162544), ('Yahiko Kambayashi', 0.027814529128162544), ('Hiroki Takakura', 0.027814529128162544), ('Shintaro Meki', 0.027814529128162544), ('Lukas Bachmann', 0.027814529128162544), ('Michael Benedikt', 0.027814529128162544), ('Thomas W. Reps', 0.027814529128162544), ('Shmuel Sagiv', 0.027814529128162544), ('M. Chrobak', 0.027814529128162544), ('T. Szymacha', 0.027814529128162544), ('A. Krawczyk', 0.027814529128162544), ('P. D. Felice', 0.027814529128162544), ('A. Agnifili', 0.027814529128162544), ('E. Clementini', 0.027814529128162544), (\"V. P. Il'in\", 0.027814529128162544), ('V. I. Karnachuk', 0.027814529128162544), ('M. R. Larin', 0.027814529128162544), ('W. Marcus Miller', 0.027814529128162544), ('Walid A. Najjar', 0.027814529128162544), ('A. P. Wim Böhm', 0.027814529128162544), ('Alan Fekete', 0.027276785158585684), ('Tao Chen', 0.027137281078181343), ('Joseph Hummel', 0.026985306590990698), ('Alessandra Lumini', 0.026807564650471728), ('Dario Maio', 0.026807564650471728), ('E. W. Thompson', 0.02652692071782098), ('W. E. Gull', 0.02644197317948361), ('Rob Gerritsen', 0.025972323016671555), ('David I. August', 0.02596681608443293), ('Gregory R. Andrews', 0.025790421143224215), ('David P. Dobkin', 0.025790421143224215), ('David Grabel', 0.025751279692179954), ('K. Karun', 0.025696152666602797), ('Pankaj Kumar', 0.025657699306628767), ('S. Sitharama Iyengar', 0.02541744586615687), ('Barbara Ericson', 0.02505512702557716), ('Jean-Pierre Cheiney', 0.02505512702557716), ('A. Touir', 0.02505512702557716), ('Sairam Subramanian', 0.02505512702557716), ('Sridhar Ramaswamy', 0.02505512702557716), ('Gregory C. Harfst', 0.02505512702557716), ('Jerzy W. Jaromczyk', 0.02505512702557716), ('Miroslaw Kowaluk', 0.02505512702557716), ('Claire Kenyon-Mathieu', 0.02505512702557716), ('Yousef Saad', 0.02505512702557716), ('Andrei V. Malevsky', 0.02505512702557716), ('M. Aris Ouksel', 0.02505512702557716), ('Otto Mayer', 0.02505512702557716), ('K. Tang', 0.02505512702557716), ('T. Woo', 0.02505512702557716), ('F. Abbruzzese', 0.02505512702557716), ('Eliana Minicozzi', 0.02505512702557716), ('Vladimir Estivill-Castro', 0.02505512702557716), ('Michael E. Houle', 0.02505512702557716), ('S. S. Iyengar', 0.025027563512788578), ('N. S. V. Rao', 0.025027563512788578), ('R. L. Kashyap', 0.025027563512788578), ('Peter Bro Miltersen', 0.025027563512788578), ('Noam Nisan', 0.025027563512788578), ('Shmuel Safra', 0.025027563512788578), ('Avi Wigderson', 0.025027563512788578), ('S. L. Getz', 0.024700417985580543), ('Gershon Kedem', 0.024700417985580543), ('Brad A. Myers', 0.02463470705767893), ('Erkki Mäkinen', 0.024564930947145784), ('Markku Siermala', 0.024564930947145784), ('J. I. Munro', 0.02450049795359334), ('Firooz Khosraviyani', 0.02450049795359334), ('Mordecai Golin', 0.024422686549386678), ('Christian Schwarz', 0.024422686549386678), ('Michiel Smid', 0.024422686549386678), ('Ali Erkan', 0.02430522569382359), ('Anthony I. Wasserman', 0.023919777860678122), ('Clifford R. Hollander', 0.023919777860678122), ('Yitong Yin', 0.023919777860678122), ('L. J. French', 0.023919777860678122), ('Francky Catthoor', 0.023900848010150775), ('C. Mathieu', 0.023846275159908576), ('Claude Puech', 0.023846275159908576), ('Hossein Yahia', 0.023846275159908576), ('Bikash Sabata', 0.023846275159908576), ('Farshid Arman', 0.023846275159908576), ('J. K. Aggarwal', 0.023846275159908576), ('Bradford G. Nickerson', 0.023846275159908576), ('Peter A. Judd', 0.023846275159908576), ('Larry A. Mayer', 0.023846275159908576), ('Yuelong Gu', 0.023846275159908576), ('Brajendra Panda', 0.023846275159908576), ('Kazi A. Haque', 0.023846275159908576), ('Aladdin Hafez', 0.023846275159908576), ('Jitender S. Deogun', 0.023846275159908576), ('Vijay V. Raghavan', 0.023846275159908576), ('Sridhar Ramachandran', 0.023846275159908576), ('K. Rajasekar', 0.023846275159908576), ('C. Pandu Rangan', 0.023846275159908576), ('Lars Arge', 0.023846275159908576), ('Jan Vahrenhold', 0.023846275159908576), ('P. T. Hulina', 0.023846275159908576), ('L. D. Coraor', 0.023846275159908576), ('O. A. Morean', 0.023846275159908576), ('Thomas Strothotte', 0.023846275159908576), ('D. Jablonowski', 0.023846275159908576), ('V. A. Guarna', 0.023846275159908576), ('Dirk de Jong', 0.023846275159908576), ('Paul van Slobbe', 0.023846275159908576), ('Marinus van Splunter', 0.023846275159908576), ('Suresh S Chitoor', 0.023846275159908576), ('M. Narasimha Murty', 0.023846275159908576), ('Malini K. Bhandaru', 0.023846275159908576), ('Radhakrishnan Sridhar', 0.023846275159908576), ('Sitharama S. Iyengar', 0.023846275159908576), ('Subbiah Rajanarayanan', 0.023846275159908576), ('G. Jacobson', 0.023547754051154314), ('Janet Hartman', 0.023492627025577157), ('Carol Chrisman', 0.023492627025577157), ('Arthur J. Benjamin', 0.023366068004642686), ('Rhys Owen', 0.023203275173725304), ('Hugh Anderson', 0.023203275173725304), ('H. R. Rabiee', 0.023187177128077392), ('William H. Ford', 0.023132050102500235), ('William R. Topp', 0.023132050102500235), ('Heung Hwan Kim', 0.02304711496693452), ('Daniel J. Ernst', 0.023025257097511204), ('Daniel E. Stevenson', 0.023025257097511204), ('Paul J. Wagner', 0.023025257097511204), ('Nir Shavit', 0.022815052610516192), ('Joseph Chase', 0.022782399752849885), ('Joel H. Saltz', 0.022782399752849885), ('Yutaka Ohsawa', 0.022782399752849885), ('Masao Sakauchi', 0.022782399752849885), ('G. Goos', 0.022549614323019444), ('J. Hartmanis', 0.022549614323019444), ('Martin L. Griss', 0.022332476273376537), ('C. van Reeuwijk', 0.022124016012233766), ('H. J. Sips', 0.022124016012233766), ('Robert Sedgewick', 0.02209520563813498), ('Joseph D. Brownsmith', 0.021849384485936922), ('Sandra Andersen', 0.021660065297182094), ('Roberge', 0.021660065297182094), ('David Riley', 0.021538825479725743), ('Chen Ding', 0.021483698454148586), ('Prabhaker Mateti', 0.021483698454148586), ('Michael Britt', 0.021386849795835165), ('Roger T. Hartley', 0.021237014614534595), ('Thomas Yan', 0.020943587384487646), ('Hassan Masum', 0.020943587384487646), ('Aaron J. Wheeler', 0.020943587384487646), ('Dirk Strothmann', 0.020943587384487646), ('S Ohsuga', 0.02088846035891049), ('H Yamauchi', 0.02088846035891049), ('M S Carberry', 0.0208700846837181), ('A Toni Cohen', 0.0208700846837181), ('Hatem M Khalil', 0.0208700846837181), ('Cristiano Calcagno', 0.0208700846837181), ('Hongseok Yang', 0.0208700846837181), (\"Peter W. O'Hearn\", 0.0208700846837181), ('L. Gross', 0.0208700846837181), ('P. Sternecker', 0.0208700846837181), ('Willi Schönauer', 0.0208700846837181), ('Enrico Pontelli', 0.0208700846837181), ('Gopal Gupta', 0.0208700846837181), ('John A. Chandy', 0.0208700846837181), ('Steven Parkes', 0.0208700846837181), ('Prithviraj Banerjee', 0.0208700846837181), ('Manuel Núñez', 0.0208700846837181), ('Pedro Palao', 0.0208700846837181), ('Ricardo Pena', 0.0208700846837181), ('Donovan A. Schneider', 0.0208700846837181), ('Alberto Marchetti-Spaccamela', 0.0208700846837181), ('Umberto Nanni', 0.0208700846837181), ('Ting-Yi Sung', 0.0208700846837181), ('Lih-Hsing Hsu', 0.0208700846837181), ('Jeng-Yan Hwang', 0.0208700846837181), ('Raffaele Cappelli', 0.0208700846837181), ('Sven Wuytack', 0.0208700846837181), ('Hugo De Man', 0.0208700846837181), ('Chialin Chang', 0.0208700846837181), ('Alan Sussman', 0.0208700846837181), ('Paul Martin', 0.02086089684612191), ('Herbert L. Dershem', 0.02086089684612191), ('Wendy L. Barth', 0.02086089684612191), ('Cheri J. Bowsher', 0.02086089684612191), ('Darrick P. Brown', 0.02086089684612191), ('Tomasz Imielinski', 0.02086089684612191), ('David B. Lomet', 0.02086089684612191), ('Robert F. Smith', 0.020658199256633765), ('Guy E. Blelloch', 0.02036602497895629), ('Virginia Vassilevska', 0.02036602497895629), ('Lawrence Cayton', 0.020110254051154314), ('Chao-Fu Hong', 0.020110254051154314), ('Kenichi Asai', 0.020110254051154314), ('O. Astrachan', 0.020110254051154314), ('Neal Laurance', 0.020110254051154314), ('C. Cavagna', 0.020055127025577157), ('U. Cugini', 0.020055127025577157), ('Derek C. Oppen', 0.020055127025577157), ('Stephen A. Cook', 0.020055127025577157), ('Chris Lattner', 0.020055127025577157), ('Vikram Adve', 0.020055127025577157), ('F. Hommes', 0.019912234249174116), ('John Craig Comfort', 0.01984709615641747), ('Edward V. Eusebi', 0.019590773531673794), ('R. S. Fabry', 0.019590773531673794), ('Kudang B. Seminar', 0.019586377025577157), ('Robert N. Robson', 0.019586377025577157), ('J. Couch', 0.019341023281923546), ('V. Jayakumar', 0.019341023281923546), ('Sajal K. Das', 0.01928589625634639), ('Joachim Laubsch', 0.0189781785794562), ('Lars Söderlund', 0.018860254051154313), ('Steve Meyer', 0.01862877256967283), ('Rainer Koppler', 0.01855526986890329), ('Siegfried Grabner', 0.01855526986890329), ('Jens Volkert', 0.01855526986890329), ('Ahmed Bouajjani', 0.01855526986890329), ('Rachid Echahed', 0.01855526986890329), ('Riadh Robbana', 0.01855526986890329), ('Mark Orletsky', 0.01855526986890329), ('Kumar Ramaiyer', 0.01855526986890329), ('Tore Risch', 0.01855526986890329), ('René Beier', 0.01855526986890329), ('Peter Sanders', 0.01855526986890329), ('Naveen Sivadasan', 0.01855526986890329), ('Jun Yang', 0.01855526986890329), ('Jack Beidler', 0.018358429233636064), ('Christian Stangier', 0.018347809952406424), ('T. Dean Hendrix', 0.018275536544070506), ('Larry A. Barowski', 0.018275536544070506), ('David Alex Lamb', 0.01796739690829717), ('Mark Handy', 0.017884706369931433), ('Benoît Hudson', 0.017884706369931433), ('K. Yamaguchi', 0.017884706369931433), ('T. Kunii', 0.017884706369931433), ('K. Fujimura', 0.017884706369931433), ('H. Toriya', 0.017884706369931433), ('Eun Ha Rho', 0.017884706369931433), ('Sang Yong Han', 0.017884706369931433), ('Dae Joon Hwang', 0.017884706369931433), ('Kunihiko Sadakane', 0.017757312874683726), ('J. Sargeant', 0.017496987490693436), ('C. C. Kirkham', 0.017496987490693436), ('Ari Korhonen', 0.017079994082279448), ('I. Kalantari', 0.017059406593527195), ('Vladimir Kovalevsky', 0.017059406593527195), ('Gennaro Cordasco Vittorio Scarano Arnold L. Rosenberg', 0.01677692071782098), ('Thomas C. McMillan', 0.016721793692243823), ('L. J. Hendren', 0.016721793692243823), ('A. Nicolau', 0.016721793692243823), ('Glenn G. Lai', 0.016703418017051438), ('Don Fussell', 0.016703418017051438), ('D. F. Wong', 0.016703418017051438), ('Giorgio Gambosi', 0.016703418017051438), ('Marco Protasi', 0.016703418017051438), ('Maurizio Talamo', 0.016703418017051438), ('Nikolas Provatas', 0.016703418017051438), ('Nigel Goldenfeld', 0.016703418017051438), ('Jonathan Dantzig', 0.016703418017051438), ('Vinay Gupta', 0.016703418017051438), ('Mohit Modi', 0.016703418017051438), ('Andy D. Pimentel', 0.016703418017051438), ('Osman S. Unsal', 0.016703418017051438), ('Israel Koren', 0.016703418017051438), ('C. Mani Krishna', 0.016703418017051438), ('Ingrid Carlbom', 0.016703418017051438), ('Indranil Chakravarty', 0.016703418017051438), ('David Vanderschel', 0.016703418017051438), ('Allen Parrish', 0.016688717476897527), ('Brandon Dixon', 0.016688717476897527), ('David Cordes', 0.016688717476897527), ('Susan Vrbsky', 0.016688717476897527), ('John Lusth', 0.016688717476897527), ('Eugene Asarin', 0.016685042341859052), ('Marius Bozga', 0.016685042341859052), ('Alain Kerbrat', 0.016685042341859052), ('Oded Maler', 0.016685042341859052), ('Amir Pnueli', 0.016685042341859052), ('Anne Rasse', 0.016685042341859052), ('Viktor Kuncak', 0.016440212929048924), ('Koza John R', 0.016410267212493043), ('Hala A. Farouk', 0.016370416652780332), ('Renato Capra', 0.016370416652780332), ('Mann-May Yau', 0.016359474851664113), ('Sargur N. Srihari', 0.016359474851664113), ('Sathish Govindarajan', 0.016313957754858017), ('E. Welzl', 0.01623928630921883), ('Stefan Andrei', 0.01623928630921883), ('Werner Schenk', 0.01623928630921883), ('N. Billawala', 0.016055127025577157), ('W. K. Giloi', 0.016012573834087794), ('H. K. Berg', 0.016012573834087794), ('C. E. Robinson', 0.015983269924170186), ('Subhash Suri', 0.015778394123993424), ('Saleem M. Haider', 0.015680127025577157), ('Peng H. Ang', 0.015680127025577157), ('Moshe Hershcovitch', 0.015680127025577157), ('Vijay K. Garg', 0.015680127025577157), ('Vinit Ogale', 0.015680127025577157), ('Karen Mackey', 0.015680127025577157), ('Howard Fosdick', 0.015680127025577157), ('Cyril Kardassevitch', 0.015652563512788577), ('Mathias Paulin', 0.015652563512788577), ('Jean Pierre Jessel', 0.015652563512788577), ('René Caubet', 0.015652563512788577), ('Bonifacio Castaño', 0.015652563512788577), ('Joos Heintz', 0.015652563512788577), ('Juan Llovet', 0.015652563512788577), ('Raquel Martínez', 0.015652563512788577), ('Fidenzio Burbello', 0.015652563512788577), ('S. B. Pollard', 0.015652563512788577), ('John Porrill', 0.015652563512788577), ('John E. W. Mayhew', 0.015652563512788577), ('Per Bro Miltersen', 0.01557417157692751), ('Kiyotaka Yasui', 0.0154948694357697), ('Edward Marlow Hoskins', 0.0154948694357697), ('Yamini Kannan', 0.015439742410192542), ('Koushik Sen', 0.015439742410192542), ('Ajeet Shankar', 0.015361249474556748), ('Rastislav Bodík', 0.015361249474556748), ('Janice M. Stone', 0.015261769202669466), ('H. Noltemeier', 0.015188266501899923), ('K. Verbarg', 0.015188266501899923), ('C. Zirkelbach', 0.015188266501899923), ('Michael Greenwald', 0.015110254051154313), ('Joseph Manning', 0.015096370738944858), ('Allen B. Tucker', 0.015049614323019442), ('Robert D. Cupper', 0.015049614323019442), ('Ariel Futoransky Damián Saura Ariel Waissbein', 0.01481613640409549), ('Pascal Fradet', 0.01460300767434272), ('Mitsuhisa Sato', 0.014307765095945148), ('Yuetsu Kodama', 0.014307765095945148), ('Hirofumi Sakane', 0.014307765095945148), ('Yoshinori Yamaguchi', 0.014307765095945148), ('Shuichi Sakai', 0.014307765095945148), ('Octavian Procopiuc', 0.014234547836465048), ('Massimo Ancona', 0.014100070845801876), ('Walter Cazzola', 0.014100070845801876), ('Randal C. Nelson', 0.013944015914466045), ('O. Fries', 0.013916452401677467), ('S. Näher', 0.013916452401677467), ('G. A. Jones', 0.013916452401677467), ('J. Princen', 0.013916452401677467), ('J. Illingworth', 0.013916452401677467), ('J. Kittler', 0.013916452401677467), ('João Comba', 0.013907264564081272), ('Janis Voigtländer', 0.013808884188140615), ('Steffen Heinz', 0.013782354566438119), ('Justin Zobel', 0.013782354566438119), ('Amos Fiat', 0.013753757162563458), ('Erik D. Demaine', 0.013681381656186858), ('Jeffrey S Vitter', 0.013588329372412925), ('Richard Barth', 0.013568640539090671), ('Bertrand Serlet', 0.013568640539090671), ('Peter Scheuermann', 0.013447984168434299), ('James R. Low', 0.013443587384487648), ('J. T. Schwartz', 0.013443587384487648), ('J. A. Orenstein', 0.013388460358910491), ('T. H. Merrett', 0.013388460358910491), ('Michael M. David', 0.013268148787996419), ('Stefan Rieger', 0.013213021762419262), ('Thomas Noll', 0.013213021762419262), ('Patrick Lam', 0.013156708331910905), ('Daniel Golovin', 0.013145365582594508), ('Geir Gundersen', 0.013075960358910491), ('Trond Steihaug', 0.013075960358910491), ('Vinay Kumar', 0.012986161508335778), ('Sunil Kumar Muttoo', 0.012986161508335778), ('Sinan Kockara', 0.012930766871667134), ('Mugurel Ionut Andreica', 0.012875639846089977), ('Nicolae Tapus', 0.012875639846089977), ('Sariel Hal-Peled', 0.012766991432356819), ('William H. Murray', 0.012633743377778416), ('Chris H. Pappas', 0.012633743377778416), ('Craig B. Zilles', 0.012610254051154315), ('Anna Slobodová', 0.012555127025577158), ('K. Gilon', 0.012555127025577158), ('D. Peleg', 0.012555127025577158), ('Susan Anderson-Freed', 0.01253675135038477), ('B. Monien', 0.01252756351278858), ('T. Ottmann', 0.01252756351278858), ('Tetsuo Asano', 0.012522050810230861), ('Thomas Roos', 0.012522050810230861), ('Emo Welzl', 0.012522050810230861), ('I. C. Braid', 0.012455933063499992), ('Arnold L. Rosenberg', 0.01238243036273045), ('Rasmus Pagh', 0.012301904905044257), ('Randal E. Bryant', 0.01225024897679667), ('Jhilmil Jain', 0.012222510094250323), ('Elaine Lisboa', 0.01222098069475293), ('Michael H. Schneider', 0.012158446822238652), ('Marek Karpinski', 0.012074357794807927), ('Costas S. Iliopoulos', 0.012047515331598884), ('M. Sohel Rahman', 0.012047515331598884), ('Eligiusz Wajda', 0.012015015955916218), ('Angela Bonifati', 0.011959888930339061), ('Alfredo Cuzzocrea', 0.011959888930339061), ('M. Rafanelli', 0.011959888930339061), ('F. L. Ricci', 0.011959888930339061), ('Adam L. Buchsbaum', 0.011899140183223736), ('Ely Porat', 0.0117381610278985), ('Chi-Yuan Lo', 0.011664658327128957), ('Hao N. Nham', 0.011664658327128957), ('Ajoy K. Bose', 0.011664658327128957), ('O. Berkman', 0.011593588564038696), ('U. Vishkin', 0.011593588564038696), ('Christopher J.S. deSilva', 0.01153100422394799), ('Mike Alder', 0.01153100422394799), ('Yianni Attikiouzel', 0.01153100422394799), ('Yat-Kin LAM', 0.011418763389213521), ('Qiang HUO', 0.011418763389213521), ('W. James Bradley', 0.011391199876424942), ('Saeed Behzadi', 0.011363612191808719), ('Ali A. Alesheikh', 0.011363612191808719), ('Mohammad R. Malek', 0.011363612191808719), ('Robert Bruce Findler', 0.011336186378633359), ('Shu-Yu Guo', 0.011336186378633359), ('Ron Zucker', 0.011249156876323425), ('Albert Ritzhaupt', 0.011249156876323425), ('Gu Yue-sheng', 0.011166238136688269), ('Zhu Ji-yi', 0.011166238136688269), ('Yang Jun', 0.011147862461495881), ('Andrew Schulman', 0.011147862461495881), ('Ralf Brown', 0.011147862461495881), ('David Maxey', 0.011147862461495881), ('F. K Zadeck', 0.011071622673436147), ('Karen Zee', 0.011027117492642645), ('J. I. Aoe', 0.010979819268545618), ('Ashley George Hamilton-Taylor', 0.010924692242968461), ('Eileen Kraemer', 0.010924692242968461), ('A. Dingle', 0.010769412739862871), ('I. H. Sudborough', 0.010769412739862871), ('Sunil Arya', 0.010763335584917655), ('David M. Mount', 0.010763335584917655), ('Greg Morrisett', 0.010693424897917582), (\"M. A. d'Abreu\", 0.010471793692243823), ('Pavlos Konas', 0.010471793692243823), ('Pen-Chung Yew', 0.010471793692243823), ('Daniel R Edelson', 0.01045508163736121), ('Yuriy Fofanov', 0.010419532401669778), ('Arie Gurfinkel', 0.01036440537609262), ('Sagar Chaki', 0.01036440537609262), ('Frutuoso G. M. Silva', 0.01036440537609262), ('Abel J. P. Gomes', 0.01036440537609262), ('Joseph Hummell', 0.010324817194006169), ('J. Mohr', 0.010231711541032857), ('Edmond Schonberg', 0.010186733930338449), ('Jacob T. Schwartz', 0.010186733930338449), ('N. Santoro', 0.010022050810230864), ('Jorg-Rudiger Sack', 0.010022050810230864), ('Mikhail J. Atallah', 0.010022050810230864), ('Russ Miller', 0.010022050810230864), ('Jyh-Jong Tsay', 0.010022050810230864), ('Rafael Vado Vírseda', 0.009942401847385913), ('Johan Jansson', 0.009923548078208735), ('Anders Logg', 0.009923548078208735), ('Stephen M. Watt', 0.009818991915231983), ('Vincenzo De Florio', 0.009795386765836897), ('Chris Blondia', 0.009795386765836897), ('Mitchell Waite', 0.009763864889654826), ('Stuart Hirshfield', 0.009670511640961773), ('Ori Shalev', 0.009617968555631802), ('George S. Lueker', 0.009548797911653107), ('Edmond Chow', 0.009524823995274127), ('Michael A. Heroux', 0.009524823995274127), ('Takahiro Harada', 0.00952184620133328), ('Seiichi Koshizuka', 0.00952184620133328), ('Yoichiro Kawaguchi', 0.00952184620133328), ('Diyan Gochev', 0.0094890892897281), ('Jung Gyu Park', 0.0094890892897281), ('Myong-Soon Park', 0.0094890892897281), ('Nadia Magnenat-Thalmann', 0.0094890892897281), ('Daniel Thalmann', 0.0094890892897281), ('E. G. Daylight', 0.009449208576425273), ('Svetlana Yarosh', 0.009229438952182662), ('David C. Luckham', 0.00920146848899179), ('Ted Herman', 0.009179214616818032), ('Toshimitsu Masuzawa', 0.009179214616818032), ('Walter J. Savitch', 0.009146036116486247), ('John W. Perry', 0.009119263060163323), ('Jane Wilhelms', 0.009093496075002202), ('Ádám Balogh', 0.008983698454148585), ('Zoltán Csörnyei', 0.008983698454148585), ('Sanford Lee', 0.008983698454148585), ('K. Shannon', 0.008983698454148585), ('Raymond Lister', 0.008952477793989225), ('Josh Tenenberg', 0.008952477793989225), ('Dieter Scheffner', 0.00890468454770105), ('Johann Christoph Freytag', 0.00890468454770105), ('David Greenfieldboyce', 0.008901999577335125), ('Annie Hui', 0.008901999577335125), ('Mark Alan Darholt', 0.008882183875715717), ('Michael Schidlowsky', 0.00882705685013856), ('Gert Stølting Brodal', 0.008808681174946174), ('Jesper Larsson Träff', 0.008808681174946174), ('Cristos D. Zaroliagis', 0.008808681174946174), ('Arie Deursen', 0.008776057258135296), ('T. Kuipers', 0.008776057258135296), ('Sara McMains', 0.00869476000839343), ('Joseph M. Hellerstein', 0.00869476000839343), ('Carlo H. Séquin', 0.00869476000839343), ('Yannis Smaragdakis', 0.00867581668074957), ('Bolei Guo', 0.00861518272293379), ('Neil Vachharajani', 0.00861518272293379), ('Lauri Malmi', 0.008577854298304429), ('Michal Kratky', 0.008530964873332797), ('Vaclav Snasel', 0.008530964873332797), ('Jaroslav Pokorny', 0.008530964873332797), ('Pavel Zezula', 0.008530964873332797), ('Jussi Nikander', 0.00850213978397502), ('Eiri Valanto', 0.00850213978397502), ('Kirsi Virrantaus', 0.00850213978397502), ('Nora Reyes', 0.008482093317711988), ('Katrin Becker', 0.00838846035891049), ('Melissa Beacham', 0.00838846035891049), ('Hessah Alsaaran', 0.00838846035891049), ('Muhammad Hussain', 0.00838846035891049), ('G. Louchard', 0.008370084683718105), ('Claire Kenyon', 0.008370084683718105), ('R. Schott', 0.008370084683718105), ('Vladimir Kotlyar', 0.008370084683718105), ('Keshav Pingali', 0.008370084683718105), ('Paul Stodghill', 0.008370084683718105), ('Danny Kopec', 0.008370084683718105), ('Richard Close', 0.008370084683718105), ('Jim Aman', 0.008370084683718105), ('Prosenjit Bose', 0.008370084683718105), ('John Howat', 0.008370084683718105), ('Pat Morin', 0.008370084683718105), ('Amr F. Fahmy', 0.008333272720941396), ('Alan W. Biermann', 0.008333272720941396), ('Gianfranco Ciardo', 0.008251848337052567), ('Andrew S. Miner', 0.008251848337052567), ('C. M. Geschke', 0.008251848337052567), ('J. G. Mitchell', 0.008251848337052567), ('Asaph Zemach', 0.008185208326390166), ('David Eppstein', 0.008166832651197779), ('Jonathan Z. Sun', 0.008166832651197779), ('Ali S. Erkan', 0.008166832651197779), ('T. J. VanSlyke', 0.008166832651197779), ('Timothy M. Scaffidi', 0.008166832651197779), ('B. Lee', 0.008166832651197779), ('A. R. Hurson', 0.008166832651197779), ('B. Shirazi', 0.008166832651197779), ('Yanhong A. Liu', 0.008119643154609415), ('Scott D. Stoller', 0.008119643154609415), ('David R. Chase', 0.008049571863205283), ('Mark Wegman', 0.008049571863205283), ('Cyril Gavoille', 0.008033850429832476), ('Johan Jeuring', 0.008033850429832476), ('Donald S. Fussell', 0.007991634962085093), ('K. R. Subramanian', 0.007991634962085093), ('Bryan Neperud', 0.007973259286892707), ('John Lowther', 0.007973259286892707), ('Ching-Kuang Shene', 0.007973259286892707), ('Jacinta Townley', 0.007898386570510557), ('Michel Schellekens', 0.007898386570510557), ('Richard Johnsonbaugh', 0.007867627025577157), ('Marcus Schaefer', 0.007867627025577157), ('Isidore Rigoutsos', 0.007867627025577157), ('Robert Hummel', 0.007867627025577157), ('Esther M. Arkin', 0.007849251350384771), ('Joseph S. B. Mitchell', 0.007849251350384771), ('S. S. Hirschhorn', 0.007788689334880895), ('M. B. Hommel', 0.007788689334880895), ('C. Bures', 0.007788689334880895), ('Mihai Pǎtraşcu', 0.007630884601334733), ('C. Collin', 0.007630884601334733), ('R. Levinson', 0.007630884601334733), ('Pedro C. Diniz', 0.007630884601334733), ('Kenneth J. Rodham', 0.007612508926142347), ('Dan R. Olsen', 0.007612508926142347), ('Matt Calder', 0.007522050810230863), ('Robert F. Cohen', 0.007522050810230863), ('Jessica Lanzoni', 0.007522050810230863), ('Neal Landry', 0.007522050810230863), ('Joelle Skaff', 0.007522050810230863), ('Sébastien Ferré', 0.007408068202047745), ('Ross D. King', 0.007408068202047745), ('Martin Dietzfelbinger', 0.007408068202047745), ('Thomer M. Gil', 0.007408068202047745), ('Massimiliano Poletto', 0.007408068202047745), ('Michel Mauny', 0.007408068202047745), ('Daniel de Rauglaudre', 0.007408068202047745), ('Dean Hendrix', 0.007380504689259167), ('Larry Barowski', 0.007380504689259167), ('Maxime Crochemore', 0.007362758676392097), ('Daniel Brandon', 0.00730150383717136), ('D. P. Mehta', 0.00730150383717136), ('S. Sahni', 0.00730150383717136), ('Heinrich Toben', 0.0072391019743270404), ('Ryan Williams', 0.007220659396361783), ('John R. Gilbert', 0.0071979841684343), ('Timothy Peierls', 0.0071979841684343), ('Renzo Angles', 0.0071979841684343), ('Claudio Gutierrez', 0.0071979841684343), ('Thierry Vallée', 0.0071979841684343), ('James Markham', 0.007097380546703918), ('Vasile Rus', 0.007097380546703918), ('E. E. Setliff', 0.00706447281996968), ('R. A. Rutenbar', 0.00706447281996968), ('G. Michael Barnes', 0.007038367249040844), ('Gary A. Kind', 0.007038367249040844), ('Martin Vechev', 0.006999571470021601), ('Eran Yahav', 0.006999571470021601), ('Raphaël Clifford', 0.006999571470021601), ('Marek Sergot', 0.006999571470021601), ('Michael Thonhauser', 0.006909603584061747), ('Gernot Schmoelzer', 0.006909603584061747), ('Christian Kreiner', 0.006909603584061747), ('Maged M. Michael', 0.006904442094070307), ('Michael L. Scott', 0.006904442094070307), ('A. L. Buchsbaum', 0.006839472438820144), ('R. E. Tarjan', 0.006839472438820144), ('Sharif Elcott', 0.006811883782333914), ('Peter Schröder', 0.006811883782333914), ('Michael Brickenstein', 0.006766536421550311), ('Alexander Dreyer', 0.006766536421550311), ('Anurag Acharya', 0.006703418017051438), ('Huican Zhu', 0.006703418017051438), ('Kai Shen', 0.006703418017051438), ('André A.S. Danthine', 0.006692295167170077), ('Joseph Bremer', 0.006692295167170077), ('Theocharis Malamatos', 0.006637411416391372), ('Ramana Juvvadi', 0.006530257843891264), ('Tia Newhall', 0.006520644266956467), ('Lisa Meeden', 0.006520644266956467), ('A. Belussi', 0.006447007760641181), ('E. Bertino', 0.006447007760641181), ('B. Catania', 0.006447007760641181), ('Nieves R. Brisaboa', 0.0063260595264854), ('Susana Ladra', 0.0063260595264854), ('Esben Rune Hansen', 0.006227966531749996), ('Peter Tiedemann', 0.006227966531749996), ('Stefan Langerman', 0.006050497054852125), ('Eric Price', 0.006050497054852125), ('John Beidler', 0.006007507977958109), ('John Meinke', 0.006007507977958109), ('Jorge Costa', 0.005989132302765723), ('João Raimundo', 0.005989132302765723), ('Ricardo Rocha', 0.005989132302765723), ('Larry Basenspiler', 0.005989132302765723), ('Thomas Hain', 0.005989132302765723), ('Ben King', 0.005989132302765723), ('E. R. Fiala', 0.0059374799667536275), ('D. H. Greene', 0.0059374799667536275), ('Jennifer Parham', 0.005919104291561242), ('Donald Chinn', 0.005919104291561242), ('D. E. Stevenson', 0.005919104291561242), ('Li Lian', 0.005909916453965049), ('Jun Ma', 0.005909916453965049), ('ZhuMin Chen', 0.005909916453965049), ('Ling Song', 0.005909916453965049), ('Eyal Kushilevitz', 0.005850704838756864), ('Rafail Ostrovsky', 0.005850704838756864), ('Yuval Rabani', 0.005850704838756864), ('Sekhar R. Sarukkai', 0.005833852799660134), ('Jerry Yan', 0.005833852799660134), ('Melisa Schmidt', 0.005833852799660134), ('Douglas B. Terry', 0.0058243577948079266), ('Daniel C. Swinehart', 0.0058243577948079266), ('Bruno Dufour', 0.0057185695322029525), ('Barbara G. Ryder', 0.0057185695322029525), ('Gary Sevitsky', 0.0057185695322029525), ('Siu-Yeung Cho', 0.0057093816946067605), ('Zheru Chi', 0.0057093816946067605), ('Zhiyong Wang', 0.0057093816946067605), ('Wan-Chi Siu', 0.0057093816946067605), ('William L. Hibbard', 0.005652141950950291), ('David A. Santek', 0.005652141950950291), ('S. Wuytack', 0.0056245784381617125), ('C. Ykman-Couvreur', 0.0056245784381617125), ('F. Catthoor', 0.0056245784381617125), ('Michael Bruce-Lockhart', 0.005501232224701711), ('Pilu Crescenzi', 0.005501232224701711), ('Theodore Norvell', 0.005501232224701711), ('R. J. Fateman', 0.005489909634272809), ('C. G. Ponder', 0.005489909634272809), ('Yoav Zibin', 0.005450810478814567), ('Joseph Yossi Gil', 0.005450810478814567), ('R. J. Lipton', 0.005413095436406276), ('S. C. Eisenstat', 0.005413095436406276), ('R. A. DeMillo', 0.005413095436406276), ('Alexander Klippel', 0.005346712448958791), ('Stefan Hansen', 0.005346712448958791), ('Kai-Florian Richter', 0.005346712448958791), ('Stephan Winter', 0.005346712448958791), ('Nira Shafrir', 0.0053110129537602985), ('Ruth M. Davies', 0.005299909245121613), (\"Robert M. O'Keefe\", 0.005299909245121613), ('Huw T. O. Davies', 0.005299909245121613), ('Clara Segura', 0.005285208704967705), ('Isabel Pita', 0.005285208704967705), ('Ana Isabel Saiz', 0.005285208704967705), ('Pablo Soler', 0.005285208704967705), ('T. Feng', 0.0052358968461219116), ('L.-C. Wang', 0.0052358968461219116), ('K.-T. Cheng', 0.0052358968461219116), ('A. C. -C. Lin', 0.0052358968461219116), ('N. Baloian', 0.0051649564785898995), ('H. Breuer', 0.0051649564785898995), ('W. Luther', 0.0051649564785898995), ('Yoon Ho Kim', 0.005162408597003084), ('Soo Hong Kim', 0.005162408597003084), ('Dae Woong Rhee', 0.005162408597003084), ('Juno Chang', 0.005162408597003084), ('Sang Youg Han', 0.005162408597003084), ('Martin C. Carlisle', 0.005150514332460709), ('Manuel Blum', 0.0051502559384359915), ('Will Evans', 0.0051502559384359915), ('Peter Gemmell', 0.0051502559384359915), ('Sampath Kannan', 0.0051502559384359915), ('Moni Naor', 0.0051502559384359915), ('Paris C. Kanellakis', 0.005087256400889821), ('Darka Mioc', 0.0050780685632936294), ('Francois Anton', 0.0050780685632936294), ('Christopher M. Gold', 0.0050780685632936294), ('Bernard Moulin', 0.0050780685632936294), ('Quentin F. Stout', 0.004993500053301838), ('Darren L. De Zeeuw', 0.004993500053301838), ('Tamas I. Gombosi', 0.004993500053301838), ('Clinton P. T. Groth', 0.004993500053301838), ('Hal G. Marshall', 0.004993500053301838), ('Kenneth G. Powell', 0.004993500053301838), ('Iavor S. Diatchki', 0.0049570878098908824), ('Mark P. Jones', 0.0049570878098908824), ('Srinivasa Rao Satti', 0.004893836702996512), ('David A. Umphress', 0.004842005404991157), ('Lacey N. Montgomery', 0.004842005404991157), ('Daniel C. Wang', 0.0048352558204808865), ('Andrew W. Appel', 0.0048352558204808865), ('Jeff L. Korn', 0.0048352558204808865), ('Christopher S. Serra', 0.0048352558204808865), ('Richard Lau', 0.0048352558204808865), ('Heechang Kim', 0.0048352558204808865), ('Bruce Siegell', 0.0048352558204808865), ('Stephanie Demers', 0.0048352558204808865), ('Y. Kiyoki', 0.0048352558204808865), ('K. Tanaka', 0.0048352558204808865), ('H. Aiso', 0.0048352558204808865), ('N. Kamibayashi', 0.0048352558204808865), ('Saverio Caminiti', 0.004798656112289533), ('Rossella Petreschi', 0.004798656112289533), ('Hugh E. Williams', 0.004798656112289533), ('Ming-Yee Lai', 0.004753732482460243), ('Kevin Wilkinson', 0.004753732482460243), ('Vladimir Lanin', 0.004753732482460243), ('Robert R. Henry', 0.004753732482460243), ('Kenneth M. Whaley', 0.004753732482460243), ('Bruce Forstall', 0.004753732482460243), ('Paolo Frasconi', 0.004731587031135945), ('Marco Gori', 0.004731587031135945), ('Alessandro Sperduti', 0.004731587031135945), ('Allen VanGelder', 0.004728024221838839), ('Luc Séméria', 0.004709648546646453), ('Koichi Sato', 0.004709648546646453), ('Giovanni De Micheli', 0.004709648546646453), ('Ilona Box', 0.004673213600928538), ('Briana Morrison', 0.004673213600928538), ('D. Suzanne Westbrook', 0.004673213600928538), ('Y. S. Kuo', 0.004666380980014401), ('S. -Y. Hwang', 0.004666380980014401), ('H. F. Hu', 0.004666380980014401), ('Haoyu Song', 0.004666380980014401), ('Jonathan Turner', 0.004666380980014401), ('John Lockwood', 0.004666380980014401), ('Pablo Fernández', 0.004657193142418208), ('Salvador Muñoz', 0.004657193142418208), ('Antonio Murillo', 0.004657193142418208), ('J. Ghosh', 0.004623907313687524), ('S. K. Das', 0.004623907313687524), ('A. John', 0.004623907313687524), ('David Teague', 0.004492996848062364), ('Christian Collberg', 0.004422716262665473), ('Clark Thomborson', 0.004422716262665473), ('Douglas Low', 0.004422716262665473), ('Harold N. Gabow', 0.0043657556793891), ('Thomas H. Spencer', 0.0043657556793891), ('Allen Van Gelder', 0.004365471853163364), ('Suzanne Westbrook', 0.004279264193060688), ('Iain Milne', 0.004245071159655369), ('Roy P. Pargas', 0.004221793692243824), ('Samuel Bryfczynski', 0.004221793692243824), ('Mir Abolfazl Mostafavi', 0.004203418017051438), ('Leila Hashemi Beni', 0.004203418017051438), ('Marina Gavrilova', 0.004203418017051438), ('Kenil C. Cheng', 0.004187358430535835), ('Roland H. Yap', 0.004187358430535835), ('Antoine Vigneron', 0.004125924168526284), ('Jian Xia', 0.004125924168526284), ('J. A. Bubenko', 0.004022050810230863), ('S. Berild', 0.004022050810230863), ('E. Lindencrona-Ohlin', 0.004022050810230863), ('S. Nachmens', 0.004022050810230863), ('Ian P. Gent', 0.0039338135127885785), ('Chris Jefferson', 0.0039338135127885785), ('Ian Miguel', 0.0039338135127885785), ('Peter Nightingale', 0.0039338135127885785), ('K P Agarwal', 0.003912720342632833), ('T. Fermentel', 0.0038246301382635593), ('C. Ykman-Couvreur F. Catthoor', 0.0038246301382635593), ('Gabriel Kalyon', 0.0037775635127885784), ('Thierry Massart', 0.0037775635127885784), ('Cédric Meuter', 0.0037775635127885784), ('Laurent Begin', 0.0037775635127885784), ('Börje Karlsson', 0.003758906796370668), ('Simone D. Barbosa', 0.003758906796370668), ('Antonio L. Furtado', 0.003758906796370668), ('Marco A. Casanova', 0.003758906796370668), ('André Yamba Yamba', 0.0036599397561818724), ('Krister Ålander', 0.0036599397561818724), ('Malin Ljungberg', 0.0036599397561818724), ('Bradley W. James', 0.0036584144465944993), ('Kelemen', 0.0036584144465944993), ('Bruno Lévy', 0.00359899208421715), ('Guillaume Caumon', 0.00359899208421715), ('Stéphane Conreaux', 0.00359899208421715), ('Xavier Cavin', 0.00359899208421715), ('J. Aguilar-Saborit', 0.0035736628035687203), ('P. Trancoso', 0.0035736628035687203), ('V. Muntes-Mulero', 0.0035736628035687203), ('J. L. Larriba-Pey', 0.0035736628035687203), ('J. P. Calvez', 0.003548690273351959), ('D. Heller', 0.003548690273351959), ('F. Muller', 0.003548690273351959), ('O. Pasquier', 0.003548690273351959), ('Armando Solar-Lezama', 0.003485027212453737), ('Christopher Grant Jones', 0.003485027212453737), ('Rastislav Bodik', 0.003485027212453737), ('Ankur Gupta', 0.003431141719321772), ('Rahul Shah', 0.003431141719321772), ('Davide Sobrero', 0.003375777798502864), ('Percy Liang', 0.003375777798502864), ('Mukund Narasimhan', 0.003375777798502864), ('Michael Shilman', 0.003375777798502864), ('Paul Viola', 0.003375777798502864), ('B. Bergen', 0.0032743167595418255), ('G. Wellein', 0.0032743167595418255), ('F. Hülsemann', 0.0032743167595418255), ('U. Rüde', 0.0032743167595418255), ('Marcos K. Aguilera', 0.0032625578019976746), ('Wojciech Golab', 0.0032625578019976746), ('Mehul A. Shah', 0.0032625578019976746), ('Jack Beaton', 0.003247857261843766), ('Sae Young Jeong', 0.003247857261843766), ('Yingyu Xie', 0.003247857261843766), ('Jeffrey Stylos', 0.003247857261843766), ('Edgar G. Daylight', 0.0030307633264326753), ('Arnout Vandecappelle', 0.0030307633264326753), ('Ron Cytron', 0.003022050810230863), ('Jeanne Ferrante', 0.003022050810230863), ('Barry K. Rosen', 0.003022050810230863), ('Mark N. Wegman', 0.003022050810230863), ('Robert B. K. Dewar', 0.0030071254370965346), ('Arthur Grand', 0.0030071254370965346), ('Aditya K. Prasad', 0.00287919366737372), ('Vivek V. Shende', 0.00287919366737372), ('Igor L. Markov', 0.00287919366737372), ('John P. Hayes', 0.00287919366737372), ('Ketan N. Patel', 0.00287919366737372), ('Carl Ollivier-Gooch', 0.0026591424601569995), ('Lori Freitag Diachin', 0.0026591424601569995), ('Mark S. Shephard', 0.0026591424601569995), ('Timothy Tautges', 0.0026591424601569995), ('Isaac Gelado', 0.0026063673936188862), ('John H. Kelm', 0.0026063673936188862), ('Shane Ryoo', 0.0026063673936188862), ('Steven S. Lumetta', 0.0026063673936188862), ('Nacho Navarro', 0.0026063673936188862), ('Wen-mei W. Hwu', 0.0026063673936188862), ('Nina Aschenbrenner', 0.00260235500335776), ('Jorn Dreyer', 0.00260235500335776), ('Marcel Hahn', 0.00260235500335776), ('Ruben Jubeh', 0.00260235500335776), ('Christian Schneider', 0.00260235500335776), ('Albert Zundorf', 0.00260235500335776), ('Hans---Joachim Bungartz', 0.0024547479788079958), ('Wolfgang Eckhardt', 0.0024547479788079958), ('Miriam Mehl', 0.0024547479788079958), ('Tobias Weinzierl', 0.0024547479788079958), ('J. Berry', 0.0022233777159902488), ('N. Dean', 0.0022233777159902488), ('P. Fasel', 0.0022233777159902488), ('M. Goldberg', 0.0022233777159902488), ('E. Johnson', 0.0022233777159902488), ('J. MacCuish', 0.0022233777159902488), ('G. Shannon', 0.0022233777159902488), ('S. Skiena', 0.0022233777159902488), ('Stephen Curial', 0.0020565669052669427), ('Peng Zhao', 0.0020565669052669427), ('Jose Nelson Amaral', 0.0020565669052669427), ('Yaoqing Gao', 0.0020565669052669427), ('Shimin Cui', 0.0020565669052669427), ('Raul Silvera', 0.0020565669052669427), ('Roch Archambault', 0.0020565669052669427), ('Mark Marron', 0.0020275635127885785), ('Darko Stefanovic', 0.0020275635127885785), ('Manuel Hermenegildo', 0.0020275635127885785), ('Deepak Kapur', 0.0020275635127885785), ('Olivier Devillers', 0.0017030396676002224), ('Vida Dujmovic', 0.0017030396676002224), ('Hazel Everett', 0.0017030396676002224), ('Xavier Goaoc', 0.0017030396676002224), ('Sylvain Lazard', 0.0017030396676002224), ('Hyeon-Suk Na', 0.0017030396676002224), ('Sylvain Petitjean', 0.0017030396676002224), ('Guy Blelloch', 0.0015064709132876237), ('Hal Burch', 0.0015064709132876237), ('Karl Crary', 0.0015064709132876237), ('Robert Harper', 0.0015064709132876237), ('Gary Miller', 0.0015064709132876237), ('Noel Walkington', 0.0015064709132876237)]\n"
          ],
          "name": "stdout"
        }
      ]
    },
    {
      "cell_type": "code",
      "metadata": {
        "id": "RxA1FI_OK8o1",
        "colab_type": "code",
        "outputId": "0168acbf-ceb1-4add-c680-c2bb61a0aea2",
        "colab": {
          "base_uri": "https://localhost:8080/",
          "height": 206
        }
      },
      "source": [
        "rank_df_m1 = pd.DataFrame(sorted_rank,columns=['author','rank'])\n",
        "# rank_df_m1['rank'] = rank_df_m1['rank']*10\n",
        "rank_df_m1[1:6]"
      ],
      "execution_count": 0,
      "outputs": [
        {
          "output_type": "execute_result",
          "data": {
            "text/html": [
              "<div>\n",
              "<style scoped>\n",
              "    .dataframe tbody tr th:only-of-type {\n",
              "        vertical-align: middle;\n",
              "    }\n",
              "\n",
              "    .dataframe tbody tr th {\n",
              "        vertical-align: top;\n",
              "    }\n",
              "\n",
              "    .dataframe thead th {\n",
              "        text-align: right;\n",
              "    }\n",
              "</style>\n",
              "<table border=\"1\" class=\"dataframe\">\n",
              "  <thead>\n",
              "    <tr style=\"text-align: right;\">\n",
              "      <th></th>\n",
              "      <th>author</th>\n",
              "      <th>rank</th>\n",
              "    </tr>\n",
              "  </thead>\n",
              "  <tbody>\n",
              "    <tr>\n",
              "      <th>1</th>\n",
              "      <td>Mark Allen Weiss</td>\n",
              "      <td>0.754235</td>\n",
              "    </tr>\n",
              "    <tr>\n",
              "      <th>2</th>\n",
              "      <td>Michael T. Goodrich</td>\n",
              "      <td>0.654820</td>\n",
              "    </tr>\n",
              "    <tr>\n",
              "      <th>3</th>\n",
              "      <td>Sartaj Sahni</td>\n",
              "      <td>0.593721</td>\n",
              "    </tr>\n",
              "    <tr>\n",
              "      <th>4</th>\n",
              "      <td>Hanan Samet</td>\n",
              "      <td>0.535276</td>\n",
              "    </tr>\n",
              "    <tr>\n",
              "      <th>5</th>\n",
              "      <td>Robert L. Kruse</td>\n",
              "      <td>0.475533</td>\n",
              "    </tr>\n",
              "  </tbody>\n",
              "</table>\n",
              "</div>"
            ],
            "text/plain": [
              "                author      rank\n",
              "1     Mark Allen Weiss  0.754235\n",
              "2  Michael T. Goodrich  0.654820\n",
              "3         Sartaj Sahni  0.593721\n",
              "4          Hanan Samet  0.535276\n",
              "5      Robert L. Kruse  0.475533"
            ]
          },
          "metadata": {
            "tags": []
          },
          "execution_count": 82
        }
      ]
    },
    {
      "cell_type": "markdown",
      "metadata": {
        "id": "hsDSswHlseSM",
        "colab_type": "text"
      },
      "source": [
        "## Model 2\n"
      ]
    },
    {
      "cell_type": "code",
      "metadata": {
        "id": "T0zXq1inNSHQ",
        "colab_type": "code",
        "outputId": "4f16584c-dd80-4f54-8e32-e1d38b786c68",
        "colab": {
          "base_uri": "https://localhost:8080/",
          "height": 55
        }
      },
      "source": [
        "import math\n",
        "\n",
        "p_ca_q = {}\n",
        "\n",
        "lmda = 0.5\n",
        "\n",
        "p_t = {}\n",
        "corpus_word_total = 0\n",
        "for c in corpus:\n",
        "  corpus_word_total+=len(c.split())\n",
        "for t in query_unique:\n",
        "  corpus_word_freq = 0\n",
        "  for c in corpus:\n",
        "    corpus_word_freq += c.count(t)\n",
        "  p_t[t] = corpus_word_freq/corpus_word_total\n",
        "\n",
        "n_t_q = {}\n",
        "for t in query_unique:\n",
        "  n_t_q[t] = query.count(t)\n",
        "\n",
        "for doc in rel_docs_unique:\n",
        "  authors = df['author'][doc]\n",
        "  # print(authors,'##',doc)\n",
        "  p_ca_d = 1/len(authors)\n",
        "  p_d = np.log(math.e + df['n_ref'][doc])\n",
        "  p_q_theta_d = 1\n",
        "  for t in query_unique:\n",
        "    p_t_d = corpus[doc].count(t)/len(corpus[doc].split())\n",
        "    p_t_theta_d = (1-lmda) * p_t_d + (lmda * p_t[t])\n",
        "    p_q_theta_d = p_q_theta_d * (p_t_theta_d ** n_t_q[t])\n",
        "  for author in authors:\n",
        "    value = p_d * p_q_theta_d * p_ca_d\n",
        "    if not author in p_ca_q:\n",
        "      p_ca_q[author] = value\n",
        "    else:\n",
        "      p_ca_q[author] += value\n",
        "# p_ca_q\n",
        "\n",
        "import operator\n",
        "sorted_rank = sorted(p_ca_q.items(), key=operator.itemgetter(1), reverse=True)\n",
        "print(sorted_rank)"
      ],
      "execution_count": 0,
      "outputs": [
        {
          "output_type": "stream",
          "text": [
            "[('', 1.7307526520600076), ('Hanan Samet', 0.8694835306897286), ('Roberto Tamassia', 0.8593287977519287), ('Mark Allen Weiss', 0.7684349383215824), ('Michael T. Goodrich', 0.7166498862620723), ('Sartaj Sahni', 0.5937207995911848), ('Greg N. Frederickson', 0.5547386237043829), ('Robert L. Kruse', 0.4755328945805791), ('Jeffrey Scott Vitter', 0.4595939064415875), ('Michael B. Feldman', 0.43045988188220197), ('Adam Drozdek', 0.41891233948046547), ('Robert R. Korfhage', 0.39087907099567076), ('Jacques Cohen', 0.375876660281693), ('Elliot B. Koffman', 0.3319625934466446), (' Jr.', 0.3136802209834721), ('Nell B. Dale', 0.2965639283689615), ('Jean-Louis Giavitto', 0.2962601823177603), ('Niklaus Wirth', 0.2918871747689753), ('Thomas L. Naps', 0.28210438997648823), ('Franz Aurenhammer', 0.2725481031811369), ('Rick Decker', 0.2597807656921161), ('Wojciech Szpankowski', 0.2550926669153677), ('J. Ian Munro', 0.25303503723047116), ('Chris Okasaki', 0.2518585980484387), ('Robin Williams', 0.2475372053566854), ('Derick Wood', 0.2444311642341985), ('William B. Langdon', 0.24163077531480165), ('S. R. Ala', 0.23745660375216235), ('Yasuhiko Minamide', 0.2276516023093396), ('Wilfred J. Hansen', 0.2237708983495323), ('Hanspeter Bieri', 0.2185161741312004), ('J. L. W. Kessels', 0.21815079408141885), ('Lee A. Becker', 0.21815079408141885), ('Ellis Horowitz', 0.21337087322312384), ('Daniele Micciancio', 0.2045844920910364), ('Robert Endre Tarjan', 0.20211613644186213), ('John Hershberger', 0.19971643717613122), ('J Ian Munro', 0.19848958268501662), ('Christopher W. Fraser', 0.19779333072944477), ('A. A. Lopez', 0.19779333072944477), ('David Peleg', 0.19605121598280464), ('Behrouz A. Forouzan', 0.18807325417550483), ('Aaron M. Tenenbaum', 0.18768375675192386), ('Moshe J. Augenstein', 0.18768375675192386), ('Nell Dale', 0.18766538107673147), ('Harry F. Smith', 0.18766538107673147), ('Giuseppe F. Italiano', 0.18387144978597175), ('Roberto Grossi', 0.17656759283368428), ('Joseph Bergin', 0.1745590845657019), ('R. E. Davis', 0.1705246291212721), ('Henry G. Baker', 0.16996207585660628), ('Arthur G. Duncan', 0.1696865790207078), ('Sudhir Dawra', 0.16677692071782096), ('N. S. Kutti', 0.16677692071782096), ('Ken Brownsey', 0.16677692071782096), ('P. J. Plauger', 0.16677692071782096), ('Jean-Pierre Schachter', 0.16677692071782096), ('Milton Rosenstein', 0.16677692071782096), ('Nageswara S. V. Rao', 0.16677692071782096), ('M. B. Feldman', 0.16677692071782096), ('Neil Ivor Sarnak', 0.16677692071782096), ('Alastair Reid', 0.16677692071782096), ('Dan E. Willard', 0.16673102023051012), ('Zvi Galil', 0.1603605983912965), ('Ruth E. Goldenberg', 0.159997857350108), ('D. S. Malik', 0.15577606365786417), ('Julien Basch', 0.15376999243804268), ('Leonidas J. Guibas', 0.15376999243804268), ('Maurice Herlihy', 0.14766304869285185), ('S. Doaitse Swierstra', 0.14594358738448765), ('K. Mehlhorn', 0.13897157942725463), ('A. Tsakalidis', 0.13897157942725463), ('Laurie J. Hendren', 0.1369782103547626), ('Martin David Katz', 0.13349871441006478), ('Ulrich Lauther', 0.13181695667343601), ('Patricio V. Poblete', 0.13141538107673145), ('Ingo Wegener', 0.12794315885450924), ('Jon Louis Bentley', 0.12783714327284143), ('Jerome H. Friedman', 0.12783714327284143), ('Tom Weiss', 0.12516538107673145), ('Michael McMillan', 0.1251102540511543), ('Sesh Venugopal', 0.1251102540511543), ('Jeffrey Childs', 0.1251102540511543), ('Nitin Upadhyay', 0.1251102540511543), ('John David Valois', 0.1251102540511543), ('Liwu Li', 0.1251102540511543), ('W Büttner', 0.1251102540511543), ('Erik Wiener', 0.1251102540511543), ('Johannes J. Martin', 0.1251102540511543), ('Frederik W Jansen', 0.1251102540511543), ('Carl Bamford Paul Curran', 0.1251102540511543), ('Larry Pfortmiller', 0.1251102540511543), ('Thomas Plum', 0.1251102540511543), ('J. J. van Amstel', 0.1251102540511543), ('Andrzej Salwicki', 0.1251102540511543), ('L. Ammeraal', 0.1251102540511543), ('Mike Morton', 0.1251102540511543), ('Mahmoud Parsian', 0.1251102540511543), ('Samuel Watkins Bent', 0.1251102540511543), ('Paul Ernest Weston', 0.1251102540511543), ('Larry Jack French', 0.1251102540511543), ('Francois Marc Bancilhon', 0.1251102540511543), ('Guy Joseph Jacobson', 0.1251102540511543), ('William Russell Turpin', 0.1251102540511543), ('Bryan Flamig', 0.1251102540511543), ('Chi Kwong Hui', 0.1251102540511543), ('James A. Storer', 0.1251102540511543), ('A. J. Beulens', 0.1251102540511543), ('Andrew M. Liao', 0.1251102540511543), ('G. Malcolm', 0.1251102540511543), ('Christopher J. Van Wyck', 0.1251102540511543), ('Roger Sessions', 0.1251102540511543), ('William C. Jones', 0.1251102540511543), ('Robert S. Maier', 0.1251102540511543), ('R. Zippel', 0.1251102540511543), ('Jean Olivier Hecquard', 0.1251102540511543), ('Gary Haggard', 0.1251102540511543), ('Philipp W. Besslich', 0.1251102540511543), ('Ronald Sanger Curtis', 0.1251102540511543), ('Peter P. Silvester', 0.1251102540511543), ('David B. Levine', 0.12473998797631104), ('Yedidyah Langsam', 0.12304024806279135), ('D. P. Pazel', 0.12053997881705768), ('Jonas S. Karlsson', 0.12031751698404863), ('Paolo Ferragina', 0.12020733878252997), ('Thomas A. Standish', 0.11969350725150216), ('Christoph Meinel', 0.11960015151673327), ('Krishna Kant', 0.1170193385633073), ('Yossi Matias', 0.11488559696078585), ('Neal E. Young', 0.11488559696078585), ('Niklas Holsti', 0.11375819083833162), ('Maria-Cecilia Rivara', 0.11375819083833162), ('James L. Silver', 0.10917152029212641), ('Edward M. Reingold', 0.10844358738448764), ('David J. Taylor', 0.10760724020714157), ('Bernard Chazelle', 0.10728675965889459), ('Jean Vuillemin', 0.10727788098277959), ('Frank Dehne', 0.1070555371789749), ('William Collins', 0.10674929586299702), ('Don Batory', 0.10545884484994193), ('Ssu-Cheng Liu', 0.10535368359240374), ('J. Aspnes', 0.10478651909376496), ('M. Herlihy', 0.10478651909376496), ('Richard F. Gilberg', 0.10462966679101718), ('Norihisa Suzuki', 0.10436780803472706), ('D. J. Taylor', 0.10395232340907648), ('Peter M. Fenwick', 0.10242176596394384), ('Martin Rinard', 0.10123838678814304), ('Fred G. Gustavson', 0.10022050810230863), ('Allen Sherrod', 0.10011025405115431), ('Nitin Upadhyaya', 0.10011025405115431), ('Marloes L P van Lierop', 0.10011025405115431), ('David V Moffat', 0.10011025405115431), ('Charles W. Reynolds', 0.10011025405115431), ('William B. Dress', 0.10011025405115431), ('W B Dress', 0.10011025405115431), ('Pinaki Mazumder', 0.10011025405115431), ('William James Dally', 0.10011025405115431), ('Marsha J Berger', 0.10011025405115431), ('A. Satish Pai', 0.10011025405115431), ('Gregory Michael Hunter', 0.10011025405115431), ('Michael Stephen Parsons', 0.10011025405115431), ('Ben Abraham Shneiderman', 0.10011025405115431), ('Andre Marchal', 0.10011025405115431), ('Tomasz Kowaltowski', 0.10011025405115431), ('William Louis Ash', 0.10011025405115431), ('Stuart Charles Shapiro', 0.10011025405115431), ('James Richard Low', 0.10011025405115431), ('Stuart William Katzke', 0.10011025405115431), ('Jean Louise Bell', 0.10011025405115431), ('Nobuhisa Fujinami', 0.10011025405115431), ('Martien Molenaar', 0.10011025405115431), ('Tony Middleton', 0.10011025405115431), ('Dennis Higgins', 0.10011025405115431), ('Phillip Deuel', 0.10011025405115431), ('Luc Devroye', 0.10011025405115431), ('Peter Rathmann', 0.10011025405115431), ('Jan Paredis', 0.10011025405115431), ('Elena Zucca', 0.10011025405115431), ('Hans Jürgen Ohlbach', 0.10011025405115431), ('C. Ang', 0.10011025405115431), ('J. V. Noble', 0.10011025405115431), ('Jack Olson', 0.10011025405115431), ('C. S. Collberg', 0.10011025405115431), ('R. J. Chapman', 0.10011025405115431), ('Laurie Jane Hendren', 0.10011025405115431), ('Vassilis John Tsotras', 0.10011025405115431), ('Paul Savage Barth', 0.10011025405115431), ('Giorgio Ausiello', 0.10011025405115431), ('Martin Jay Sirkin', 0.10011025405115431), ('Iain T. Adamson', 0.10011025405115431), ('Thomas M. Boger', 0.10011025405115431), ('Ivan Flores', 0.10011025405115431), ('Charles F. Bowman', 0.10011025405115431), ('Anne Mulkers', 0.10011025405115431), ('Jay Earley', 0.09817533828257335), ('Bruno R. Preiss', 0.09811873819080419), ('Witold Litwin', 0.09690958695532212), ('G. Hartmann', 0.09567505355685409), ('Lee D. Cornell', 0.09545163757117395), ('Olivier Michel', 0.09167569022672392), ('Graeme E. Moss', 0.08896960585688868), ('Colin Runciman', 0.08896960585688868), ('M. H. Overmars', 0.0888007302416305), ('M. A. Jenkins', 0.08798209882808707), ('David Scanlan', 0.08737566553426795), ('Moshe Augenstein', 0.08701738584442169), ('M. L. Fredman', 0.0858152620331433), ('D. S. Johnson', 0.0858152620331433), ('G. Ostheimer', 0.0858152620331433), ('Rajeev Raman', 0.08479043708936679), ('J R Driscoll', 0.08410819524209186), ('N Sarnak', 0.08410819524209186), ('D D Sleator', 0.08410819524209186), ('R E Tarjan', 0.08410819524209186), ('R. Y. Shukla', 0.08344358738448764), ('Angela B. Shiflet', 0.08344358738448764), ('A. Sagara', 0.08344358738448764), ('A. Michael Berman', 0.08344358738448764), ('G. F. Italiano', 0.08344358738448764), ('H. J. Genrich', 0.08344358738448764), ('Mark H. Overmars', 0.08344358738448764), ('R. Hummel', 0.08344358738448764), ('M Kay', 0.08344358738448764), ('Dan Field', 0.08344358738448764), ('František Krejčí', 0.08344358738448764), ('Michael Jay Laszlo', 0.08344358738448764), ('Margo List', 0.08344358738448764), ('Jit Biswas', 0.08344358738448764), ('Prakash Manjunath Nadkarni', 0.08344358738448764), ('Norman Joshua Landis', 0.08344358738448764), ('Siroos Afshar-Khajevand', 0.08344358738448764), ('Lawrence Waldo Hunter', 0.08344358738448764), ('C. Mccrosky', 0.08344358738448764), ('Jeffery R. Westbrook', 0.08344358738448764), ('J. R. Bitner', 0.08344358738448764), ('Seonghun Cho', 0.08344358738448764), ('Franco Preparata', 0.08344358738448764), ('Omer Berkman', 0.08344358738448764), ('Uzi Vishkin', 0.08344358738448764), ('Monika Hildegard Rauch', 0.08344358738448764), ('Roberto Bisiani', 0.08344358738448764), ('David W. Jacobs', 0.08344358738448764), ('V. A. Nepomniaschy', 0.08344358738448764), ('J. H. ter Bekke', 0.08344358738448764), ('Vaclav Rajlich', 0.08344358738448764), ('Janet D. Hartman', 0.08344358738448764), ('Manfred Droste', 0.08344358738448764), ('R. D. Tennent', 0.08344358738448764), ('Steven Jeffrey Friedman', 0.08344358738448764), ('G. R. Mirza', 0.08344358738448764), ('John H. Frazer', 0.08344358738448764), ('Jonathan B. Rosenberg', 0.08344358738448764), ('Suresh Jagannathan', 0.08344358738448764), ('Zhiqing Liu', 0.08344358738448764), ('P. R. Venkata Subramaniam', 0.08344358738448764), ('Lawrence E. Turner', 0.08344358738448764), ('Alan J. Parker', 0.08344358738448764), ('James P. Black', 0.08338846035891048), ('Bhagt Singh', 0.08338846035891048), ('Oege de Moor', 0.08338846035891048), ('Clifford A. Shaffer', 0.08229013542451984), ('Marty Sirkin', 0.08212878965012677), ('Vivek Singhal', 0.08212878965012677), ('Michael Main', 0.08197556842513488), (' III', 0.08136025405115431), ('D. K. Arvind', 0.08136025405115431), ('T. A. Lewis', 0.08136025405115431), ('Farokh B. Bastani', 0.07925828089809908), ('R. Sundar', 0.07837829791854588), ('Marie-Anne Neimat', 0.07835431708641882), ('Sairam Subramanian', 0.07825142025181442), ('Sridhar Ramaswamy', 0.07825142025181442), ('Daniel D. Sleator', 0.0770058823907078), ('Ben Shneiderman', 0.07630509244575884), ('Alexandru Nicolau', 0.07622782846479689), ('Gregory R. Andrews', 0.0755530563840916), ('David P. Dobkin', 0.0755530563840916), ('Richard G. Epstein', 0.07519723992632023), ('Raffaele Giancarlo', 0.07516538107673147), ('Ralf Hinze', 0.07384172722701825), ('Haim Kaplan', 0.07370359218408407), ('John W. Buchanan', 0.07309807778572022), ('Mario C. Sousa', 0.07309807778572022), ('T. Tamassia', 0.07309807778572022), ('J. S. Vitter', 0.07309807778572022), ('Gaston H. Gonnet', 0.07274897244427861), ('Frank W. Tompa', 0.07274897244427861), ('Robert E. Webber', 0.07216155892492737), ('Billy G. Claybrook', 0.07209048498607222), ('Stefan Schöf', 0.07153882547972573), ('Masato Takeichi', 0.07153882547972573), ('James F. Korsh', 0.07153882547972573), ('Leonard J. Garrett', 0.07153882547972573), ('Sheldon Ira Becker', 0.07153882547972573), ('Ravi Janardan', 0.07153882547972573), ('Maurice Jay Bach', 0.07153882547972573), ('Francis John Hilbing', 0.07153882547972573), ('Zhexue Huang', 0.07153882547972573), ('Ralf Küsters', 0.07153882547972573), ('Arnaud Venet', 0.07153882547972573), ('Gary Russell', 0.07153882547972573), ('Christopher J. M. Walmsley', 0.07153882547972573), ('John N. Wilson', 0.07153882547972573), ('Stuart R. Matthews', 0.07153882547972573), ('P. Mukerjee', 0.07153882547972573), ('G. Russell', 0.07153882547972573), ('R. H. Davis', 0.07153882547972573), ('Christos Faloutsos', 0.07153882547972573), ('Prasun Dewan', 0.07153882547972573), ('P. Leinen', 0.07153882547972573), ('Wolfgang K. Giloi', 0.07153882547972573), ('Geoff Whale', 0.07153882547972573), ('Robert E. Tarjan', 0.07117535360142141), ('Anthony I. Wasserman', 0.07007300560803599), ('Susan C. Lilly', 0.06955469849559875), ('Peter Widmayer', 0.06903761377865843), ('Brian Demsky', 0.06829641863688779), ('Chen Ding', 0.06709724179736466), ('Prabhaker Mateti', 0.06709724179736466), ('Gonzalo Navarro', 0.0667976349020458), ('Dinesh Mehta', 0.06674016936743621), ('Svante Carlsson', 0.0655680688521524), ('Jingsen Chen', 0.0655680688521524), ('Joseph M. Fontana', 0.06520141198242581), ('Leila De Floriani', 0.0651685858425746), ('Wm J Mein', 0.06462638308341237), ('Artur Czumaj', 0.06380826094527), ('Christian Sohler', 0.06380826094527), ('Peter Bro Miltersen', 0.06364610693881648), ('Noam Nisan', 0.06364610693881648), ('Shmuel Safra', 0.06364610693881648), ('Avi Wigderson', 0.06364610693881648), ('Pankaj Kumar', 0.0631474510548209), ('Mark A. Weiss', 0.06261025405115431), ('Hatsukazu Tanaka', 0.06261025405115431), ('Volker Sperschneider', 0.06261025405115431), ('Harry George Mairson', 0.06261025405115431), ('Lingyan Shu', 0.06261025405115431), ('Ferenc Rakoczi', 0.06261025405115431), ('Norman Louis Mejstrik', 0.06261025405115431), ('James Richard Bitner', 0.06261025405115431), ('Nikolaj S. Nikitchenko', 0.06261025405115431), ('William J. Rogers', 0.06261025405115431), ('Witold Dzwinel', 0.06261025405115431), ('W. P. Ireland', 0.06261025405115431), ('K. Nilsen', 0.06261025405115431), ('Beat Michel', 0.06261025405115431), ('George B. Cheblakov', 0.06261025405115431), ('Gianfranco Bilardi', 0.06261025405115431), ('Ross Gore', 0.06261025405115431), ('Marek J. Lao', 0.06261025405115431), ('Farn Wang', 0.06261025405115431), ('Werner Schachinger', 0.06261025405115431), ('S. K. Srivastava', 0.06255512702557715), ('Deepali Srivastava', 0.06255512702557715), ('John W. McCormick', 0.06255512702557715), ('M. Talamo', 0.06255512702557715), ('P. Vocca', 0.06255512702557715), ('Aaron M Tenenbaum', 0.06255512702557715), ('Moshe J Augenstein', 0.06255512702557715), ('Richard F. Sincovec', 0.06255512702557715), ('Richard S. Wiener', 0.06255512702557715), ('M. Gössel', 0.06255512702557715), ('B. Rebel', 0.06255512702557715), ('John C. Munson', 0.06255512702557715), ('Taghi M. Khoshgoftaar', 0.06255512702557715), ('João Sariava', 0.06255512702557715), ('Ulrich Lang', 0.06255512702557715), ('Michel Grave', 0.06255512702557715), ('Philippe J. Gabrini', 0.06255512702557715), ('Barry L. Kurtz', 0.06255512702557715), ('Anne Kaldewaij', 0.06255512702557715), ('Laurens de Vries', 0.06255512702557715), ('Robert C. Gammill', 0.06232411684848788), ('Judy Mullins', 0.06092789333433568), ('Vijay Kumar', 0.06092789333433568), ('Adriano Di Pasquale', 0.06082453976544003), ('Enrico Nardelli', 0.06082453976544003), ('David Walker', 0.06074855192349474), ('Micha Sharir', 0.060306702922259176), ('Claire M. Kenyon-Mathieu', 0.05855619999710026), ('Richard Thomas Snodgrass', 0.05819209983012344), ('Chris Lattner', 0.057650407545125446), ('Vikram Adve', 0.057650407545125446), ('Donovan A. Schneider', 0.05749342024029691), ('Timothy Budd', 0.057321032378579426), ('John C. Reynolds', 0.05729106677292309), ('Anne Rogers', 0.057270431864503576), ('Duane J. Jarc', 0.057243126661197366), ('Mark Orletsky', 0.05711598533841278), ('Kumar Ramaiyer', 0.05711598533841278), ('E. W. Thompson', 0.05635498365563081), ('James H. Cross', 0.05593610203764621), ('Ron Penton', 0.055665809606709866), ('Michael P. Barnett', 0.055665809606709866), ('Stephen Vaughn Petersen', 0.055665809606709866), ('Reza Sanati Mehrizy', 0.055665809606709866), ('James Edward Vandendorpe', 0.055665809606709866), ('Kenneth Rose', 0.055665809606709866), ('Akkanad Mathai Isaac', 0.055665809606709866), ('Robert Paul Weaver', 0.055665809606709866), ('Zbigniew Michalewicz', 0.055665809606709866), ('Peter Hartmann', 0.055665809606709866), ('Norbert Bartneck', 0.055665809606709866), ('K. Donner', 0.055665809606709866), ('Y. E. Kalay', 0.055665809606709866), ('Phyllis Tedford', 0.055665809606709866), ('Francisco Corbera', 0.05563593809782228), ('Rafael Asenjo', 0.05563593809782228), ('Emilio L. Zapata', 0.05563593809782228), ('Helmut Alt', 0.05562905825632509), ('Kurt Mehlhorn', 0.05562905825632509), ('Adrian Colbrook', 0.05559230690594032), ('Colin Smythe', 0.05559230690594032), ('D. H. Pitt', 0.05559230690594032), ('Werner C. Rheinboldt', 0.055494266315714), ('Charles K. Mesztenyi', 0.055494266315714), ('Kenichi Asai', 0.0554002202110933), ('S. Sitharama Iyengar', 0.05503950104986799), ('Christian Stangier', 0.05470484335391129), ('Nazim H. Madhavji', 0.05463379953786434), ('L. A. Mc Geoch', 0.05453769852035471), ('Yuelong Gu', 0.05422664042475273), ('Brajendra Panda', 0.05422664042475273), ('Kazi A. Haque', 0.05422664042475273), ('Pankaj K. Agarwal', 0.05412895153900672), ('Douglas W. Nance', 0.05408752677842704), ('Carla Schlatter Ellis', 0.05388496570920025), ('G. Persch', 0.05312202775885287), ('Victor Luchangco', 0.052564670370191774), ('Mark Moir', 0.052564670370191774), ('Craig D. Silverstein', 0.051131618023461986), ('Li Zhang', 0.051131618023461986), ('Larry R. Nyhoff', 0.05076061917196956), ('John Lewis', 0.05059692888101243), ('Maria Cristina Pinotti', 0.05059102328192354), ('Hirobumi Nishida', 0.05011025405115432), ('Stephen T. Kerr', 0.05011025405115432), ('Lawrence Eugene Gales', 0.05011025405115432), ('John Steven Brown', 0.05011025405115432), ('David Robbins Barstow', 0.05011025405115432), ('Tianlai Jiang', 0.05011025405115432), ('K. S. Shankar', 0.05011025405115432), ('J. S. Davis', 0.05011025405115432), ('Alexander J. Ryba', 0.050055127025577156), ('W R Franklin', 0.050055127025577156), ('V Akman', 0.050055127025577156), ('Norman E. Gibbs', 0.050055127025577156), ('Andreas Meier', 0.050055127025577156), ('Markus Ilg', 0.050055127025577156), ('Dennis J Volper', 0.050055127025577156), ('A. S. M. Sajeev', 0.050055127025577156), ('J. Olszewski', 0.050055127025577156), ('Lawrence J. Kenah', 0.050055127025577156), ('Simon F. Bate', 0.050055127025577156), ('M. D. Moshier', 0.050055127025577156), ('W. C. Rounds', 0.050055127025577156), ('Donald L. Simon', 0.050055127025577156), ('J. Gregory Morrisett', 0.050055127025577156), ('Richard Weiner', 0.050055127025577156), ('Lewis J. Pinson', 0.050055127025577156), ('Jörg-Rüdiger Sack', 0.050055127025577156), ('Jorge Urrutia', 0.050055127025577156), ('Frank Bauernöppel', 0.050055127025577156), ('Hermann Jung', 0.050055127025577156), ('Carla Limongelli', 0.050055127025577156), ('Marco Temperini', 0.050055127025577156), ('Guy J. Hale', 0.050055127025577156), ('Richard J. Easton', 0.050055127025577156), ('T. Naps', 0.050055127025577156), ('B. Singh', 0.050055127025577156), ('E. Bruzzone', 0.050055127025577156), ('L. De Floriani', 0.050055127025577156), ('A. Bissett', 0.050055127025577156), ('J. Forrest', 0.050055127025577156), ('P. Lentfert', 0.050055127025577156), ('L. Nyhoff', 0.050055127025577156), ('Sanford Leestma', 0.050055127025577156), ('Mayer Aladjem', 0.050055127025577156), (\"Its'hak Dinstein\", 0.050055127025577156), ('M. R. Dobie', 0.050055127025577156), ('P. H. Lewis', 0.050055127025577156), ('Victor M. Madrigal', 0.050055127025577156), ('I-Ling Yen', 0.04991493251483389), ('Alan Fekete', 0.049829459055760916), ('Brad A. Myers', 0.04955941618045906), ('William J. Collins', 0.04944074339557205), ('B. P. Weems', 0.04862747929807507), ('Robert Lafore', 0.048335657402347604), ('A. Ravichandran', 0.048214211537730145), ('L. J. Hendren', 0.048068417617794734), ('A. Nicolau', 0.048068417617794734), ('Nir Shavit', 0.04773707117605299), ('Aaron Tenenbaum', 0.04738397381573321), ('Joseph Hummel', 0.04714795150589435), ('John Craig Comfort', 0.047076336907878887), ('Jaanus Pöial', 0.047046995546925444), ('Dominic Mazzoni', 0.04697459933628813), ('Roger B. Dannenberg', 0.04697459933628813), ('Andrew Rau-Chaplin', 0.04692323231758973), ('Lenwood S. Heath', 0.04646559565907981), ('W. E. Gull', 0.04626030513584324), ('Johan Larsson', 0.04595624663702659), ('John H. Reppy', 0.04593424548587022), ('Steve Meyer', 0.04584820680905276), ('Heung Hwan Kim', 0.04583238891556764), ('Alon Efrat', 0.04563451403487665), ('M. Jung', 0.04556479950569977), ('Sandra Lee Mitchell', 0.04556479950569977), ('Richard Oscar Lind', 0.04556479950569977), ('Arie Tamir', 0.04556479950569977), ('L. J. French', 0.045563168863795536), ('Mark Guzdial', 0.04504075884607123), ('George J. Pothering', 0.04451814878799641), (' II', 0.04448565705134436), ('David Alex Lamb', 0.04422046198647705), ('Yakov Nekrich', 0.043653143314493714), ('M. Chock', 0.04358851492071953), ('Lawrence Cayton', 0.043547190177569854), ('Paola Magillo', 0.04325942805403603), ('Enrico Puppo', 0.04325942805403603), ('Mordecai Golin', 0.04308701907231536), ('Christian Schwarz', 0.04308701907231536), ('Michiel Smid', 0.04308701907231536), ('Gennaro Cordasco Vittorio Scarano Arnold L. Rosenberg', 0.04266438838782141), ('Bernd-Uwe Pagel', 0.042608298404346295), ('Hans-Werner Six', 0.042608298404346295), ('V. K. Vaishnavi', 0.04237919687428772), ('Tony Woo', 0.04177692071782098), ('Daniel T. Joyce', 0.0417401693674362), ('Chip Weems', 0.0417401693674362), ('Tony Gaddis', 0.04172179369224382), ('Godfrey Muganda', 0.04172179369224382), ('Kunwoo Lee', 0.04172179369224382), ('David C. Gossard', 0.04172179369224382), ('Johan Lewi', 0.04172179369224382), ('Jan Paredaens', 0.04172179369224382), ('Z. Galil', 0.04172179369224382), ('R. Giancarlo', 0.04172179369224382), ('Jean-Paul Tremblay', 0.04172179369224382), ('Paul G. Sorenson', 0.04172179369224382), ('Sitharama Iyengar', 0.04172179369224382), ('Hrishikesh Gadagkar', 0.04172179369224382), ('Alan George', 0.04172179369224382), ('Joseph Liu', 0.04172179369224382), ('Bert Alton Brantley', 0.04172179369224382), ('Lucas Chi Kwong Hui', 0.04172179369224382), ('Charles Martel', 0.04172179369224382), ('Saro Saravanan', 0.04172179369224382), ('Samuel E. Rhoads', 0.04172179369224382), ('Michael V. Gearen', 0.04172179369224382), ('Michael Wolfe', 0.04172179369224382), ('Harini Srinivasan', 0.04172179369224382), ('Matthew J. Katz', 0.04172179369224382), ('Frank Nielsen', 0.04172179369224382), ('Jeffrey A. Chard', 0.04172179369224382), ('Vadim Shapiro', 0.04172179369224382), ('J. Morris Chang', 0.04172179369224382), ('Charles H. Daugherty', 0.04172179369224382), ('Frank Schulz', 0.04172179369224382), ('Elmar Schömer', 0.04172179369224382), ('George Horatiu Botorog', 0.04172179369224382), ('Herbert Kuchen', 0.04172179369224382), ('Sergei N. Artëmov', 0.04172179369224382), ('Vladimir Krupski', 0.04172179369224382), ('Lukas Relly', 0.04172179369224382), ('Andreas Wolf', 0.04172179369224382), ('M. Ancona', 0.04172179369224382), ('L. de Floriani', 0.04172179369224382), ('M. Ouksel', 0.04172179369224382), ('P. Scheurmann', 0.04172179369224382), ('John H. Riley', 0.04172179369224382), ('J. I. Glasgow', 0.04172179369224382), ('Jeffrey Esakov', 0.04172179369224382), ('Boleslaw K. Szymanski', 0.04172179369224382), ('Noah S. Prywes', 0.04172179369224382), ('Jurg Nievergelt', 0.04172179369224382), ('Klaus H. Hinrichs', 0.04172179369224382), ('Philippe Flajolet', 0.04172179369224382), ('H. H. Dannelongue', 0.04172179369224382), ('P. A. Tanguy', 0.04172179369224382), ('Alok Aggarwal', 0.04172179369224382), ('Prabhakar Raghavan', 0.04172179369224382), ('Jürg Nievergelt', 0.04172179369224382), ('Carsten K. Gomard', 0.04172179369224382), ('Peter Sestoft', 0.04172179369224382), ('Allan Gottlieb', 0.041703418017051436), ('Kai Hwang', 0.041703418017051436), ('Prabhakar Gupta', 0.041703418017051436), ('Vineet Agarwal', 0.041703418017051436), ('Manish Varshney', 0.041703418017051436), ('Venkatesh Raman', 0.041703418017051436), ('S. Srinivasa Rao', 0.041703418017051436), ('James R. Driscoll', 0.041703418017051436), ('Neil Sarnak Daniel D. Sleator', 0.041703418017051436), ('Michael C. Burton', 0.04169423017945524), ('William G. Griswold', 0.04169423017945524), ('Andrew D. McCulloch', 0.04169423017945524), ('Gary A. Huber', 0.04169423017945524), ('Pascal Fradet', 0.04112941260076921), ('Neal Laurance', 0.041097149836167794), ('Amos Fiat', 0.04100746263763693), ('Arthur J. Benjamin', 0.0407426739593149), ('Eun Ha Rho', 0.04066998031856455), ('Sang Yong Han', 0.04066998031856455), ('Dae Joon Hwang', 0.04066998031856455), ('Irene Finocchi', 0.040568068852152396), ('Rob Gerritsen', 0.04029462325275082), ('Daniel J. Ernst', 0.04014841275677636), ('Daniel E. Stevenson', 0.04014841275677636), ('Paul J. Wagner', 0.04014841275677636), ('Ulrich Flemming', 0.0387701361718106), ('M. H. Smid', 0.038745603216053345), ('L. Torenvliet', 0.038745603216053345), ('P. van Emde Boas', 0.038745603216053345), ('Douglas Bell', 0.03869773996117328), ('Mehdi Mir-Ghasemi', 0.03869773996117328), ('Soumen Chakrabarti', 0.03863921840151019), ('Katherine Yelick', 0.03863921840151019), ('J Timothy Kolosick', 0.03857179251269278), ('Kenneth Lambert', 0.03851666548711562), ('Martin Osborne', 0.03851666548711562), ('John R. Hubbard', 0.03846801552509131), ('Michael Greenwald', 0.03842598760047252), ('Joseph D. Brownsmith', 0.03809808086432701), ('Steffen Heinz', 0.038051808983013954), ('Justin Zobel', 0.038051808983013954), ('Francky Catthoor', 0.03788490785065618), ('Randal E. Bryant', 0.03770815762282306), ('R. S. Fabry', 0.03731714097827845), ('W. Douglas Maurer', 0.037312576030280944), ('Glenn Rowe', 0.037160843652599224), ('Dean Sanders', 0.03714729108819135), ('Vladimir Kovalevsky', 0.036940817423546), ('Subhash Suri', 0.03675899612831947), ('Yuan-Shin Hwang', 0.03672641566731593), ('Dirk Strothmann', 0.03651867109926481), ('Ajeet Shankar', 0.03643612898788638), ('Rastislav Bodík', 0.03643612898788638), ('Vadim Engelson', 0.03605835118561802), ('Dag Fritzson', 0.03605835118561802), ('Peter Fritzson', 0.03605835118561802), ('Ali Erkan', 0.03600328925200376), ('Esther Jinee Choi', 0.035769412739862866), ('Yong Rae Kwon', 0.035769412739862866), ('Paul Helman', 0.035769412739862866), ('Robert Veroff', 0.035769412739862866), ('Jared Bruckner', 0.035769412739862866), ('James Harp', 0.035769412739862866), ('Charles John Grewe', 0.035769412739862866), ('David S. Scott', 0.035769412739862866), ('S. S Iyengar', 0.035769412739862866), ('S. C. Chang', 0.035769412739862866), ('M. W. Du', 0.035769412739862866), ('Alistair McMonnies', 0.035769412739862866), ('W. S. McSporran', 0.035769412739862866), ('Joe Kent', 0.035769412739862866), ('Lewis Barnett', 0.035769412739862866), ('Camil Demetrescu', 0.035769412739862866), ('Maurizio Pizzonia', 0.035769412739862866), ('Giuseppe Di Battista', 0.035769412739862866), ('Ulrich Finke', 0.035769412739862866), ('Klaus Hinrichs', 0.035769412739862866), ('P. S. Deshpande', 0.035769412739862866), ('O. G. Kakde', 0.035769412739862866), ('Yung-Kuan Chan', 0.035769412739862866), ('Chin-Chen Chang', 0.035769412739862866), ('Pierre Lescanne', 0.035769412739862866), ('Jean-Marc Steyaert', 0.035769412739862866), ('Rong Yang', 0.035769412739862866), ('Steve Gregory', 0.035769412739862866), ('Gabriele Keller', 0.035769412739862866), ('Manuel M. T. Chakravarty', 0.035769412739862866), ('F. Warren Burton', 0.035769412739862866), ('Hsi-Kai Yang', 0.035769412739862866), ('Stephen Brookes', 0.035769412739862866), ('Shai Geva', 0.035769412739862866), ('Efri Nattel', 0.035769412739862866), ('Yehezkel Yeshurun', 0.035769412739862866), ('C. van Reeuwijk', 0.03553279105477179), ('H. J. Sips', 0.03553279105477179), ('Yamini Kannan', 0.03511011066985969), ('Koushik Sen', 0.03511011066985969), ('Gregory L. Heileman', 0.03499397498138687), ('Joel Saltz', 0.03481410059818414), ('Martin L. Griss', 0.03464760226334297), ('Peter Brass', 0.03459301267184397), ('T. Dean Hendrix', 0.03457389920139445), ('Larry A. Barowski', 0.03457389920139445), ('Greg Henry', 0.0342011631420634), ('Philip N. Klein', 0.03400855913590008), ('David Grabel', 0.03381816902430599), ('Desh Ranjan', 0.03339213549394896), ('Daniel Enselme', 0.033370084683718104), ('Gerard Benay', 0.033370084683718104), ('F.-Y. Villemin', 0.033370084683718104), ('Michael A. Bender', 0.033370084683718104), ('Saurabh Sethia', 0.033370084683718104), ('Steven Skiena', 0.033370084683718104), ('Bruce P. Leung', 0.033370084683718104), ('Clovis L. Tondo', 0.033370084683718104), ('D. T. Barnard', 0.033370084683718104), ('R. C. Holt', 0.033370084683718104), ('J. N. P. Hume', 0.033370084683718104), ('E. Welzl', 0.03318647198512576), ('J. A. Orenstein', 0.032951011511592763), ('T. H. Merrett', 0.032951011511592763), ('Viktor Kuncak', 0.03294196815125524), ('Lars Söderlund', 0.03288602863962172), ('Gershon Kedem', 0.03243811260614896), ('David I. August', 0.03237365506881727), ('Paul Martin', 0.03236452813979763), ('Eligiusz Wajda', 0.03230946385717858), ('Firooz Khosraviyani', 0.032175565287572754), ('Robert F. Smith', 0.032050054036059476), ('James R. Low', 0.03188752873341694), ('Vinay Gupta', 0.031817212523724644), ('Mohit Modi', 0.031817212523724644), ('Andy D. Pimentel', 0.031817212523724644), ('Clifford R. Hollander', 0.031412927838375175), ('Dennis L. Johnson', 0.031305127025577154), ('Arthur C. Miller', 0.031305127025577154), ('J F Peters', 0.031305127025577154), ('R. E. Bank', 0.031305127025577154), ('A. H. Sherman', 0.031305127025577154), ('John Camp Hallyburton', 0.031305127025577154), ('Raymond Franklyn Ford', 0.031305127025577154), ('Guocheng Pan', 0.031305127025577154), ('Lixian Xia', 0.031305127025577154), ('Li Lin', 0.031305127025577154), ('Ravi Sanka', 0.031305127025577154), ('Bruce B. Maxim', 0.031305127025577154), ('Alan A. Bertossi', 0.031305127025577154), ('Amalia Duch', 0.031305127025577154), ('Conrado Martinez', 0.031305127025577154), ('Aart J. C. Bik', 0.031305127025577154), ('Harry A. G. Wijshoff', 0.031305127025577154), ('Sabine Timpf', 0.031305127025577154), ('Andrew U. Frank', 0.031305127025577154), ('R. Armstrong', 0.031305127025577154), ('C. Haksever', 0.031305127025577154), ('Walter Cunto', 0.031305127025577154), ('G. V. Paolini', 0.031305127025577154), ('G. Radicati di Brozolo', 0.031305127025577154), ('Mandayam A. Srinivas', 0.031305127025577154), ('K. Kant', 0.031305127025577154), ('Michael F. Goodchild', 0.031305127025577154), ('Yang Shiren', 0.031305127025577154), ('Joseph Manning', 0.03128548226153781), ('Ghosh Debarata Dastidar', 0.03127756351278858), ('Matangini Chattopadhyay', 0.03127756351278858), ('Samiran Chattopadhyay', 0.03127756351278858), ('Dastidar D. Ghosh', 0.03127756351278858), ('L. A. McGeoch', 0.03127756351278858), ('Chao-Fu Hong', 0.03119994734349397), ('Janice M. Stone', 0.031188826063145453), ('Renato Capra', 0.031182900721979153), ('Mann-May Yau', 0.03116205842424394), ('Sargur N. Srihari', 0.03116205842424394), ('Janet Hartman', 0.030851967011845664), ('Carol Chrisman', 0.030851967011845664), ('M Fitting', 0.030722498949113497), ('Martin C. Rinard', 0.030641902011267673), ('N. Billawala', 0.03058232681159694), ('J. Sargeant', 0.030508943843777676), ('C. C. Kirkham', 0.030508943843777676), ('W. K. Giloi', 0.03050127011195632), ('H. K. Berg', 0.03050127011195632), ('J Thornburg', 0.030413284354184618), ('Edward V. Eusebi', 0.030394002037555243), ('Sariel Hal-Peled', 0.030282676379098143), ('Ariel Futoransky Damián Saura Ariel Waissbein', 0.03027813453988972), ('Renzo Angles', 0.03012627845751521), ('Claudio Gutierrez', 0.03012627845751521), ('Janis Voigtländer', 0.02990206410875651), ('Karen Mackey', 0.029868014646014022), ('Howard Fosdick', 0.029868014646014022), ('Jayadev Misra', 0.029522018757036667), ('Richard Barth', 0.029381835182382965), ('Bertrand Serlet', 0.029381835182382965), ('Cyril Gavoille', 0.029164041213829376), ('Peter Scheuermann', 0.029120563201146765), ('Joseph Hummell', 0.02907987695890255), ('Jun Yang', 0.028787475353692665), ('J. Katzenelson', 0.02788803182893209), ('Frutuoso G. M. Silva', 0.027870822821098467), ('Abel J. P. Gomes', 0.027870822821098467), ('Walter Savitch', 0.027832904803354933), ('Johan Margono', 0.027832904803354933), ('Edward V. Berard', 0.027832904803354933), ('Sibel Adali', 0.027832904803354933), ('V. S. Subrahmanian', 0.027832904803354933), ('James L. Antonakos', 0.027832904803354933), ('Kenneth C. Mansfield', 0.027832904803354933), ('Alexandros V. Gerbessiotis', 0.027832904803354933), ('Constantinos J. Siniolakis', 0.027832904803354933), ('Richard Cole', 0.027832904803354933), ('Ofer Zajicek', 0.027832904803354933), ('Christopher Lynch', 0.027832904803354933), ('Polina Strogova', 0.027832904803354933), ('Christophe Laurent', 0.027832904803354933), ('Jean Roman', 0.027832904803354933), ('Detlef Sieling', 0.027832904803354933), ('Peter DePasquale', 0.027814529128162544), ('Joe Chase', 0.027814529128162544), ('Kiyoshi Akama', 0.027814529128162544), ('Hidekatsu Koike', 0.027814529128162544), ('Hiroshi Mabuchi', 0.027814529128162544), ('Gaétan Hains', 0.027814529128162544), ('Frédéric Loulergue', 0.027814529128162544), ('John Mullins', 0.027814529128162544), ('Yahiko Kambayashi', 0.027814529128162544), ('Hiroki Takakura', 0.027814529128162544), ('Shintaro Meki', 0.027814529128162544), ('Lukas Bachmann', 0.027814529128162544), ('Michael Benedikt', 0.027814529128162544), ('Thomas W. Reps', 0.027814529128162544), ('Shmuel Sagiv', 0.027814529128162544), ('M. Chrobak', 0.027814529128162544), ('T. Szymacha', 0.027814529128162544), ('A. Krawczyk', 0.027814529128162544), ('P. D. Felice', 0.027814529128162544), ('A. Agnifili', 0.027814529128162544), ('E. Clementini', 0.027814529128162544), (\"V. P. Il'in\", 0.027814529128162544), ('V. I. Karnachuk', 0.027814529128162544), ('M. R. Larin', 0.027814529128162544), ('W. Marcus Miller', 0.027814529128162544), ('Walid A. Najjar', 0.027814529128162544), ('A. P. Wim Böhm', 0.027814529128162544), ('Sven Wuytack', 0.02740788263038785), ('Hugo De Man', 0.02740788263038785), ('Saleem M. Haider', 0.027340941698740108), ('Peng H. Ang', 0.027340941698740108), ('Anna Slobodová', 0.027187150539998914), ('Tao Chen', 0.027137281078181343), ('Alessandra Lumini', 0.026807564650471728), ('Dario Maio', 0.026807564650471728), ('Ádám Balogh', 0.026785312140674127), ('Zoltán Csörnyei', 0.026785312140674127), ('Jung Gyu Park', 0.026726046942266882), ('Myong-Soon Park', 0.026726046942266882), ('Randal C. Nelson', 0.026561013879426436), ('Yanhong A. Liu', 0.026366122255812117), ('Scott D. Stoller', 0.026366122255812117), ('C. Cavagna', 0.026337629961001773), ('U. Cugini', 0.026337629961001773), ('Derek C. Oppen', 0.026337629961001773), ('Stephen A. Cook', 0.026337629961001773), ('F. Hommes', 0.02614997435232855), ('Johan Jansson', 0.025987086938933788), ('Anders Logg', 0.025987086938933788), ('M. Rafanelli', 0.025898208765900346), ('F. L. Ricci', 0.025898208765900346), (\"M. A. d'Abreu\", 0.025772656844033872), ('Kudang B. Seminar', 0.025722038544977607), ('Robert N. Robson', 0.025722038544977607), ('K. Karun', 0.025696152666602797), ('Jhilmil Jain', 0.025635103132975248), ('Werner Schenk', 0.025194354902466676), ('Barbara Ericson', 0.02505512702557716), ('Jean-Pierre Cheiney', 0.02505512702557716), ('A. Touir', 0.02505512702557716), ('Gregory C. Harfst', 0.02505512702557716), ('Jerzy W. Jaromczyk', 0.02505512702557716), ('Miroslaw Kowaluk', 0.02505512702557716), ('Claire Kenyon-Mathieu', 0.02505512702557716), ('Yousef Saad', 0.02505512702557716), ('Andrei V. Malevsky', 0.02505512702557716), ('M. Aris Ouksel', 0.02505512702557716), ('Otto Mayer', 0.02505512702557716), ('K. Tang', 0.02505512702557716), ('T. Woo', 0.02505512702557716), ('F. Abbruzzese', 0.02505512702557716), ('Eliana Minicozzi', 0.02505512702557716), ('Vladimir Estivill-Castro', 0.02505512702557716), ('Michael E. Houle', 0.02505512702557716), ('S. S. Iyengar', 0.025027563512788578), ('N. S. V. Rao', 0.025027563512788578), ('R. L. Kashyap', 0.025027563512788578), ('Erik D. Demaine', 0.02483125000191306), ('Ari Korhonen', 0.024773005981450772), ('K. Shannon', 0.02474851244563579), ('S. L. Getz', 0.024700417985580543), ('Erkki Mäkinen', 0.024564930947145784), ('Markku Siermala', 0.024564930947145784), ('J. I. Munro', 0.02450049795359334), ('Costas S. Iliopoulos', 0.024483880203343446), ('M. Sohel Rahman', 0.024483880203343446), ('Asaph Zemach', 0.02440457692094073), ('David Eppstein', 0.023924741839180672), ('Jonathan Z. Sun', 0.023924741839180672), ('B. Lee', 0.023924741839180672), ('A. R. Hurson', 0.023924741839180672), ('B. Shirazi', 0.023924741839180672), ('Yitong Yin', 0.023919777860678122), ('E. G. Daylight', 0.02387740843675293), ('C. Mathieu', 0.023846275159908576), ('Claude Puech', 0.023846275159908576), ('Hossein Yahia', 0.023846275159908576), ('Bikash Sabata', 0.023846275159908576), ('Farshid Arman', 0.023846275159908576), ('J. K. Aggarwal', 0.023846275159908576), ('Bradford G. Nickerson', 0.023846275159908576), ('Peter A. Judd', 0.023846275159908576), ('Larry A. Mayer', 0.023846275159908576), ('Aladdin Hafez', 0.023846275159908576), ('Jitender S. Deogun', 0.023846275159908576), ('Vijay V. Raghavan', 0.023846275159908576), ('Sridhar Ramachandran', 0.023846275159908576), ('K. Rajasekar', 0.023846275159908576), ('C. Pandu Rangan', 0.023846275159908576), ('Lars Arge', 0.023846275159908576), ('Jan Vahrenhold', 0.023846275159908576), ('P. T. Hulina', 0.023846275159908576), ('L. D. Coraor', 0.023846275159908576), ('O. A. Morean', 0.023846275159908576), ('Thomas Strothotte', 0.023846275159908576), ('D. Jablonowski', 0.023846275159908576), ('V. A. Guarna', 0.023846275159908576), ('Dirk de Jong', 0.023846275159908576), ('Paul van Slobbe', 0.023846275159908576), ('Marinus van Splunter', 0.023846275159908576), ('Suresh S Chitoor', 0.023846275159908576), ('M. Narasimha Murty', 0.023846275159908576), ('Malini K. Bhandaru', 0.023846275159908576), ('Radhakrishnan Sridhar', 0.023846275159908576), ('Sitharama S. Iyengar', 0.023846275159908576), ('Subbiah Rajanarayanan', 0.023846275159908576), ('Chi-Yuan Lo', 0.023837799852667936), ('Hao N. Nham', 0.023837799852667936), ('Ajoy K. Bose', 0.023837799852667936), ('Pavlos Konas', 0.023812951387317493), ('Pen-Chung Yew', 0.023812951387317493), ('G. Jacobson', 0.023547754051154314), ('Sara McMains', 0.023380995520001967), ('Joseph M. Hellerstein', 0.023380995520001967), ('Carlo H. Séquin', 0.023380995520001967), ('Yannis Smaragdakis', 0.023330055199815163), ('Rhys Owen', 0.023203275173725304), ('Hugh Anderson', 0.023203275173725304), ('H. R. Rabiee', 0.023187177128077392), ('William H. Ford', 0.023132050102500235), ('William R. Topp', 0.023132050102500235), ('Patrick Lam', 0.022989611570316357), ('Joseph Chase', 0.022782399752849885), ('Joel H. Saltz', 0.022782399752849885), ('Yutaka Ohsawa', 0.022782399752849885), ('Masao Sakauchi', 0.022782399752849885), ('G. Goos', 0.022549614323019444), ('J. Hartmanis', 0.022549614323019444), ('Robert Sedgewick', 0.02209520563813498), ('A. Dingle', 0.022008283331073793), ('I. H. Sudborough', 0.022008283331073793), ('Glenn G. Lai', 0.021935958932395257), ('Don Fussell', 0.021935958932395257), ('D. F. Wong', 0.021935958932395257), ('David Greenfieldboyce', 0.021909157788538566), ('Annie Hui', 0.021909157788538566), ('Sandra Andersen', 0.021660065297182094), ('Roberge', 0.021660065297182094), ('David Riley', 0.021538825479725743), ('Hala A. Farouk', 0.021498640998806714), ('Michael Britt', 0.021386849795835165), ('Stephen M. Watt', 0.021262262883252073), ('Roger T. Hartley', 0.021237014614534595), ('Thomas Yan', 0.020943587384487646), ('Hassan Masum', 0.020943587384487646), ('Aaron J. Wheeler', 0.020943587384487646), ('David C. Luckham', 0.020924220650239432), ('S Ohsuga', 0.02088846035891049), ('H Yamauchi', 0.02088846035891049), ('Bryan Neperud', 0.020879808375205984), ('John Lowther', 0.020879808375205984), ('Ching-Kuang Shene', 0.020879808375205984), ('M S Carberry', 0.0208700846837181), ('A Toni Cohen', 0.0208700846837181), ('Hatem M Khalil', 0.0208700846837181), ('Cristiano Calcagno', 0.0208700846837181), ('Hongseok Yang', 0.0208700846837181), (\"Peter W. O'Hearn\", 0.0208700846837181), ('L. Gross', 0.0208700846837181), ('P. Sternecker', 0.0208700846837181), ('Willi Schönauer', 0.0208700846837181), ('Enrico Pontelli', 0.0208700846837181), ('Gopal Gupta', 0.0208700846837181), ('John A. Chandy', 0.0208700846837181), ('Steven Parkes', 0.0208700846837181), ('Prithviraj Banerjee', 0.0208700846837181), ('Manuel Núñez', 0.0208700846837181), ('Pedro Palao', 0.0208700846837181), ('Ricardo Pena', 0.0208700846837181), ('Alberto Marchetti-Spaccamela', 0.0208700846837181), ('Umberto Nanni', 0.0208700846837181), ('Ting-Yi Sung', 0.0208700846837181), ('Lih-Hsing Hsu', 0.0208700846837181), ('Jeng-Yan Hwang', 0.0208700846837181), ('Raffaele Cappelli', 0.0208700846837181), ('Chialin Chang', 0.0208700846837181), ('Alan Sussman', 0.0208700846837181), ('Herbert L. Dershem', 0.02086089684612191), ('Wendy L. Barth', 0.02086089684612191), ('Cheri J. Bowsher', 0.02086089684612191), ('Darrick P. Brown', 0.02086089684612191), ('Tomasz Imielinski', 0.02086089684612191), ('David B. Lomet', 0.02086089684612191), ('J. T. Schwartz', 0.020856982583946967), ('George S. Lueker', 0.02067717879486817), ('Edmond Chow', 0.02062526514458802), ('Michael A. Heroux', 0.02062526514458802), ('Esther M. Arkin', 0.02055506514811102), ('Joseph S. B. Mitchell', 0.02055506514811102), ('Sunil Arya', 0.02046159041585027), ('David M. Mount', 0.02046159041585027), ('Guy E. Blelloch', 0.02036602497895629), ('Virginia Vassilevska', 0.02036602497895629), ('Vinay Kumar', 0.02014731162637541), ('Sunil Kumar Muttoo', 0.02014731162637541), ('O. Astrachan', 0.020110254051154314), ('Svetlana Yarosh', 0.01998563182049407), ('Sébastien Ferré', 0.01992096495783002), ('Ross D. King', 0.01992096495783002), ('Edmond Schonberg', 0.019915618428631952), ('Jacob T. Schwartz', 0.019915618428631952), ('Maxime Crochemore', 0.01979912354813666), ('Arie Gurfinkel', 0.019742455597802553), ('Sagar Chaki', 0.019742455597802553), ('Yoav Zibin', 0.01964076789340699), ('Joseph Yossi Gil', 0.01964076789340699), ('Rasmus Pagh', 0.019452535244068085), ('J. Couch', 0.019341023281923546), ('V. Jayakumar', 0.019341023281923546), ('Sajal K. Das', 0.01928589625634639), ('Arnold L. Rosenberg', 0.01921065613188988), ('Mikhail J. Atallah', 0.01909032751423479), ('Russ Miller', 0.01909032751423479), ('Jyh-Jong Tsay', 0.01909032751423479), ('Ashley George Hamilton-Taylor', 0.019049040432163506), ('Eileen Kraemer', 0.019049040432163506), ('Joachim Laubsch', 0.0189781785794562), ('A. Belussi', 0.0188865136456436), ('E. Bertino', 0.0188865136456436), ('B. Catania', 0.0188865136456436), ('Mihai Pǎtraşcu', 0.018780752947060934), ('Jacinta Townley', 0.01873458486277311), ('Michel Schellekens', 0.01873458486277311), ('Rainer Koppler', 0.01855526986890329), ('Siegfried Grabner', 0.01855526986890329), ('Jens Volkert', 0.01855526986890329), ('Ahmed Bouajjani', 0.01855526986890329), ('Rachid Echahed', 0.01855526986890329), ('Riadh Robbana', 0.01855526986890329), ('Tore Risch', 0.01855526986890329), ('René Beier', 0.01855526986890329), ('Peter Sanders', 0.01855526986890329), ('Naveen Sivadasan', 0.01855526986890329), ('Jack Beidler', 0.018358429233636064), ('Ori Shalev', 0.018320618526618034), ('João Comba', 0.018263877730187752), ('Martin C. Carlisle', 0.018119716357707673), ('Mark Handy', 0.017884706369931433), ('Benoît Hudson', 0.017884706369931433), ('K. Yamaguchi', 0.017884706369931433), ('T. Kunii', 0.017884706369931433), ('K. Fujimura', 0.017884706369931433), ('H. Toriya', 0.017884706369931433), ('Martin Vechev', 0.01780019353778663), ('Eran Yahav', 0.01780019353778663), ('Kunihiko Sadakane', 0.017757312874683726), ('Karen Zee', 0.017695969476443515), ('Michel Mauny', 0.017571573784277716), ('Daniel de Rauglaudre', 0.017571573784277716), ('Michael M. David', 0.01742455146756704), ('Kenneth J. Rodham', 0.01731091256391106), ('Dan R. Olsen', 0.01731091256391106), ('I. Kalantari', 0.017059406593527195), ('Isidore Rigoutsos', 0.017036734068972686), ('Robert Hummel', 0.017036734068972686), ('J. I. Aoe', 0.017034582564114376), ('Gianfranco Ciardo', 0.01686340941643727), ('Andrew S. Miner', 0.01686340941643727), ('Jane Wilhelms', 0.0167541329609623), ('Thomas C. McMillan', 0.016721793692243823), ('Giorgio Gambosi', 0.016703418017051438), ('Marco Protasi', 0.016703418017051438), ('Maurizio Talamo', 0.016703418017051438), ('Nikolas Provatas', 0.016703418017051438), ('Nigel Goldenfeld', 0.016703418017051438), ('Jonathan Dantzig', 0.016703418017051438), ('Osman S. Unsal', 0.016703418017051438), ('Israel Koren', 0.016703418017051438), ('C. Mani Krishna', 0.016703418017051438), ('Ingrid Carlbom', 0.016703418017051438), ('Indranil Chakravarty', 0.016703418017051438), ('David Vanderschel', 0.016703418017051438), ('G. Michael Barnes', 0.016694661288779517), ('Gary A. Kind', 0.016694661288779517), ('Allen Parrish', 0.016688717476897527), ('Brandon Dixon', 0.016688717476897527), ('David Cordes', 0.016688717476897527), ('Susan Vrbsky', 0.016688717476897527), ('John Lusth', 0.016688717476897527), ('Eugene Asarin', 0.016685042341859052), ('Marius Bozga', 0.016685042341859052), ('Alain Kerbrat', 0.016685042341859052), ('Oded Maler', 0.016685042341859052), ('Amir Pnueli', 0.016685042341859052), ('Anne Rasse', 0.016685042341859052), ('Craig B. Zilles', 0.01656056351525242), ('Diyan Gochev', 0.016545824955461138), ('Koza John R', 0.016410267212493043), ('I. C. Braid', 0.016357899674586028), ('Theocharis Malamatos', 0.016335666247323986), ('Sathish Govindarajan', 0.016313957754858017), ('Stefan Andrei', 0.01623928630921883), ('Jussi Nikander', 0.016195151683146343), ('Eiri Valanto', 0.016195151683146343), ('Kirsi Virrantaus', 0.016195151683146343), ('Douglas B. Terry', 0.016045083448462744), ('Daniel C. Swinehart', 0.016045083448462744), ('C. E. Robinson', 0.015983269924170186), ('Michael H. Schneider', 0.015967222391373707), ('Hugh E. Williams', 0.01594157798977543), ('J. Mohr', 0.015873934784812985), ('Moshe Hershcovitch', 0.015680127025577157), ('Vijay K. Garg', 0.015680127025577157), ('Vinit Ogale', 0.015680127025577157), ('Cyril Kardassevitch', 0.015652563512788577), ('Mathias Paulin', 0.015652563512788577), ('Jean Pierre Jessel', 0.015652563512788577), ('René Caubet', 0.015652563512788577), ('Bonifacio Castaño', 0.015652563512788577), ('Joos Heintz', 0.015652563512788577), ('Juan Llovet', 0.015652563512788577), ('Raquel Martínez', 0.015652563512788577), ('Fidenzio Burbello', 0.015652563512788577), ('S. B. Pollard', 0.015652563512788577), ('John Porrill', 0.015652563512788577), ('John E. W. Mayhew', 0.015652563512788577), ('C. Collin', 0.015594413031572727), ('R. Levinson', 0.015594413031572727), ('Per Bro Miltersen', 0.01557417157692751), ('Kiyotaka Yasui', 0.0154948694357697), ('Edward Marlow Hoskins', 0.0154948694357697), ('H. Noltemeier', 0.015188266501899923), ('K. Verbarg', 0.015188266501899923), ('C. Zirkelbach', 0.015188266501899923), ('Allen B. Tucker', 0.015049614323019442), ('Robert D. Cupper', 0.015049614323019442), ('Bolei Guo', 0.015022021707318135), ('Neil Vachharajani', 0.015022021707318135), ('D. P. Mehta', 0.014921293210035883), ('S. Sahni', 0.014921293210035883), ('Heinrich Toben', 0.01479376927618375), ('Raymond Lister', 0.014787576603705686), ('Josh Tenenberg', 0.014787576603705686), ('C. M. Geschke', 0.014388487027061908), ('J. G. Mitchell', 0.014388487027061908), ('Mitsuhisa Sato', 0.014307765095945148), ('Yuetsu Kodama', 0.014307765095945148), ('Hirofumi Sakane', 0.014307765095945148), ('Yoshinori Yamaguchi', 0.014307765095945148), ('Shuichi Sakai', 0.014307765095945148), ('Ali S. Erkan', 0.014240247863779452), ('T. J. VanSlyke', 0.014240247863779452), ('Timothy M. Scaffidi', 0.014240247863779452), ('Octavian Procopiuc', 0.014234547836465048), ('David A. Umphress', 0.014184658146673398), ('Lacey N. Montgomery', 0.014184658146673398), ('Massimo Ancona', 0.014100070845801876), ('Walter Cazzola', 0.014100070845801876), ('E. R. Fiala', 0.014083410746629322), ('D. H. Greene', 0.014083410746629322), ('O. Fries', 0.013916452401677467), ('S. Näher', 0.013916452401677467), ('G. A. Jones', 0.013916452401677467), ('J. Princen', 0.013916452401677467), ('J. Illingworth', 0.013916452401677467), ('J. Kittler', 0.013916452401677467), ('Jeffrey S Vitter', 0.013588329372412925), ('Bruno Dufour', 0.013564165951907778), ('Barbara G. Ryder', 0.013564165951907778), ('Gary Sevitsky', 0.013564165951907778), ('Luc Séméria', 0.013538341480570204), ('Koichi Sato', 0.013538341480570204), ('Giovanni De Micheli', 0.013538341480570204), ('Jennifer Parham', 0.013460095461564438), ('Donald Chinn', 0.013460095461564438), ('D. E. Stevenson', 0.013460095461564438), ('S. Wuytack', 0.01334122369503788), ('C. Ykman-Couvreur', 0.01334122369503788), ('F. Catthoor', 0.01334122369503788), ('Raphaël Clifford', 0.013333010813076102), ('Marek Sergot', 0.013333010813076102), ('J. Ghosh', 0.013291869991399391), ('S. K. Das', 0.013291869991399391), ('A. John', 0.013291869991399391), ('Stefan Rieger', 0.013213021762419262), ('Thomas Noll', 0.013213021762419262), ('Daniel Golovin', 0.013145365582594508), ('Matt Calder', 0.013115962155281892), ('Robert F. Cohen', 0.013115962155281892), ('Jessica Lanzoni', 0.013115962155281892), ('Neal Landry', 0.013115962155281892), ('Joelle Skaff', 0.013115962155281892), ('Geir Gundersen', 0.013075960358910491), ('Trond Steihaug', 0.013075960358910491), ('Sinan Kockara', 0.012930766871667134), ('Michael Brickenstein', 0.012889118092728778), ('Alexander Dreyer', 0.012889118092728778), ('Mugurel Ionut Andreica', 0.012875639846089977), ('Nicolae Tapus', 0.012875639846089977), ('Daniel Brandon', 0.01273140137191467), ('William H. Murray', 0.012633743377778416), ('Chris H. Pappas', 0.012633743377778416), ('K. Gilon', 0.012555127025577158), ('D. Peleg', 0.012555127025577158), ('Thierry Vallée', 0.012550897398764704), ('Susan Anderson-Freed', 0.01253675135038477), ('B. Monien', 0.01252756351278858), ('T. Ottmann', 0.01252756351278858), ('Tetsuo Asano', 0.012522050810230861), ('Thomas Roos', 0.012522050810230861), ('Emo Welzl', 0.012522050810230861), ('Takahiro Harada', 0.012504675810651922), ('Seiichi Koshizuka', 0.012504675810651922), ('Yoichiro Kawaguchi', 0.012504675810651922), ('Nadia Magnenat-Thalmann', 0.012461657413639419), ('Daniel Thalmann', 0.012461657413639419), ('Elaine Lisboa', 0.01222098069475293), ('Alexander Klippel', 0.012158471353701726), ('Stefan Hansen', 0.012158471353701726), ('Kai-Florian Richter', 0.012158471353701726), ('Stephan Winter', 0.012158471353701726), ('Nira Shafrir', 0.012077290386171481), ('Marek Karpinski', 0.012074357794807927), ('Srinivasa Rao Satti', 0.01204446704202034), ('Allen Van Gelder', 0.012026108739123463), ('Angela Bonifati', 0.011959888930339061), ('Alfredo Cuzzocrea', 0.011959888930339061), ('Adam L. Buchsbaum', 0.011899140183223736), ('Ely Porat', 0.0117381610278985), ('Mark Alan Darholt', 0.011664631785469571), ('O. Berkman', 0.011593588564038696), ('U. Vishkin', 0.011593588564038696), ('Christopher J.S. deSilva', 0.01153100422394799), ('Mike Alder', 0.01153100422394799), ('Yianni Attikiouzel', 0.01153100422394799), ('Dean Hendrix', 0.011450444986301848), ('Larry Barowski', 0.011450444986301848), ('Yat-Kin LAM', 0.011418763389213521), ('Qiang HUO', 0.011418763389213521), ('W. James Bradley', 0.011391199876424942), ('Saeed Behzadi', 0.011363612191808719), ('Ali A. Alesheikh', 0.011363612191808719), ('Mohammad R. Malek', 0.011363612191808719), ('Robert Bruce Findler', 0.011336186378633359), ('Shu-Yu Guo', 0.011336186378633359), ('Ron Zucker', 0.011249156876323425), ('Albert Ritzhaupt', 0.011249156876323425), ('Gu Yue-sheng', 0.011166238136688269), ('Zhu Ji-yi', 0.011166238136688269), ('Yang Jun', 0.011147862461495881), ('Andrew Schulman', 0.011147862461495881), ('Ralf Brown', 0.011147862461495881), ('David Maxey', 0.011147862461495881), ('F. K Zadeck', 0.011071622673436147), ('James Markham', 0.011011193531947962), ('Vasile Rus', 0.011011193531947962), ('E. E. Setliff', 0.010960139013258608), ('R. A. Rutenbar', 0.010960139013258608), ('Iavor S. Diatchki', 0.010734187894152479), ('Mark P. Jones', 0.010734187894152479), ('Greg Morrisett', 0.010693424897917582), ('T. Fermentel', 0.010536184741715051), ('C. Ykman-Couvreur F. Catthoor', 0.010536184741715051), ('Edgar G. Daylight', 0.010477025220268329), ('Arnout Vandecappelle', 0.010477025220268329), ('Daniel R Edelson', 0.01045508163736121), ('Yuriy Fofanov', 0.010419532401669778), ('André A.S. Danthine', 0.010382725961179028), ('Joseph Bremer', 0.010382725961179028), ('R. J. Lipton', 0.010311039796497008), ('S. C. Eisenstat', 0.010311039796497008), ('R. A. DeMillo', 0.010311039796497008), ('Ming-Yee Lai', 0.010293837757614261), ('Kevin Wilkinson', 0.010293837757614261), ('Vladimir Lanin', 0.010293837757614261), ('Robert R. Henry', 0.010293837757614261), ('Kenneth M. Whaley', 0.010293837757614261), ('Bruce Forstall', 0.010293837757614261), ('S. S. Hirschhorn', 0.010228587299480868), ('M. B. Hommel', 0.010228587299480868), ('C. Bures', 0.010228587299480868), ('Y. S. Kuo', 0.010104684876719292), ('S. -Y. Hwang', 0.010104684876719292), ('H. F. Hu', 0.010104684876719292), ('N. Santoro', 0.010022050810230864), ('Jorg-Rudiger Sack', 0.010022050810230864), ('Siu-Yeung Cho', 0.009955268333825993), ('Zheru Chi', 0.009955268333825993), ('Zhiyong Wang', 0.009955268333825993), ('Wan-Chi Siu', 0.009955268333825993), ('Rafael Vado Vírseda', 0.009942401847385913), ('Davide Sobrero', 0.00988934337031792), ('Daniel C. Wang', 0.009881289040160054), ('Andrew W. Appel', 0.009881289040160054), ('Jeff L. Korn', 0.009881289040160054), ('Christopher S. Serra', 0.009881289040160054), ('Vincenzo De Florio', 0.009795386765836897), ('Chris Blondia', 0.009795386765836897), ('Mitchell Waite', 0.009763864889654826), ('Thomer M. Gil', 0.009728732148271309), ('Massimiliano Poletto', 0.009728732148271309), ('Stuart Hirshfield', 0.009670511640961773), ('Esben Rune Hansen', 0.00966234575422926), ('Peter Tiedemann', 0.00966234575422926), ('Iain Milne', 0.009653329327472307), ('J. Aguilar-Saborit', 0.00960990227672505), ('P. Trancoso', 0.00960990227672505), ('V. Muntes-Mulero', 0.00960990227672505), ('J. L. Larriba-Pey', 0.00960990227672505), ('Harold N. Gabow', 0.009453704182730118), ('Thomas H. Spencer', 0.009453704182730118), ('Y. Kiyoki', 0.009210352150066962), ('K. Tanaka', 0.009210352150066962), ('H. Aiso', 0.009210352150066962), ('N. Kamibayashi', 0.009210352150066962), ('Ted Herman', 0.009179214616818032), ('Toshimitsu Masuzawa', 0.009179214616818032), ('Walter J. Savitch', 0.009146036116486247), ('Armando Solar-Lezama', 0.009126343162831032), ('Christopher Grant Jones', 0.009126343162831032), ('Rastislav Bodik', 0.009126343162831032), ('John W. Perry', 0.009119263060163323), ('Sanford Lee', 0.008983698454148585), ('Dieter Scheffner', 0.00890468454770105), ('Johann Christoph Freytag', 0.00890468454770105), ('Michael Schidlowsky', 0.00882705685013856), ('Gert Stølting Brodal', 0.008808681174946174), ('Jesper Larsson Träff', 0.008808681174946174), ('Cristos D. Zaroliagis', 0.008808681174946174), ('Arie Deursen', 0.008776057258135296), ('T. Kuipers', 0.008776057258135296), ('Lauri Malmi', 0.008577854298304429), ('Tia Newhall', 0.008563312293729275), ('Lisa Meeden', 0.008563312293729275), ('Michael Bruce-Lockhart', 0.008534857655126127), ('Pilu Crescenzi', 0.008534857655126127), ('Theodore Norvell', 0.008534857655126127), ('Michal Kratky', 0.008530964873332797), ('Vaclav Snasel', 0.008530964873332797), ('Jaroslav Pokorny', 0.008530964873332797), ('Pavel Zezula', 0.008530964873332797), ('Nora Reyes', 0.008482093317711988), ('Katrin Becker', 0.00838846035891049), ('Melissa Beacham', 0.00838846035891049), ('Hessah Alsaaran', 0.00838846035891049), ('Muhammad Hussain', 0.00838846035891049), ('G. Louchard', 0.008370084683718105), ('Claire Kenyon', 0.008370084683718105), ('R. Schott', 0.008370084683718105), ('Vladimir Kotlyar', 0.008370084683718105), ('Keshav Pingali', 0.008370084683718105), ('Paul Stodghill', 0.008370084683718105), ('Danny Kopec', 0.008370084683718105), ('Richard Close', 0.008370084683718105), ('Jim Aman', 0.008370084683718105), ('Prosenjit Bose', 0.008370084683718105), ('John Howat', 0.008370084683718105), ('Pat Morin', 0.008370084683718105), ('Amr F. Fahmy', 0.008333272720941396), ('Alan W. Biermann', 0.008333272720941396), ('André Yamba Yamba', 0.008322735345619173), ('Krister Ålander', 0.008322735345619173), ('Malin Ljungberg', 0.008322735345619173), ('Paolo Frasconi', 0.008250318696384472), ('Marco Gori', 0.008250318696384472), ('Alessandro Sperduti', 0.008250318696384472), ('Ruth M. Davies', 0.008222516182663533), (\"Robert M. O'Keefe\", 0.008222516182663533), ('Huw T. O. Davies', 0.008222516182663533), ('Bruno Lévy', 0.008184139801023877), ('Guillaume Caumon', 0.008184139801023877), ('Stéphane Conreaux', 0.008184139801023877), ('Xavier Cavin', 0.008184139801023877), ('Ilona Box', 0.00814853479186298), ('Briana Morrison', 0.00814853479186298), ('D. Suzanne Westbrook', 0.00814853479186298), ('David R. Chase', 0.008049571863205283), ('Mark Wegman', 0.008049571863205283), ('Johan Jeuring', 0.008033850429832476), ('Donald S. Fussell', 0.007991634962085093), ('K. R. Subramanian', 0.007991634962085093), ('John Beidler', 0.007889430064912453), ('John Meinke', 0.007889430064912453), ('Richard Johnsonbaugh', 0.007867627025577157), ('Marcus Schaefer', 0.007867627025577157), ('Pedro C. Diniz', 0.007630884601334733), ('Marcos K. Aguilera', 0.007419085270446817), ('Wojciech Golab', 0.007419085270446817), ('Mehul A. Shah', 0.007419085270446817), ('Martin Dietzfelbinger', 0.007408068202047745), ('Ryan Williams', 0.007220659396361783), ('R. J. Fateman', 0.007209687990627658), ('C. G. Ponder', 0.007209687990627658), ('John R. Gilbert', 0.0071979841684343), ('Timothy Peierls', 0.0071979841684343), ('Ankur Gupta', 0.00701185300739646), ('Rahul Shah', 0.00701185300739646), ('Michael Thonhauser', 0.006909603584061747), ('Gernot Schmoelzer', 0.006909603584061747), ('Christian Kreiner', 0.006909603584061747), ('Maged M. Michael', 0.006904442094070307), ('Michael L. Scott', 0.006904442094070307), ('Ian P. Gent', 0.006859266237539276), ('Chris Jefferson', 0.006859266237539276), ('Ian Miguel', 0.006859266237539276), ('Peter Nightingale', 0.006859266237539276), ('A. L. Buchsbaum', 0.006839472438820144), ('R. E. Tarjan', 0.006839472438820144), ('Sharif Elcott', 0.006811883782333914), ('Peter Schröder', 0.006811883782333914), ('N. Baloian', 0.006782939461031149), ('H. Breuer', 0.006782939461031149), ('W. Luther', 0.006782939461031149), ('Anurag Acharya', 0.006703418017051438), ('Huican Zhu', 0.006703418017051438), ('Kai Shen', 0.006703418017051438), ('Suzanne Westbrook', 0.006639041811842707), ('Quentin F. Stout', 0.006557772306621508), ('Darren L. De Zeeuw', 0.006557772306621508), ('Tamas I. Gombosi', 0.006557772306621508), ('Clinton P. T. Groth', 0.006557772306621508), ('Hal G. Marshall', 0.006557772306621508), ('Kenneth G. Powell', 0.006557772306621508), ('Ramana Juvvadi', 0.006530257843891264), ('Nieves R. Brisaboa', 0.0063260595264854), ('Susana Ladra', 0.0063260595264854), ('Stefan Langerman', 0.006050497054852125), ('Eric Price', 0.006050497054852125), ('Jorge Costa', 0.005989132302765723), ('João Raimundo', 0.005989132302765723), ('Ricardo Rocha', 0.005989132302765723), ('Larry Basenspiler', 0.005989132302765723), ('Thomas Hain', 0.005989132302765723), ('Ben King', 0.005989132302765723), ('Li Lian', 0.005909916453965049), ('Jun Ma', 0.005909916453965049), ('ZhuMin Chen', 0.005909916453965049), ('Ling Song', 0.005909916453965049), ('Eyal Kushilevitz', 0.005850704838756864), ('Rafail Ostrovsky', 0.005850704838756864), ('Yuval Rabani', 0.005850704838756864), ('Sekhar R. Sarukkai', 0.005833852799660134), ('Jerry Yan', 0.005833852799660134), ('Melisa Schmidt', 0.005833852799660134), ('William L. Hibbard', 0.005652141950950291), ('David A. Santek', 0.005652141950950291), ('Roy P. Pargas', 0.0055443199086299124), ('Samuel Bryfczynski', 0.0055443199086299124), ('Aditya K. Prasad', 0.0054843815031315885), ('Vivek V. Shende', 0.0054843815031315885), ('Igor L. Markov', 0.0054843815031315885), ('John P. Hayes', 0.0054843815031315885), ('Ketan N. Patel', 0.0054843815031315885), ('Clara Segura', 0.005285208704967705), ('Isabel Pita', 0.005285208704967705), ('Ana Isabel Saiz', 0.005285208704967705), ('Pablo Soler', 0.005285208704967705), ('Robert B. K. Dewar', 0.005243429541249423), ('Arthur Grand', 0.005243429541249423), ('T. Feng', 0.0052358968461219116), ('L.-C. Wang', 0.0052358968461219116), ('K.-T. Cheng', 0.0052358968461219116), ('A. C. -C. Lin', 0.0052358968461219116), ('Yoon Ho Kim', 0.005162408597003084), ('Soo Hong Kim', 0.005162408597003084), ('Dae Woong Rhee', 0.005162408597003084), ('Juno Chang', 0.005162408597003084), ('Sang Youg Han', 0.005162408597003084), ('Manuel Blum', 0.0051502559384359915), ('Will Evans', 0.0051502559384359915), ('Peter Gemmell', 0.0051502559384359915), ('Sampath Kannan', 0.0051502559384359915), ('Moni Naor', 0.0051502559384359915), ('Paris C. Kanellakis', 0.005087256400889821), ('B. Bergen', 0.005079921428330287), ('G. Wellein', 0.005079921428330287), ('F. Hülsemann', 0.005079921428330287), ('U. Rüde', 0.005079921428330287), ('Darka Mioc', 0.0050780685632936294), ('Francois Anton', 0.0050780685632936294), ('Christopher M. Gold', 0.0050780685632936294), ('Bernard Moulin', 0.0050780685632936294), ('Isaac Gelado', 0.004964693165974966), ('John H. Kelm', 0.004964693165974966), ('Shane Ryoo', 0.004964693165974966), ('Steven S. Lumetta', 0.004964693165974966), ('Nacho Navarro', 0.004964693165974966), ('Wen-mei W. Hwu', 0.004964693165974966), ('Richard Lau', 0.0048352558204808865), ('Heechang Kim', 0.0048352558204808865), ('Bruce Siegell', 0.0048352558204808865), ('Stephanie Demers', 0.0048352558204808865), ('Saverio Caminiti', 0.004798656112289533), ('Rossella Petreschi', 0.004798656112289533), ('Allen VanGelder', 0.004728024221838839), ('Stephen Curial', 0.004676651314870787), ('Peng Zhao', 0.004676651314870787), ('Jose Nelson Amaral', 0.004676651314870787), ('Yaoqing Gao', 0.004676651314870787), ('Shimin Cui', 0.004676651314870787), ('Raul Silvera', 0.004676651314870787), ('Roch Archambault', 0.004676651314870787), ('Haoyu Song', 0.004666380980014401), ('Jonathan Turner', 0.004666380980014401), ('John Lockwood', 0.004666380980014401), ('J. P. Calvez', 0.004660358976861697), ('D. Heller', 0.004660358976861697), ('F. Muller', 0.004660358976861697), ('O. Pasquier', 0.004660358976861697), ('Pablo Fernández', 0.004657193142418208), ('Salvador Muñoz', 0.004657193142418208), ('Antonio Murillo', 0.004657193142418208), ('David Teague', 0.004492996848062364), ('Christian Collberg', 0.004422716262665473), ('Clark Thomborson', 0.004422716262665473), ('Douglas Low', 0.004422716262665473), ('Mark Marron', 0.004390531002935677), ('Darko Stefanovic', 0.004390531002935677), ('Manuel Hermenegildo', 0.004390531002935677), ('Deepak Kapur', 0.004390531002935677), ('Mir Abolfazl Mostafavi', 0.004203418017051438), ('Leila Hashemi Beni', 0.004203418017051438), ('Marina Gavrilova', 0.004203418017051438), ('Kenil C. Cheng', 0.004187358430535835), ('Roland H. Yap', 0.004187358430535835), ('Antoine Vigneron', 0.004125924168526284), ('Jian Xia', 0.004125924168526284), ('J. A. Bubenko', 0.004022050810230863), ('S. Berild', 0.004022050810230863), ('E. Lindencrona-Ohlin', 0.004022050810230863), ('S. Nachmens', 0.004022050810230863), ('K P Agarwal', 0.003912720342632833), ('Gabriel Kalyon', 0.0037775635127885784), ('Thierry Massart', 0.0037775635127885784), ('Cédric Meuter', 0.0037775635127885784), ('Laurent Begin', 0.0037775635127885784), ('Börje Karlsson', 0.003758906796370668), ('Simone D. Barbosa', 0.003758906796370668), ('Antonio L. Furtado', 0.003758906796370668), ('Marco A. Casanova', 0.003758906796370668), ('Bradley W. James', 0.0036584144465944993), ('Kelemen', 0.0036584144465944993), ('Guy Blelloch', 0.0035732749867751702), ('Hal Burch', 0.0035732749867751702), ('Karl Crary', 0.0035732749867751702), ('Robert Harper', 0.0035732749867751702), ('Gary Miller', 0.0035732749867751702), ('Noel Walkington', 0.0035732749867751702), ('Percy Liang', 0.003375777798502864), ('Mukund Narasimhan', 0.003375777798502864), ('Michael Shilman', 0.003375777798502864), ('Paul Viola', 0.003375777798502864), ('Jack Beaton', 0.003247857261843766), ('Sae Young Jeong', 0.003247857261843766), ('Yingyu Xie', 0.003247857261843766), ('Jeffrey Stylos', 0.003247857261843766), ('Ron Cytron', 0.003022050810230863), ('Jeanne Ferrante', 0.003022050810230863), ('Barry K. Rosen', 0.003022050810230863), ('Mark N. Wegman', 0.003022050810230863), ('Carl Ollivier-Gooch', 0.0026591424601569995), ('Lori Freitag Diachin', 0.0026591424601569995), ('Mark S. Shephard', 0.0026591424601569995), ('Timothy Tautges', 0.0026591424601569995), ('Nina Aschenbrenner', 0.00260235500335776), ('Jorn Dreyer', 0.00260235500335776), ('Marcel Hahn', 0.00260235500335776), ('Ruben Jubeh', 0.00260235500335776), ('Christian Schneider', 0.00260235500335776), ('Albert Zundorf', 0.00260235500335776), ('Hans---Joachim Bungartz', 0.0024547479788079958), ('Wolfgang Eckhardt', 0.0024547479788079958), ('Miriam Mehl', 0.0024547479788079958), ('Tobias Weinzierl', 0.0024547479788079958), ('J. Berry', 0.0022233777159902488), ('N. Dean', 0.0022233777159902488), ('P. Fasel', 0.0022233777159902488), ('M. Goldberg', 0.0022233777159902488), ('E. Johnson', 0.0022233777159902488), ('J. MacCuish', 0.0022233777159902488), ('G. Shannon', 0.0022233777159902488), ('S. Skiena', 0.0022233777159902488), ('Olivier Devillers', 0.0017030396676002224), ('Vida Dujmovic', 0.0017030396676002224), ('Hazel Everett', 0.0017030396676002224), ('Xavier Goaoc', 0.0017030396676002224), ('Sylvain Lazard', 0.0017030396676002224), ('Hyeon-Suk Na', 0.0017030396676002224), ('Sylvain Petitjean', 0.0017030396676002224)]\n"
          ],
          "name": "stdout"
        }
      ]
    },
    {
      "cell_type": "code",
      "metadata": {
        "id": "UKG16Dvd5DjU",
        "colab_type": "code",
        "outputId": "5ec41747-ca85-4c51-ee12-261038becc0c",
        "colab": {
          "base_uri": "https://localhost:8080/",
          "height": 206
        }
      },
      "source": [
        "rank_df_m2 = pd.DataFrame(sorted_rank,columns=['author','rank'])\n",
        "# rank_df_m2['rank'] = rank_df_m2['rank']*10\n",
        "\n",
        "rank_df_m2[1:6]"
      ],
      "execution_count": 0,
      "outputs": [
        {
          "output_type": "execute_result",
          "data": {
            "text/html": [
              "<div>\n",
              "<style scoped>\n",
              "    .dataframe tbody tr th:only-of-type {\n",
              "        vertical-align: middle;\n",
              "    }\n",
              "\n",
              "    .dataframe tbody tr th {\n",
              "        vertical-align: top;\n",
              "    }\n",
              "\n",
              "    .dataframe thead th {\n",
              "        text-align: right;\n",
              "    }\n",
              "</style>\n",
              "<table border=\"1\" class=\"dataframe\">\n",
              "  <thead>\n",
              "    <tr style=\"text-align: right;\">\n",
              "      <th></th>\n",
              "      <th>author</th>\n",
              "      <th>rank</th>\n",
              "    </tr>\n",
              "  </thead>\n",
              "  <tbody>\n",
              "    <tr>\n",
              "      <th>1</th>\n",
              "      <td>Hanan Samet</td>\n",
              "      <td>0.869484</td>\n",
              "    </tr>\n",
              "    <tr>\n",
              "      <th>2</th>\n",
              "      <td>Roberto Tamassia</td>\n",
              "      <td>0.859329</td>\n",
              "    </tr>\n",
              "    <tr>\n",
              "      <th>3</th>\n",
              "      <td>Mark Allen Weiss</td>\n",
              "      <td>0.768435</td>\n",
              "    </tr>\n",
              "    <tr>\n",
              "      <th>4</th>\n",
              "      <td>Michael T. Goodrich</td>\n",
              "      <td>0.716650</td>\n",
              "    </tr>\n",
              "    <tr>\n",
              "      <th>5</th>\n",
              "      <td>Sartaj Sahni</td>\n",
              "      <td>0.593721</td>\n",
              "    </tr>\n",
              "  </tbody>\n",
              "</table>\n",
              "</div>"
            ],
            "text/plain": [
              "                author      rank\n",
              "1          Hanan Samet  0.869484\n",
              "2     Roberto Tamassia  0.859329\n",
              "3     Mark Allen Weiss  0.768435\n",
              "4  Michael T. Goodrich  0.716650\n",
              "5         Sartaj Sahni  0.593721"
            ]
          },
          "metadata": {
            "tags": []
          },
          "execution_count": 84
        }
      ]
    },
    {
      "cell_type": "code",
      "metadata": {
        "id": "BRxhQ05j5Mpb",
        "colab_type": "code",
        "colab": {}
      },
      "source": [
        "# list(set(sorted(df['n_ref'],reverse=True)))"
      ],
      "execution_count": 0,
      "outputs": []
    },
    {
      "cell_type": "code",
      "metadata": {
        "id": "GghJy96W696W",
        "colab_type": "code",
        "colab": {}
      },
      "source": [
        "# df.loc[df['n_ref']==100]"
      ],
      "execution_count": 0,
      "outputs": []
    },
    {
      "cell_type": "code",
      "metadata": {
        "id": "nPJ37TOM95en",
        "colab_type": "code",
        "colab": {}
      },
      "source": [
        "# corpus[251139]"
      ],
      "execution_count": 0,
      "outputs": []
    },
    {
      "cell_type": "code",
      "metadata": {
        "id": "sGi9wbsdC5i3",
        "colab_type": "code",
        "colab": {}
      },
      "source": [
        "def sublist(lst1, lst2):\n",
        "  ls1 = [element for element in lst1 if element in lst2]\n",
        "  #  ls2 = [element for element in lst2 if element in lst1]\n",
        "  #  return ls1 == ls2 and len(ls1)!=0\n",
        "  return len(ls1) == len(lst1)\n",
        "# sublist(query_unique,['a','data structure','c','database'])"
      ],
      "execution_count": 0,
      "outputs": []
    },
    {
      "cell_type": "code",
      "metadata": {
        "id": "nAx86j1l-AvI",
        "colab_type": "code",
        "colab": {}
      },
      "source": [
        "#P@n\n",
        "def Prec_n(n,rank_df):\n",
        "  rel_authors_from_retrieved = 0\n",
        "  for author in rank_df['author'][:n]:\n",
        "    a_docs = author_docs[author]\n",
        "    rel = False\n",
        "    for doc in a_docs:\n",
        "      rel = sublist(query_unique, docs_keywords[str(doc)])\n",
        "      if rel == True:\n",
        "        rel_authors_from_retrieved += 1\n",
        "        break\n",
        "  return rel_authors_from_retrieved/n"
      ],
      "execution_count": 0,
      "outputs": []
    },
    {
      "cell_type": "code",
      "metadata": {
        "id": "VfiV_O6lB-xV",
        "colab_type": "code",
        "outputId": "409e0a4c-3384-4757-8678-f0413081fe87",
        "colab": {
          "base_uri": "https://localhost:8080/",
          "height": 112
        }
      },
      "source": [
        "#P@n model 1,2\n",
        "N = [100,1700,2000]\n",
        "p_n_m1 = []\n",
        "for n in N:\n",
        "  p_n_m1.append(Prec_n(n,rank_df_m1))\n",
        "p_n_m2 = []\n",
        "for n in N:\n",
        "  p_n_m2.append(Prec_n(n,rank_df_m2))\n",
        "\n",
        "pd.DataFrame([p_n_m1,p_n_m2],columns=['P@N'+str(x) for x in range(len(N))],index=['Model 1','Model 2'])"
      ],
      "execution_count": 0,
      "outputs": [
        {
          "output_type": "execute_result",
          "data": {
            "text/html": [
              "<div>\n",
              "<style scoped>\n",
              "    .dataframe tbody tr th:only-of-type {\n",
              "        vertical-align: middle;\n",
              "    }\n",
              "\n",
              "    .dataframe tbody tr th {\n",
              "        vertical-align: top;\n",
              "    }\n",
              "\n",
              "    .dataframe thead th {\n",
              "        text-align: right;\n",
              "    }\n",
              "</style>\n",
              "<table border=\"1\" class=\"dataframe\">\n",
              "  <thead>\n",
              "    <tr style=\"text-align: right;\">\n",
              "      <th></th>\n",
              "      <th>P@N0</th>\n",
              "      <th>P@N1</th>\n",
              "      <th>P@N2</th>\n",
              "    </tr>\n",
              "  </thead>\n",
              "  <tbody>\n",
              "    <tr>\n",
              "      <th>Model 1</th>\n",
              "      <td>1.0</td>\n",
              "      <td>0.942941</td>\n",
              "      <td>0.8015</td>\n",
              "    </tr>\n",
              "    <tr>\n",
              "      <th>Model 2</th>\n",
              "      <td>1.0</td>\n",
              "      <td>0.942941</td>\n",
              "      <td>0.8015</td>\n",
              "    </tr>\n",
              "  </tbody>\n",
              "</table>\n",
              "</div>"
            ],
            "text/plain": [
              "         P@N0      P@N1    P@N2\n",
              "Model 1   1.0  0.942941  0.8015\n",
              "Model 2   1.0  0.942941  0.8015"
            ]
          },
          "metadata": {
            "tags": []
          },
          "execution_count": 117
        }
      ]
    },
    {
      "cell_type": "code",
      "metadata": {
        "id": "1KGY-JWG7WFG",
        "colab_type": "code",
        "colab": {}
      },
      "source": [
        "authors_unique\n",
        "#R@n\n",
        "def Rec_n(n,rank_df):\n",
        "  rel_authors_from_retrieved = 0\n",
        "  f_neg = 0\n",
        "  x_authors = [author for author in authors_unique if author not in rank_df_m1['author'][:n]] #n=5000\n",
        "  for author in x_authors:\n",
        "    a_docs = author_docs[author]\n",
        "    rel = False\n",
        "    for doc in a_docs:\n",
        "      rel = sublist(query_unique, docs_keywords[str(doc)])\n",
        "      if rel == True:\n",
        "        f_neg += 1\n",
        "        break\n",
        "  for author in rank_df['author'][:n]:\n",
        "    a_docs = author_docs[author]\n",
        "    rel = False\n",
        "    for doc in a_docs:\n",
        "      rel = sublist(query_unique, docs_keywords[str(doc)])\n",
        "      if rel == True:\n",
        "        rel_authors_from_retrieved += 1\n",
        "        break\n",
        "  return rel_authors_from_retrieved/(rel_authors_from_retrieved+f_neg)"
      ],
      "execution_count": 0,
      "outputs": []
    },
    {
      "cell_type": "code",
      "metadata": {
        "id": "QJrELvvLzTP8",
        "colab_type": "code",
        "outputId": "8da5811a-4bf8-449f-bb80-84110fe3d380",
        "colab": {
          "base_uri": "https://localhost:8080/",
          "height": 112
        }
      },
      "source": [
        "n=2000\n",
        "p_m1 = Prec_n(n,rank_df_m1)\n",
        "r_m1 = Rec_n(n,rank_df_m1)\n",
        "p_m2 = Prec_n(n,rank_df_m2)\n",
        "r_m2 = Rec_n(n,rank_df_m2)\n",
        "d_m1=[p_m1,r_m1,2*p_m1*r_m1/(p_m1+r_m1)]\n",
        "d_m2=[p_m2,r_m2,2*p_m2*r_m2/(p_m2+r_m2)]\n",
        "pd.DataFrame([d_m1,d_m2],columns=['Precison','Recall','F1-score'], index=['Model 1','Model 2'])"
      ],
      "execution_count": 0,
      "outputs": [
        {
          "output_type": "execute_result",
          "data": {
            "text/html": [
              "<div>\n",
              "<style scoped>\n",
              "    .dataframe tbody tr th:only-of-type {\n",
              "        vertical-align: middle;\n",
              "    }\n",
              "\n",
              "    .dataframe tbody tr th {\n",
              "        vertical-align: top;\n",
              "    }\n",
              "\n",
              "    .dataframe thead th {\n",
              "        text-align: right;\n",
              "    }\n",
              "</style>\n",
              "<table border=\"1\" class=\"dataframe\">\n",
              "  <thead>\n",
              "    <tr style=\"text-align: right;\">\n",
              "      <th></th>\n",
              "      <th>Precison</th>\n",
              "      <th>Recall</th>\n",
              "      <th>F1-score</th>\n",
              "    </tr>\n",
              "  </thead>\n",
              "  <tbody>\n",
              "    <tr>\n",
              "      <th>Model 1</th>\n",
              "      <td>0.8015</td>\n",
              "      <td>0.5</td>\n",
              "      <td>0.615828</td>\n",
              "    </tr>\n",
              "    <tr>\n",
              "      <th>Model 2</th>\n",
              "      <td>0.8015</td>\n",
              "      <td>0.5</td>\n",
              "      <td>0.615828</td>\n",
              "    </tr>\n",
              "  </tbody>\n",
              "</table>\n",
              "</div>"
            ],
            "text/plain": [
              "         Precison  Recall  F1-score\n",
              "Model 1    0.8015     0.5  0.615828\n",
              "Model 2    0.8015     0.5  0.615828"
            ]
          },
          "metadata": {
            "tags": []
          },
          "execution_count": 118
        }
      ]
    },
    {
      "cell_type": "code",
      "metadata": {
        "id": "HUMgOrb2JLCk",
        "colab_type": "code",
        "colab": {}
      },
      "source": [
        ""
      ],
      "execution_count": 0,
      "outputs": []
    },
    {
      "cell_type": "code",
      "metadata": {
        "id": "lSTxp7lDDBKS",
        "colab_type": "code",
        "colab": {}
      },
      "source": [
        ""
      ],
      "execution_count": 0,
      "outputs": []
    }
  ]
}